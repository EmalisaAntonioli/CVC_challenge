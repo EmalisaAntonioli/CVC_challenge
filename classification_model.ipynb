{
 "cells": [
  {
   "cell_type": "markdown",
   "metadata": {},
   "source": [
    "# Classification Model\n",
    "This model was not used for the final product. Here we train a classification model based on resnet34. The model ends up being able to predict whether it needs to steer left, steer right, brake or go straight ahead. This code no longer works because the required folder structure no longer exists."
   ]
  },
  {
   "cell_type": "code",
   "execution_count": null,
   "metadata": {},
   "outputs": [],
   "source": [
    "import os\n",
    "import shutil\n",
    "from fastai.vision.all import *\n",
    "\n",
    "from model import ScreenCapture\n",
    "from classification_model import GamepadSimulator"
   ]
  },
  {
   "cell_type": "markdown",
   "metadata": {},
   "source": [
    "We start by dividing the data into a train set and a validation set. Originally we also had the data divided into four folders, each representing a label: gas, steer_left, steer_right or break. This was done in the screen_grab.py file, but is no longer there as it is was not required for our final model."
   ]
  },
  {
   "cell_type": "code",
   "execution_count": null,
   "metadata": {},
   "outputs": [],
   "source": [
    "def create_validation_set(train_dir, val_dir, split_ratio=0.2):\n",
    "    # Create validation directory if it doesn't exist\n",
    "    os.makedirs(val_dir, exist_ok=True)\n",
    "\n",
    "    # Iterate over each label folder in the train directory\n",
    "    for label in os.listdir(train_dir):\n",
    "        label_path = os.path.join(train_dir, label)\n",
    "\n",
    "        # Check if it is a directory (label folder)\n",
    "        if os.path.isdir(label_path):\n",
    "            images = os.listdir(label_path)\n",
    "\n",
    "            # Calculate the number of validation images (20% of total)\n",
    "            val_size = int(len(images) * split_ratio)\n",
    "\n",
    "            # Select the validation images\n",
    "            val_images = images[:val_size]\n",
    "\n",
    "            # Create label subdirectory in the validation directory\n",
    "            os.makedirs(os.path.join(val_dir, label), exist_ok=True)\n",
    "\n",
    "            # Move validation images to validation directory\n",
    "            for image in val_images:\n",
    "                shutil.move(os.path.join(label_path, image), os.path.join(val_dir, label, image))\n",
    "\n",
    "if __name__ == \"__main__\":\n",
    "    # Define the train directory and the validation directory\n",
    "    train_directory = './screen_caps/train'  \n",
    "    val_directory = './screen_caps/valid'      \n",
    "\n",
    "    # Create the validation set\n",
    "    create_validation_set(train_directory, val_directory, split_ratio=0.2)\n"
   ]
  },
  {
   "cell_type": "markdown",
   "metadata": {},
   "source": [
    "We created a simple model based on resnet34. We first resize the images for uniformity and apply some simple transformations. We then train the model for 10 epochs with a batch size of 64,"
   ]
  },
  {
   "cell_type": "code",
   "execution_count": null,
   "metadata": {},
   "outputs": [],
   "source": [
    "from fastai.vision.all import *\n",
    "\n",
    "path = Path(\"./screen_caps\")\n",
    "\n",
    "# Create a DataLoader for training\n",
    "dls = ImageDataLoaders.from_folder(path, train='train', valid='valid', \n",
    "                                   item_tfms=Resize(224), batch_tfms=aug_transforms(), \n",
    "                                   bs=64)\n",
    "\n",
    "# Define the model using FastAI's `cnn_learner` function\n",
    "learner = cnn_learner(dls, resnet34, metrics=accuracy)\n",
    "\n",
    "\n",
    "# Train the model\n",
    "learner.fine_tune(10) \n",
    "\n",
    "learner.save('model')"
   ]
  },
  {
   "cell_type": "markdown",
   "metadata": {},
   "source": [
    "Next up we use this model to make predictions that can be used to play the game."
   ]
  },
  {
   "cell_type": "code",
   "execution_count": null,
   "metadata": {},
   "outputs": [],
   "source": [
    "def load_model():\n",
    "    \"\"\"Load the trained model\"\"\"\n",
    "    learner = cnn_learner(dls, resnet34, metrics=accuracy)\n",
    "    learner.load('model') \n",
    "    return learner\n",
    "\n",
    "def drive_game(learner, screen_capture, gamepad_simulator, duration=60):\n",
    "    \"\"\"Use the model to predict actions and simulate gamepad inputs\"\"\"\n",
    "    start_time = time.time()\n",
    "    \n",
    "    while time.time() - start_time < duration:\n",
    "        # Capture the game screen\n",
    "        frame = screen_capture.capture_frame()\n",
    "        \n",
    "        # Convert the frame to a PIL image\n",
    "        pil_img = PILImage.create(frame)\n",
    "        if pil_img.mode == 'RGBA':\n",
    "            pil_img = pil_img.convert('RGB')\n",
    "        \n",
    "        # Predict the next action using the trained model\n",
    "        pred, _, _ = learner.predict(pil_img)\n",
    "        \n",
    "        # Extract the predicted action (you can modify this part to map to your controller actions)\n",
    "        action = pred\n",
    "        print(f\"Predicted Action: {action}\")\n",
    "        \n",
    "        # Simulate the controller inputs based on the prediction (implement your logic)\n",
    "        if action == 'steer_left':\n",
    "            gamepad_simulator.set_input(lx=-1, lt=0, rt=0)\n",
    "        elif action == 'steer_right':\n",
    "            gamepad_simulator.set_input(lx=1, lt=0, rt=0)\n",
    "        elif action == 'brake':\n",
    "            gamepad_simulator.set_input(lx=0, lt=1, rt=0)\n",
    "        elif action == 'gas':\n",
    "            gamepad_simulator.set_input(lx=0, lt=0, rt=1)\n",
    "        \n",
    "        # Sleep for a short period to control the simulation speed\n",
    "        time.sleep(0.1)\n",
    "\n",
    "if __name__ == '__main__':\n",
    "    # Initialize components\n",
    "    screen_capture = ScreenCapture()\n",
    "    gamepad_simulator = GamepadSimulator()\n",
    "    learner = load_model()\n",
    "\n",
    "    # Start driving the game for 60 seconds (you can adjust the duration)\n",
    "    drive_game(learner, screen_capture, gamepad_simulator, duration=60)\n"
   ]
  },
  {
   "cell_type": "markdown",
   "metadata": {},
   "source": [
    "This model is now able to choose one of four actions: gas, steer_left, steer_right or break. We however decided to go with joystick inputs, which requires a regression model. Therefore, this model got abandoned."
   ]
  }
 ],
 "metadata": {
  "kernelspec": {
   "display_name": "CVC_challenge_env",
   "language": "python",
   "name": "python3"
  },
  "language_info": {
   "name": "python",
   "version": "3.11.4"
  }
 },
 "nbformat": 4,
 "nbformat_minor": 2
}
