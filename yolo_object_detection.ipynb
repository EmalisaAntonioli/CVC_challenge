{
 "cells": [
  {
   "cell_type": "markdown",
   "metadata": {},
   "source": [
    "Install yolo"
   ]
  },
  {
   "cell_type": "code",
   "execution_count": 3,
   "metadata": {},
   "outputs": [
    {
     "name": "stdout",
     "output_type": "stream",
     "text": [
      "Requirement already satisfied: ultralytics in c:\\users\\gebruiker\\onedrive - thomas more\\bureaublad\\cvc_challenge\\cvc_challenge_env\\lib\\site-packages (8.3.18)\n",
      "Requirement already satisfied: numpy>=1.23.0 in c:\\users\\gebruiker\\onedrive - thomas more\\bureaublad\\cvc_challenge\\cvc_challenge_env\\lib\\site-packages (from ultralytics) (2.1.2)\n",
      "Requirement already satisfied: matplotlib>=3.3.0 in c:\\users\\gebruiker\\onedrive - thomas more\\bureaublad\\cvc_challenge\\cvc_challenge_env\\lib\\site-packages (from ultralytics) (3.9.2)\n",
      "Requirement already satisfied: opencv-python>=4.6.0 in c:\\users\\gebruiker\\onedrive - thomas more\\bureaublad\\cvc_challenge\\cvc_challenge_env\\lib\\site-packages (from ultralytics) (4.10.0.84)\n",
      "Requirement already satisfied: pillow>=7.1.2 in c:\\users\\gebruiker\\onedrive - thomas more\\bureaublad\\cvc_challenge\\cvc_challenge_env\\lib\\site-packages (from ultralytics) (11.0.0)\n",
      "Requirement already satisfied: pyyaml>=5.3.1 in c:\\users\\gebruiker\\onedrive - thomas more\\bureaublad\\cvc_challenge\\cvc_challenge_env\\lib\\site-packages (from ultralytics) (6.0.2)\n",
      "Requirement already satisfied: requests>=2.23.0 in c:\\users\\gebruiker\\onedrive - thomas more\\bureaublad\\cvc_challenge\\cvc_challenge_env\\lib\\site-packages (from ultralytics) (2.32.3)\n",
      "Requirement already satisfied: scipy>=1.4.1 in c:\\users\\gebruiker\\onedrive - thomas more\\bureaublad\\cvc_challenge\\cvc_challenge_env\\lib\\site-packages (from ultralytics) (1.14.1)\n",
      "Requirement already satisfied: torch>=1.8.0 in c:\\users\\gebruiker\\onedrive - thomas more\\bureaublad\\cvc_challenge\\cvc_challenge_env\\lib\\site-packages (from ultralytics) (2.5.0)\n",
      "Requirement already satisfied: torchvision>=0.9.0 in c:\\users\\gebruiker\\onedrive - thomas more\\bureaublad\\cvc_challenge\\cvc_challenge_env\\lib\\site-packages (from ultralytics) (0.20.0)\n",
      "Requirement already satisfied: tqdm>=4.64.0 in c:\\users\\gebruiker\\onedrive - thomas more\\bureaublad\\cvc_challenge\\cvc_challenge_env\\lib\\site-packages (from ultralytics) (4.66.5)\n",
      "Requirement already satisfied: psutil in c:\\users\\gebruiker\\onedrive - thomas more\\bureaublad\\cvc_challenge\\cvc_challenge_env\\lib\\site-packages (from ultralytics) (6.1.0)\n",
      "Requirement already satisfied: py-cpuinfo in c:\\users\\gebruiker\\onedrive - thomas more\\bureaublad\\cvc_challenge\\cvc_challenge_env\\lib\\site-packages (from ultralytics) (9.0.0)\n",
      "Requirement already satisfied: pandas>=1.1.4 in c:\\users\\gebruiker\\onedrive - thomas more\\bureaublad\\cvc_challenge\\cvc_challenge_env\\lib\\site-packages (from ultralytics) (2.2.3)\n",
      "Requirement already satisfied: seaborn>=0.11.0 in c:\\users\\gebruiker\\onedrive - thomas more\\bureaublad\\cvc_challenge\\cvc_challenge_env\\lib\\site-packages (from ultralytics) (0.13.2)\n",
      "Requirement already satisfied: ultralytics-thop>=2.0.0 in c:\\users\\gebruiker\\onedrive - thomas more\\bureaublad\\cvc_challenge\\cvc_challenge_env\\lib\\site-packages (from ultralytics) (2.0.9)\n",
      "Requirement already satisfied: contourpy>=1.0.1 in c:\\users\\gebruiker\\onedrive - thomas more\\bureaublad\\cvc_challenge\\cvc_challenge_env\\lib\\site-packages (from matplotlib>=3.3.0->ultralytics) (1.3.0)\n",
      "Requirement already satisfied: cycler>=0.10 in c:\\users\\gebruiker\\onedrive - thomas more\\bureaublad\\cvc_challenge\\cvc_challenge_env\\lib\\site-packages (from matplotlib>=3.3.0->ultralytics) (0.12.1)\n",
      "Requirement already satisfied: fonttools>=4.22.0 in c:\\users\\gebruiker\\onedrive - thomas more\\bureaublad\\cvc_challenge\\cvc_challenge_env\\lib\\site-packages (from matplotlib>=3.3.0->ultralytics) (4.54.1)\n",
      "Requirement already satisfied: kiwisolver>=1.3.1 in c:\\users\\gebruiker\\onedrive - thomas more\\bureaublad\\cvc_challenge\\cvc_challenge_env\\lib\\site-packages (from matplotlib>=3.3.0->ultralytics) (1.4.7)\n",
      "Requirement already satisfied: packaging>=20.0 in c:\\users\\gebruiker\\onedrive - thomas more\\bureaublad\\cvc_challenge\\cvc_challenge_env\\lib\\site-packages (from matplotlib>=3.3.0->ultralytics) (24.1)\n",
      "Requirement already satisfied: pyparsing>=2.3.1 in c:\\users\\gebruiker\\onedrive - thomas more\\bureaublad\\cvc_challenge\\cvc_challenge_env\\lib\\site-packages (from matplotlib>=3.3.0->ultralytics) (3.2.0)\n",
      "Requirement already satisfied: python-dateutil>=2.7 in c:\\users\\gebruiker\\onedrive - thomas more\\bureaublad\\cvc_challenge\\cvc_challenge_env\\lib\\site-packages (from matplotlib>=3.3.0->ultralytics) (2.9.0.post0)\n",
      "Requirement already satisfied: pytz>=2020.1 in c:\\users\\gebruiker\\onedrive - thomas more\\bureaublad\\cvc_challenge\\cvc_challenge_env\\lib\\site-packages (from pandas>=1.1.4->ultralytics) (2024.2)\n",
      "Requirement already satisfied: tzdata>=2022.7 in c:\\users\\gebruiker\\onedrive - thomas more\\bureaublad\\cvc_challenge\\cvc_challenge_env\\lib\\site-packages (from pandas>=1.1.4->ultralytics) (2024.2)\n",
      "Requirement already satisfied: charset-normalizer<4,>=2 in c:\\users\\gebruiker\\onedrive - thomas more\\bureaublad\\cvc_challenge\\cvc_challenge_env\\lib\\site-packages (from requests>=2.23.0->ultralytics) (3.4.0)\n",
      "Requirement already satisfied: idna<4,>=2.5 in c:\\users\\gebruiker\\onedrive - thomas more\\bureaublad\\cvc_challenge\\cvc_challenge_env\\lib\\site-packages (from requests>=2.23.0->ultralytics) (3.10)\n",
      "Requirement already satisfied: urllib3<3,>=1.21.1 in c:\\users\\gebruiker\\onedrive - thomas more\\bureaublad\\cvc_challenge\\cvc_challenge_env\\lib\\site-packages (from requests>=2.23.0->ultralytics) (2.2.3)\n",
      "Requirement already satisfied: certifi>=2017.4.17 in c:\\users\\gebruiker\\onedrive - thomas more\\bureaublad\\cvc_challenge\\cvc_challenge_env\\lib\\site-packages (from requests>=2.23.0->ultralytics) (2024.8.30)\n",
      "Requirement already satisfied: filelock in c:\\users\\gebruiker\\onedrive - thomas more\\bureaublad\\cvc_challenge\\cvc_challenge_env\\lib\\site-packages (from torch>=1.8.0->ultralytics) (3.16.1)\n",
      "Requirement already satisfied: typing-extensions>=4.8.0 in c:\\users\\gebruiker\\onedrive - thomas more\\bureaublad\\cvc_challenge\\cvc_challenge_env\\lib\\site-packages (from torch>=1.8.0->ultralytics) (4.12.2)\n",
      "Requirement already satisfied: networkx in c:\\users\\gebruiker\\onedrive - thomas more\\bureaublad\\cvc_challenge\\cvc_challenge_env\\lib\\site-packages (from torch>=1.8.0->ultralytics) (3.4.1)\n",
      "Requirement already satisfied: jinja2 in c:\\users\\gebruiker\\onedrive - thomas more\\bureaublad\\cvc_challenge\\cvc_challenge_env\\lib\\site-packages (from torch>=1.8.0->ultralytics) (3.1.4)\n",
      "Requirement already satisfied: fsspec in c:\\users\\gebruiker\\onedrive - thomas more\\bureaublad\\cvc_challenge\\cvc_challenge_env\\lib\\site-packages (from torch>=1.8.0->ultralytics) (2024.9.0)\n",
      "Requirement already satisfied: setuptools in c:\\users\\gebruiker\\onedrive - thomas more\\bureaublad\\cvc_challenge\\cvc_challenge_env\\lib\\site-packages (from torch>=1.8.0->ultralytics) (75.2.0)\n",
      "Requirement already satisfied: sympy==1.13.1 in c:\\users\\gebruiker\\onedrive - thomas more\\bureaublad\\cvc_challenge\\cvc_challenge_env\\lib\\site-packages (from torch>=1.8.0->ultralytics) (1.13.1)\n",
      "Requirement already satisfied: mpmath<1.4,>=1.1.0 in c:\\users\\gebruiker\\onedrive - thomas more\\bureaublad\\cvc_challenge\\cvc_challenge_env\\lib\\site-packages (from sympy==1.13.1->torch>=1.8.0->ultralytics) (1.3.0)\n",
      "Requirement already satisfied: colorama in c:\\users\\gebruiker\\onedrive - thomas more\\bureaublad\\cvc_challenge\\cvc_challenge_env\\lib\\site-packages (from tqdm>=4.64.0->ultralytics) (0.4.6)\n",
      "Requirement already satisfied: six>=1.5 in c:\\users\\gebruiker\\onedrive - thomas more\\bureaublad\\cvc_challenge\\cvc_challenge_env\\lib\\site-packages (from python-dateutil>=2.7->matplotlib>=3.3.0->ultralytics) (1.16.0)\n",
      "Requirement already satisfied: MarkupSafe>=2.0 in c:\\users\\gebruiker\\onedrive - thomas more\\bureaublad\\cvc_challenge\\cvc_challenge_env\\lib\\site-packages (from jinja2->torch>=1.8.0->ultralytics) (3.0.2)\n",
      "Note: you may need to restart the kernel to use updated packages.\n"
     ]
    }
   ],
   "source": [
    "pip install ultralytics"
   ]
  },
  {
   "cell_type": "code",
   "execution_count": 6,
   "metadata": {},
   "outputs": [
    {
     "name": "stdout",
     "output_type": "stream",
     "text": [
      "# Ultralytics YOLO 🚀, AGPL-3.0 license\n",
      "# COCO128 dataset https://www.kaggle.com/datasets/ultralytics/coco128 (first 128 images from COCO train2017) by Ultralytics\n",
      "# Documentation: https://docs.ultralytics.com/datasets/detect/coco/\n",
      "# Example usage: yolo train data=coco128.yaml\n",
      "# parent\n",
      "# ├── ultralytics\n",
      "# └── datasets\n",
      "#     └── coco128  ← downloads here (7 MB)\n",
      "\n",
      "# Train/val/test sets as 1) dir: path/to/imgs, 2) file: path/to/imgs.txt, or 3) list: [path/to/imgs1, path/to/imgs2, ..]\n",
      "path: ../datasets/coco128 # dataset root dir\n",
      "train: images/train2017 # train images (relative to 'path') 128 images\n",
      "val: images/train2017 # val images (relative to 'path') 128 images\n",
      "test: # test images (optional)\n",
      "\n",
      "# Classes\n",
      "names:\n",
      "  2: car\n",
      "  5: bus\n",
      "  7: truck\n",
      "  \n",
      "\n",
      "# Download script/URL (optional)\n",
      "download: https://github.com/ultralytics/assets/releases/download/v0.0.0/coco128.zip\n",
      "\n"
     ]
    }
   ],
   "source": [
    "with open('CVC_challenge_env\\\\Lib\\\\site-packages\\\\ultralytics\\\\cfg\\\\datasets\\\\coco128.yaml', 'r', encoding='utf-8') as file:\n",
    "    content = file.read()\n",
    "    print(content)\n"
   ]
  },
  {
   "cell_type": "markdown",
   "metadata": {},
   "source": [
    "recognision on image"
   ]
  },
  {
   "cell_type": "code",
   "execution_count": 5,
   "metadata": {},
   "outputs": [
    {
     "name": "stderr",
     "output_type": "stream",
     "text": [
      "Traceback (most recent call last):\n",
      "  File \"<frozen runpy>\", line 198, in _run_module_as_main\n",
      "  File \"<frozen runpy>\", line 88, in _run_code\n",
      "  File \"c:\\Users\\Gebruiker\\OneDrive - Thomas More\\Bureaublad\\CVC_challenge\\CVC_challenge_env\\Scripts\\yolo.exe\\__main__.py\", line 7, in <module>\n",
      "  File \"c:\\Users\\Gebruiker\\OneDrive - Thomas More\\Bureaublad\\CVC_challenge\\CVC_challenge_env\\Lib\\site-packages\\ultralytics\\cfg\\__init__.py\", line 754, in entrypoint\n",
      "    check_dict_alignment(full_args_dict, {a: \"\"})\n",
      "  File \"c:\\Users\\Gebruiker\\OneDrive - Thomas More\\Bureaublad\\CVC_challenge\\CVC_challenge_env\\Lib\\site-packages\\ultralytics\\cfg\\__init__.py\", line 436, in check_dict_alignment\n",
      "    raise SyntaxError(string + CLI_HELP_MSG) from e\n",
      "SyntaxError: '\u001b[31m\u001b[1mand\u001b[0m' is not a valid YOLO argument. \n",
      "\n",
      "    Arguments received: ['yolo', 'predict', 'model=yolo11s.pt', \"source='image.jpg'\", 'conf=0.5', 'iou=0.5', '#threshold', '=', '0.5', 'and', 'non-max', 'suppression', '=', '0.5']. Ultralytics 'yolo' commands use the following syntax:\n",
      "\n",
      "        yolo TASK MODE ARGS\n",
      "\n",
      "        Where   TASK (optional) is one of {'segment', 'classify', 'obb', 'pose', 'detect'}\n",
      "                MODE (required) is one of {'predict', 'train', 'export', 'benchmark', 'val', 'track'}\n",
      "                ARGS (optional) are any number of custom 'arg=value' pairs like 'imgsz=320' that override defaults.\n",
      "                    See all ARGS at https://docs.ultralytics.com/usage/cfg or with 'yolo cfg'\n",
      "\n",
      "    1. Train a detection model for 10 epochs with an initial learning_rate of 0.01\n",
      "        yolo train data=coco8.yaml model=yolo11n.pt epochs=10 lr0=0.01\n",
      "\n",
      "    2. Predict a YouTube video using a pretrained segmentation model at image size 320:\n",
      "        yolo predict model=yolo11n-seg.pt source='https://youtu.be/LNwODJXcvt4' imgsz=320\n",
      "\n",
      "    3. Val a pretrained detection model at batch-size 1 and image size 640:\n",
      "        yolo val model=yolo11n.pt data=coco8.yaml batch=1 imgsz=640\n",
      "\n",
      "    4. Export a YOLO11n classification model to ONNX format at image size 224 by 128 (no TASK required)\n",
      "        yolo export model=yolo11n-cls.pt format=onnx imgsz=224,128\n",
      "    \n",
      "    5. Streamlit real-time webcam inference GUI\n",
      "        yolo streamlit-predict\n",
      "        \n",
      "    6. Run special commands:\n",
      "        yolo help\n",
      "        yolo checks\n",
      "        yolo version\n",
      "        yolo settings\n",
      "        yolo copy-cfg\n",
      "        yolo cfg\n",
      "\n",
      "    Docs: https://docs.ultralytics.com\n",
      "    Community: https://community.ultralytics.com\n",
      "    GitHub: https://github.com/ultralytics/ultralytics\n",
      "    \n"
     ]
    }
   ],
   "source": [
    "!yolo predict model=yolo11s.pt source='image.jpg' conf=0.5 iou=0.5 #threshold = 0.5 and non-max suppression = 0.5"
   ]
  },
  {
   "cell_type": "code",
   "execution_count": 6,
   "metadata": {},
   "outputs": [
    {
     "name": "stdout",
     "output_type": "stream",
     "text": [
      "Ultralytics 8.3.18 🚀 Python-3.12.0 torch-2.5.0+cpu CPU (11th Gen Intel Core(TM) i7-1165G7 2.80GHz)\n",
      "YOLO11s-seg summary (fused): 265 layers, 10,097,776 parameters, 0 gradients, 35.5 GFLOPs\n",
      "\n",
      "image 1/1 c:\\Users\\Gebruiker\\OneDrive - Thomas More\\Bureaublad\\CVC_challenge\\image.jpg: 416x640 3 cars, 269.8ms\n",
      "Speed: 5.2ms preprocess, 269.8ms inference, 15.2ms postprocess per image at shape (1, 3, 416, 640)\n",
      "Results saved to \u001b[1mc:\\Users\\Gebruiker\\OneDrive - Thomas More\\Bureaublad\\CVC_challenge\\runs\\segment\\predict2\u001b[0m\n",
      "💡 Learn more at https://docs.ultralytics.com/modes/predict\n"
     ]
    }
   ],
   "source": [
    "# segmentation\n",
    "# !yolo task=segment mode=predict model=yolo11s-seg.pt source='image.jpg'"
   ]
  },
  {
   "cell_type": "markdown",
   "metadata": {},
   "source": [
    "Custom yolo"
   ]
  },
  {
   "cell_type": "code",
   "execution_count": 4,
   "metadata": {},
   "outputs": [
    {
     "name": "stdout",
     "output_type": "stream",
     "text": [
      "Ultralytics 8.3.18 🚀 Python-3.12.0 torch-2.5.0+cpu CPU (11th Gen Intel Core(TM) i7-1165G7 2.80GHz)\n",
      "\u001b[34m\u001b[1mengine\\trainer: \u001b[0mtask=detect, mode=train, model=yolo11s.pt, data=CVC_v1i_yolov11/data.yaml, epochs=5, time=None, patience=100, batch=16, imgsz=640, save=True, save_period=-1, cache=False, device=None, workers=8, project=None, name=train10, exist_ok=False, pretrained=True, optimizer=auto, verbose=True, seed=0, deterministic=True, single_cls=False, rect=False, cos_lr=False, close_mosaic=10, resume=False, amp=True, fraction=1.0, profile=False, freeze=None, multi_scale=False, overlap_mask=True, mask_ratio=4, dropout=0.0, val=True, split=val, save_json=False, save_hybrid=False, conf=None, iou=0.7, max_det=300, half=False, dnn=False, plots=True, source=None, vid_stride=1, stream_buffer=False, visualize=False, augment=False, agnostic_nms=False, classes=None, retina_masks=False, embed=None, show=False, save_frames=False, save_txt=False, save_conf=False, save_crop=False, show_labels=True, show_conf=True, show_boxes=True, line_width=None, format=torchscript, keras=False, optimize=False, int8=False, dynamic=False, simplify=True, opset=None, workspace=4, nms=False, lr0=0.01, lrf=0.01, momentum=0.937, weight_decay=0.0005, warmup_epochs=3.0, warmup_momentum=0.8, warmup_bias_lr=0.1, box=7.5, cls=0.5, dfl=1.5, pose=12.0, kobj=1.0, label_smoothing=0.0, nbs=64, hsv_h=0.015, hsv_s=0.7, hsv_v=0.4, degrees=0.0, translate=0.1, scale=0.5, shear=0.0, perspective=0.0, flipud=0.0, fliplr=0.5, bgr=0.0, mosaic=1.0, mixup=0.0, copy_paste=0.0, copy_paste_mode=flip, auto_augment=randaugment, erasing=0.4, crop_fraction=1.0, cfg=None, tracker=botsort.yaml, save_dir=c:\\Users\\Gebruiker\\OneDrive - Thomas More\\Bureaublad\\CVC_challenge\\runs\\detect\\train10\n",
      "Downloading https://ultralytics.com/assets/Arial.ttf to 'C:\\Users\\Gebruiker\\AppData\\Roaming\\Ultralytics\\Arial.ttf'...\n",
      "Overriding model.yaml nc=80 with nc=2\n",
      "\n",
      "                   from  n    params  module                                       arguments                     \n",
      "  0                  -1  1       928  ultralytics.nn.modules.conv.Conv             [3, 32, 3, 2]                 \n",
      "  1                  -1  1     18560  ultralytics.nn.modules.conv.Conv             [32, 64, 3, 2]                \n",
      "  2                  -1  1     26080  ultralytics.nn.modules.block.C3k2            [64, 128, 1, False, 0.25]     \n",
      "  3                  -1  1    147712  ultralytics.nn.modules.conv.Conv             [128, 128, 3, 2]              \n",
      "  4                  -1  1    103360  ultralytics.nn.modules.block.C3k2            [128, 256, 1, False, 0.25]    \n",
      "  5                  -1  1    590336  ultralytics.nn.modules.conv.Conv             [256, 256, 3, 2]              \n",
      "  6                  -1  1    346112  ultralytics.nn.modules.block.C3k2            [256, 256, 1, True]           \n",
      "  7                  -1  1   1180672  ultralytics.nn.modules.conv.Conv             [256, 512, 3, 2]              \n",
      "  8                  -1  1   1380352  ultralytics.nn.modules.block.C3k2            [512, 512, 1, True]           \n",
      "  9                  -1  1    656896  ultralytics.nn.modules.block.SPPF            [512, 512, 5]                 \n",
      " 10                  -1  1    990976  ultralytics.nn.modules.block.C2PSA           [512, 512, 1]                 \n",
      " 11                  -1  1         0  torch.nn.modules.upsampling.Upsample         [None, 2, 'nearest']          \n",
      " 12             [-1, 6]  1         0  ultralytics.nn.modules.conv.Concat           [1]                           \n",
      " 13                  -1  1    443776  ultralytics.nn.modules.block.C3k2            [768, 256, 1, False]          \n",
      " 14                  -1  1         0  torch.nn.modules.upsampling.Upsample         [None, 2, 'nearest']          \n",
      " 15             [-1, 4]  1         0  ultralytics.nn.modules.conv.Concat           [1]                           \n",
      " 16                  -1  1    127680  ultralytics.nn.modules.block.C3k2            [512, 128, 1, False]          \n",
      " 17                  -1  1    147712  ultralytics.nn.modules.conv.Conv             [128, 128, 3, 2]              \n",
      " 18            [-1, 13]  1         0  ultralytics.nn.modules.conv.Concat           [1]                           \n",
      " 19                  -1  1    345472  ultralytics.nn.modules.block.C3k2            [384, 256, 1, False]          \n",
      " 20                  -1  1    590336  ultralytics.nn.modules.conv.Conv             [256, 256, 3, 2]              \n",
      " 21            [-1, 10]  1         0  ultralytics.nn.modules.conv.Concat           [1]                           \n",
      " 22                  -1  1   1511424  ultralytics.nn.modules.block.C3k2            [768, 512, 1, True]           \n",
      " 23        [16, 19, 22]  1    820182  ultralytics.nn.modules.head.Detect           [2, [128, 256, 512]]          \n",
      "YOLO11s summary: 319 layers, 9,428,566 parameters, 9,428,550 gradients, 21.6 GFLOPs\n",
      "\n",
      "Transferred 493/499 items from pretrained weights\n",
      "Freezing layer 'model.23.dfl.conv.weight'\n",
      "\u001b[34m\u001b[1mtrain: \u001b[0mNew cache created: C:\\Users\\Gebruiker\\OneDrive - Thomas More\\Bureaublad\\CVC_challenge\\CVC_v1i_yolov11\\train\\labels.cache\n",
      "\u001b[34m\u001b[1mval: \u001b[0mNew cache created: C:\\Users\\Gebruiker\\OneDrive - Thomas More\\Bureaublad\\CVC_challenge\\CVC_v1i_yolov11\\valid\\labels.cache\n",
      "Plotting labels to c:\\Users\\Gebruiker\\OneDrive - Thomas More\\Bureaublad\\CVC_challenge\\runs\\detect\\train10\\labels.jpg... \n",
      "\u001b[34m\u001b[1moptimizer:\u001b[0m 'optimizer=auto' found, ignoring 'lr0=0.01' and 'momentum=0.937' and determining best 'optimizer', 'lr0' and 'momentum' automatically... \n",
      "\u001b[34m\u001b[1moptimizer:\u001b[0m AdamW(lr=0.001667, momentum=0.9) with parameter groups 81 weight(decay=0.0), 88 weight(decay=0.0005), 87 bias(decay=0.0)\n",
      "Image sizes 640 train, 640 val\n",
      "Using 0 dataloader workers\n",
      "Logging results to \u001b[1mc:\\Users\\Gebruiker\\OneDrive - Thomas More\\Bureaublad\\CVC_challenge\\runs\\detect\\train10\u001b[0m\n",
      "Starting training for 5 epochs...\n",
      "\n",
      "      Epoch    GPU_mem   box_loss   cls_loss   dfl_loss  Instances       Size\n",
      "                   all          3         11          0          0          0          0\n",
      "\n",
      "      Epoch    GPU_mem   box_loss   cls_loss   dfl_loss  Instances       Size\n",
      "                   all          3         11          0          0          0          0\n",
      "\n",
      "      Epoch    GPU_mem   box_loss   cls_loss   dfl_loss  Instances       Size\n",
      "                   all          3         11     0.0143      0.222     0.0181    0.00819\n",
      "\n",
      "      Epoch    GPU_mem   box_loss   cls_loss   dfl_loss  Instances       Size\n",
      "                   all          3         11     0.0245     0.0556     0.0326     0.0223\n",
      "\n",
      "      Epoch    GPU_mem   box_loss   cls_loss   dfl_loss  Instances       Size\n",
      "                   all          3         11       0.58      0.211     0.0472     0.0271\n",
      "\n",
      "5 epochs completed in 0.042 hours.\n",
      "Optimizer stripped from c:\\Users\\Gebruiker\\OneDrive - Thomas More\\Bureaublad\\CVC_challenge\\runs\\detect\\train10\\weights\\last.pt, 19.1MB\n",
      "Optimizer stripped from c:\\Users\\Gebruiker\\OneDrive - Thomas More\\Bureaublad\\CVC_challenge\\runs\\detect\\train10\\weights\\best.pt, 19.1MB\n",
      "\n",
      "Validating c:\\Users\\Gebruiker\\OneDrive - Thomas More\\Bureaublad\\CVC_challenge\\runs\\detect\\train10\\weights\\best.pt...\n",
      "Ultralytics 8.3.18 🚀 Python-3.12.0 torch-2.5.0+cpu CPU (11th Gen Intel Core(TM) i7-1165G7 2.80GHz)\n",
      "YOLO11s summary (fused): 238 layers, 9,413,574 parameters, 0 gradients, 21.3 GFLOPs\n",
      "                   all          3         11      0.583      0.221     0.0469     0.0271\n",
      "                 House          1          2          1          0          0          0\n",
      "                  Tree          3          9      0.166      0.441     0.0939     0.0541\n",
      "Speed: 1.2ms preprocess, 113.9ms inference, 0.0ms loss, 147.1ms postprocess per image\n",
      "Results saved to \u001b[1mc:\\Users\\Gebruiker\\OneDrive - Thomas More\\Bureaublad\\CVC_challenge\\runs\\detect\\train10\u001b[0m\n",
      "💡 Learn more at https://docs.ultralytics.com/modes/train\n"
     ]
    },
    {
     "name": "stderr",
     "output_type": "stream",
     "text": [
      "\n",
      "  0%|          | 0.00/755k [00:00<?, ?B/s]\n",
      "100%|██████████| 755k/755k [00:00<00:00, 7.20MB/s]\n",
      "100%|██████████| 755k/755k [00:00<00:00, 7.20MB/s]\n",
      "\n",
      "\u001b[34m\u001b[1mtrain: \u001b[0mScanning C:\\Users\\Gebruiker\\OneDrive - Thomas More\\Bureaublad\\CVC_challenge\\CVC_v1i_yolov11\\train\\labels...:   0%|          | 0/30 [00:00<?, ?it/s]\n",
      "\u001b[34m\u001b[1mtrain: \u001b[0mScanning C:\\Users\\Gebruiker\\OneDrive - Thomas More\\Bureaublad\\CVC_challenge\\CVC_v1i_yolov11\\train\\labels... 22 images, 0 backgrounds, 0 corrupt:  73%|███████▎  | 22/30 [00:00<00:00, 202.74it/s]\n",
      "\u001b[34m\u001b[1mtrain: \u001b[0mScanning C:\\Users\\Gebruiker\\OneDrive - Thomas More\\Bureaublad\\CVC_challenge\\CVC_v1i_yolov11\\train\\labels... 30 images, 0 backgrounds, 0 corrupt: 100%|██████████| 30/30 [00:00<00:00, 254.75it/s]\n",
      "\n",
      "\u001b[34m\u001b[1mval: \u001b[0mScanning C:\\Users\\Gebruiker\\OneDrive - Thomas More\\Bureaublad\\CVC_challenge\\CVC_v1i_yolov11\\valid\\labels...:   0%|          | 0/3 [00:00<?, ?it/s]\n",
      "\u001b[34m\u001b[1mval: \u001b[0mScanning C:\\Users\\Gebruiker\\OneDrive - Thomas More\\Bureaublad\\CVC_challenge\\CVC_v1i_yolov11\\valid\\labels... 3 images, 0 backgrounds, 0 corrupt: 100%|██████████| 3/3 [00:00<00:00, 741.52it/s]\n",
      "\n",
      "  0%|          | 0/2 [00:00<?, ?it/s]\n",
      "        1/5         0G      2.434      4.538      1.733        216        640:   0%|          | 0/2 [00:20<?, ?it/s]\n",
      "        1/5         0G      2.434      4.538      1.733        216        640:  50%|█████     | 1/2 [00:20<00:20, 20.21s/it]\n",
      "        1/5         0G      2.352      4.524      1.704        193        640:  50%|█████     | 1/2 [00:33<00:20, 20.21s/it]\n",
      "        1/5         0G      2.352      4.524      1.704        193        640: 100%|██████████| 2/2 [00:33<00:00, 16.30s/it]\n",
      "        1/5         0G      2.352      4.524      1.704        193        640: 100%|██████████| 2/2 [00:33<00:00, 16.89s/it]\n",
      "\n",
      "                 Class     Images  Instances      Box(P          R      mAP50  mAP50-95):   0%|          | 0/1 [00:00<?, ?it/s]\n",
      "                 Class     Images  Instances      Box(P          R      mAP50  mAP50-95): 100%|██████████| 1/1 [00:01<00:00,  1.17s/it]\n",
      "                 Class     Images  Instances      Box(P          R      mAP50  mAP50-95): 100%|██████████| 1/1 [00:01<00:00,  1.17s/it]\n",
      "\n",
      "  0%|          | 0/2 [00:00<?, ?it/s]\n",
      "        2/5         0G      2.077      3.989      1.607        239        640:   0%|          | 0/2 [00:14<?, ?it/s]\n",
      "        2/5         0G      2.077      3.989      1.607        239        640:  50%|█████     | 1/2 [00:14<00:14, 14.44s/it]\n",
      "        2/5         0G      1.975      4.005      1.578        159        640:  50%|█████     | 1/2 [00:26<00:14, 14.44s/it]\n",
      "        2/5         0G      1.975      4.005      1.578        159        640: 100%|██████████| 2/2 [00:26<00:00, 13.15s/it]\n",
      "        2/5         0G      1.975      4.005      1.578        159        640: 100%|██████████| 2/2 [00:26<00:00, 13.35s/it]\n",
      "\n",
      "                 Class     Images  Instances      Box(P          R      mAP50  mAP50-95):   0%|          | 0/1 [00:00<?, ?it/s]\n",
      "                 Class     Images  Instances      Box(P          R      mAP50  mAP50-95): 100%|██████████| 1/1 [00:00<00:00,  1.43it/s]\n",
      "                 Class     Images  Instances      Box(P          R      mAP50  mAP50-95): 100%|██████████| 1/1 [00:00<00:00,  1.43it/s]\n",
      "\n",
      "  0%|          | 0/2 [00:00<?, ?it/s]\n",
      "        3/5         0G      1.815       3.44      1.391        237        640:   0%|          | 0/2 [00:12<?, ?it/s]\n",
      "        3/5         0G      1.815       3.44      1.391        237        640:  50%|█████     | 1/2 [00:12<00:12, 12.74s/it]\n",
      "        3/5         0G      1.697      3.195      1.367        168        640:  50%|█████     | 1/2 [00:23<00:12, 12.74s/it]\n",
      "        3/5         0G      1.697      3.195      1.367        168        640: 100%|██████████| 2/2 [00:23<00:00, 11.77s/it]\n",
      "        3/5         0G      1.697      3.195      1.367        168        640: 100%|██████████| 2/2 [00:23<00:00, 11.91s/it]\n",
      "\n",
      "                 Class     Images  Instances      Box(P          R      mAP50  mAP50-95):   0%|          | 0/1 [00:00<?, ?it/s]\n",
      "                 Class     Images  Instances      Box(P          R      mAP50  mAP50-95): 100%|██████████| 1/1 [00:00<00:00,  1.45it/s]\n",
      "                 Class     Images  Instances      Box(P          R      mAP50  mAP50-95): 100%|██████████| 1/1 [00:00<00:00,  1.45it/s]\n",
      "\n",
      "  0%|          | 0/2 [00:00<?, ?it/s]\n",
      "        4/5         0G      1.628      2.846      1.349        234        640:   0%|          | 0/2 [00:12<?, ?it/s]\n",
      "        4/5         0G      1.628      2.846      1.349        234        640:  50%|█████     | 1/2 [00:12<00:12, 12.82s/it]\n",
      "        4/5         0G      1.548      2.857      1.323        122        640:  50%|█████     | 1/2 [00:23<00:12, 12.82s/it]\n",
      "        4/5         0G      1.548      2.857      1.323        122        640: 100%|██████████| 2/2 [00:23<00:00, 11.81s/it]\n",
      "        4/5         0G      1.548      2.857      1.323        122        640: 100%|██████████| 2/2 [00:23<00:00, 11.96s/it]\n",
      "\n",
      "                 Class     Images  Instances      Box(P          R      mAP50  mAP50-95):   0%|          | 0/1 [00:00<?, ?it/s]\n",
      "                 Class     Images  Instances      Box(P          R      mAP50  mAP50-95): 100%|██████████| 1/1 [00:00<00:00,  1.03it/s]\n",
      "                 Class     Images  Instances      Box(P          R      mAP50  mAP50-95): 100%|██████████| 1/1 [00:00<00:00,  1.03it/s]\n",
      "\n",
      "  0%|          | 0/2 [00:00<?, ?it/s]\n",
      "        5/5         0G      1.573      2.343      1.276        225        640:   0%|          | 0/2 [00:18<?, ?it/s]\n",
      "        5/5         0G      1.573      2.343      1.276        225        640:  50%|█████     | 1/2 [00:18<00:18, 18.51s/it]\n",
      "        5/5         0G      1.461      2.385      1.283        124        640:  50%|█████     | 1/2 [00:32<00:18, 18.51s/it]\n",
      "        5/5         0G      1.461      2.385      1.283        124        640: 100%|██████████| 2/2 [00:32<00:00, 15.89s/it]\n",
      "        5/5         0G      1.461      2.385      1.283        124        640: 100%|██████████| 2/2 [00:32<00:00, 16.28s/it]\n",
      "\n",
      "                 Class     Images  Instances      Box(P          R      mAP50  mAP50-95):   0%|          | 0/1 [00:00<?, ?it/s]\n",
      "                 Class     Images  Instances      Box(P          R      mAP50  mAP50-95): 100%|██████████| 1/1 [00:00<00:00,  1.18it/s]\n",
      "                 Class     Images  Instances      Box(P          R      mAP50  mAP50-95): 100%|██████████| 1/1 [00:00<00:00,  1.17it/s]\n",
      "\n",
      "                 Class     Images  Instances      Box(P          R      mAP50  mAP50-95):   0%|          | 0/1 [00:00<?, ?it/s]\n",
      "                 Class     Images  Instances      Box(P          R      mAP50  mAP50-95): 100%|██████████| 1/1 [00:00<00:00,  1.22it/s]\n",
      "                 Class     Images  Instances      Box(P          R      mAP50  mAP50-95): 100%|██████████| 1/1 [00:00<00:00,  1.22it/s]\n"
     ]
    }
   ],
   "source": [
    "#train\n",
    "!yolo task=detect mode=train model=yolo11s.pt data=CVC_v1i_yolov11/data.yaml epochs=5\n"
   ]
  },
  {
   "cell_type": "markdown",
   "metadata": {},
   "source": [
    "OD in game"
   ]
  },
  {
   "cell_type": "code",
   "execution_count": 1,
   "metadata": {},
   "outputs": [],
   "source": [
    "import numpy as np\n",
    "import win32gui, win32ui, win32con\n",
    "from PIL import Image\n",
    "from time import sleep\n",
    "import cv2 as cv\n",
    "import os\n",
    "import random"
   ]
  },
  {
   "cell_type": "code",
   "execution_count": 3,
   "metadata": {},
   "outputs": [
    {
     "name": "stdout",
     "output_type": "stream",
     "text": [
      "pygame 2.6.0 (SDL 2.28.4, Python 3.11.9)\n",
      "Hello from the pygame community. https://www.pygame.org/contribute.html\n"
     ]
    }
   ],
   "source": [
    "    # Chat gpt code\n",
    "    \n",
    "import win32gui, win32ui, win32con, win32api\n",
    "from PIL import Image\n",
    "\n",
    "\n",
    "def capture_screen(region):\n",
    "        hwin = win32gui.GetDesktopWindow()\n",
    "\n",
    "        if region:\n",
    "            left, top, width, height = region\n",
    "            print(region)\n",
    "            print(left, top, width, height)\n",
    "        # else:\n",
    "        #     width = win32api.GetSystemMetrics(win32con.SM_CXVIRTUALSCREEN)\n",
    "        #     height = win32api.GetSystemMetrics(win32con.SM_CYVIRTUALSCREEN)\n",
    "        #     left = win32api.GetSystemMetrics(win32con.SM_XVIRTUALSCREEN)\n",
    "        #     top = win32api.GetSystemMetrics(win32con.SM_YVIRTUALSCREEN)\n",
    "\n",
    "        hwindc = win32gui.GetWindowDC(hwin)\n",
    "        srcdc = win32ui.CreateDCFromHandle(hwindc)\n",
    "        memdc = srcdc.CreateCompatibleDC()\n",
    "        bmp = win32ui.CreateBitmap()\n",
    "        bmp.CreateCompatibleBitmap(srcdc, width, height)\n",
    "        memdc.SelectObject(bmp)\n",
    "        memdc.BitBlt((0, 0), (width, height), srcdc, (left, top), win32con.SRCCOPY)\n",
    "\n",
    "        bmpinfo = bmp.GetInfo()\n",
    "        bmpstr = bmp.GetBitmapBits(True)\n",
    "        img = Image.frombuffer('RGB', (bmpinfo['bmWidth'], bmpinfo['bmHeight']), bmpstr, 'raw', 'BGRX', 0, 1)\n",
    "\n",
    "        win32gui.DeleteObject(bmp.GetHandle())\n",
    "        memdc.DeleteDC()\n",
    "        srcdc.DeleteDC()\n",
    "        win32gui.ReleaseDC(hwin, hwindc)\n",
    "\n",
    "        return img"
   ]
  },
  {
   "cell_type": "code",
   "execution_count": 4,
   "metadata": {},
   "outputs": [
    {
     "name": "stdout",
     "output_type": "stream",
     "text": [
      "\n",
      "0: 416x640 8 cars, 1 truck, 1 traffic light, 24.0ms\n",
      "Speed: 3.0ms preprocess, 24.0ms inference, 5.1ms postprocess per image at shape (1, 3, 416, 640)\n",
      "\n",
      "0: 416x640 9 cars, 1 truck, 1 traffic light, 23.9ms\n",
      "Speed: 2.0ms preprocess, 23.9ms inference, 4.0ms postprocess per image at shape (1, 3, 416, 640)\n",
      "\n",
      "0: 416x640 9 cars, 1 truck, 1 traffic light, 21.8ms\n",
      "Speed: 0.9ms preprocess, 21.8ms inference, 5.0ms postprocess per image at shape (1, 3, 416, 640)\n",
      "\n"
     ]
    },
    {
     "name": "stderr",
     "output_type": "stream",
     "text": [
      "SupervisionWarnings: BoundingBoxAnnotator is deprecated: `BoundingBoxAnnotator` is deprecated and has been renamed to `BoxAnnotator`. `BoundingBoxAnnotator` will be removed in supervision-0.26.0.\n",
      "SupervisionWarnings: BoundingBoxAnnotator is deprecated: `BoundingBoxAnnotator` is deprecated and has been renamed to `BoxAnnotator`. `BoundingBoxAnnotator` will be removed in supervision-0.26.0.\n",
      "SupervisionWarnings: BoundingBoxAnnotator is deprecated: `BoundingBoxAnnotator` is deprecated and has been renamed to `BoxAnnotator`. `BoundingBoxAnnotator` will be removed in supervision-0.26.0.\n"
     ]
    },
    {
     "name": "stdout",
     "output_type": "stream",
     "text": [
      "0: 416x640 9 cars, 1 truck, 1 traffic light, 22.5ms\n",
      "Speed: 1.0ms preprocess, 22.5ms inference, 4.0ms postprocess per image at shape (1, 3, 416, 640)\n",
      "\n",
      "0: 416x640 9 cars, 1 truck, 1 traffic light, 20.0ms\n",
      "Speed: 2.0ms preprocess, 20.0ms inference, 5.0ms postprocess per image at shape (1, 3, 416, 640)\n",
      "\n",
      "0: 416x640 9 cars, 1 truck, 1 traffic light, 22.0ms\n",
      "Speed: 1.0ms preprocess, 22.0ms inference, 5.5ms postprocess per image at shape (1, 3, 416, 640)\n",
      "\n"
     ]
    },
    {
     "name": "stderr",
     "output_type": "stream",
     "text": [
      "SupervisionWarnings: BoundingBoxAnnotator is deprecated: `BoundingBoxAnnotator` is deprecated and has been renamed to `BoxAnnotator`. `BoundingBoxAnnotator` will be removed in supervision-0.26.0.\n",
      "SupervisionWarnings: BoundingBoxAnnotator is deprecated: `BoundingBoxAnnotator` is deprecated and has been renamed to `BoxAnnotator`. `BoundingBoxAnnotator` will be removed in supervision-0.26.0.\n",
      "SupervisionWarnings: BoundingBoxAnnotator is deprecated: `BoundingBoxAnnotator` is deprecated and has been renamed to `BoxAnnotator`. `BoundingBoxAnnotator` will be removed in supervision-0.26.0.\n"
     ]
    },
    {
     "name": "stdout",
     "output_type": "stream",
     "text": [
      "0: 416x640 9 cars, 1 truck, 1 traffic light, 19.3ms\n",
      "Speed: 2.0ms preprocess, 19.3ms inference, 4.0ms postprocess per image at shape (1, 3, 416, 640)\n",
      "\n",
      "0: 416x640 8 cars, 1 truck, 1 traffic light, 22.6ms\n",
      "Speed: 2.4ms preprocess, 22.6ms inference, 5.0ms postprocess per image at shape (1, 3, 416, 640)\n",
      "\n",
      "0: 416x640 9 cars, 1 truck, 1 traffic light, 17.8ms\n",
      "Speed: 2.0ms preprocess, 17.8ms inference, 4.0ms postprocess per image at shape (1, 3, 416, 640)\n",
      "\n",
      "0: 416x640 9 cars, 1 truck, 1 traffic light, 20.9ms\n"
     ]
    },
    {
     "name": "stderr",
     "output_type": "stream",
     "text": [
      "SupervisionWarnings: BoundingBoxAnnotator is deprecated: `BoundingBoxAnnotator` is deprecated and has been renamed to `BoxAnnotator`. `BoundingBoxAnnotator` will be removed in supervision-0.26.0.\n",
      "SupervisionWarnings: BoundingBoxAnnotator is deprecated: `BoundingBoxAnnotator` is deprecated and has been renamed to `BoxAnnotator`. `BoundingBoxAnnotator` will be removed in supervision-0.26.0.\n",
      "SupervisionWarnings: BoundingBoxAnnotator is deprecated: `BoundingBoxAnnotator` is deprecated and has been renamed to `BoxAnnotator`. `BoundingBoxAnnotator` will be removed in supervision-0.26.0.\n"
     ]
    },
    {
     "name": "stdout",
     "output_type": "stream",
     "text": [
      "Speed: 2.0ms preprocess, 20.9ms inference, 5.0ms postprocess per image at shape (1, 3, 416, 640)\n",
      "\n",
      "0: 416x640 9 cars, 1 truck, 1 traffic light, 24.2ms\n",
      "Speed: 3.0ms preprocess, 24.2ms inference, 5.0ms postprocess per image at shape (1, 3, 416, 640)\n",
      "\n",
      "0: 416x640 (no detections), 21.1ms\n",
      "Speed: 1.0ms preprocess, 21.1ms inference, 2.0ms postprocess per image at shape (1, 3, 416, 640)\n",
      "\n"
     ]
    },
    {
     "name": "stderr",
     "output_type": "stream",
     "text": [
      "SupervisionWarnings: BoundingBoxAnnotator is deprecated: `BoundingBoxAnnotator` is deprecated and has been renamed to `BoxAnnotator`. `BoundingBoxAnnotator` will be removed in supervision-0.26.0.\n",
      "SupervisionWarnings: BoundingBoxAnnotator is deprecated: `BoundingBoxAnnotator` is deprecated and has been renamed to `BoxAnnotator`. `BoundingBoxAnnotator` will be removed in supervision-0.26.0.\n",
      "SupervisionWarnings: BoundingBoxAnnotator is deprecated: `BoundingBoxAnnotator` is deprecated and has been renamed to `BoxAnnotator`. `BoundingBoxAnnotator` will be removed in supervision-0.26.0.\n"
     ]
    },
    {
     "name": "stdout",
     "output_type": "stream",
     "text": [
      "0: 416x640 9 cars, 1 truck, 1 traffic light, 21.3ms\n",
      "Speed: 2.1ms preprocess, 21.3ms inference, 3.0ms postprocess per image at shape (1, 3, 416, 640)\n",
      "\n",
      "0: 416x640 9 cars, 1 truck, 1 traffic light, 21.4ms\n",
      "Speed: 2.0ms preprocess, 21.4ms inference, 5.5ms postprocess per image at shape (1, 3, 416, 640)\n",
      "\n",
      "0: 416x640 9 cars, 1 truck, 1 traffic light, 20.6ms\n",
      "Speed: 1.5ms preprocess, 20.6ms inference, 4.0ms postprocess per image at shape (1, 3, 416, 640)\n",
      "\n"
     ]
    },
    {
     "name": "stderr",
     "output_type": "stream",
     "text": [
      "SupervisionWarnings: BoundingBoxAnnotator is deprecated: `BoundingBoxAnnotator` is deprecated and has been renamed to `BoxAnnotator`. `BoundingBoxAnnotator` will be removed in supervision-0.26.0.\n",
      "SupervisionWarnings: BoundingBoxAnnotator is deprecated: `BoundingBoxAnnotator` is deprecated and has been renamed to `BoxAnnotator`. `BoundingBoxAnnotator` will be removed in supervision-0.26.0.\n",
      "SupervisionWarnings: BoundingBoxAnnotator is deprecated: `BoundingBoxAnnotator` is deprecated and has been renamed to `BoxAnnotator`. `BoundingBoxAnnotator` will be removed in supervision-0.26.0.\n"
     ]
    },
    {
     "name": "stdout",
     "output_type": "stream",
     "text": [
      "0: 416x640 8 cars, 4 buss, 23.7ms\n",
      "Speed: 2.0ms preprocess, 23.7ms inference, 4.0ms postprocess per image at shape (1, 3, 416, 640)\n",
      "\n",
      "0: 416x640 9 cars, 1 truck, 1 traffic light, 22.2ms\n",
      "Speed: 2.0ms preprocess, 22.2ms inference, 4.0ms postprocess per image at shape (1, 3, 416, 640)\n",
      "\n",
      "0: 416x640 9 cars, 1 truck, 1 traffic light, 22.2ms\n",
      "Speed: 3.0ms preprocess, 22.2ms inference, 4.0ms postprocess per image at shape (1, 3, 416, 640)\n",
      "\n"
     ]
    },
    {
     "name": "stderr",
     "output_type": "stream",
     "text": [
      "SupervisionWarnings: BoundingBoxAnnotator is deprecated: `BoundingBoxAnnotator` is deprecated and has been renamed to `BoxAnnotator`. `BoundingBoxAnnotator` will be removed in supervision-0.26.0.\n",
      "SupervisionWarnings: BoundingBoxAnnotator is deprecated: `BoundingBoxAnnotator` is deprecated and has been renamed to `BoxAnnotator`. `BoundingBoxAnnotator` will be removed in supervision-0.26.0.\n",
      "SupervisionWarnings: BoundingBoxAnnotator is deprecated: `BoundingBoxAnnotator` is deprecated and has been renamed to `BoxAnnotator`. `BoundingBoxAnnotator` will be removed in supervision-0.26.0.\n"
     ]
    },
    {
     "name": "stdout",
     "output_type": "stream",
     "text": [
      "0: 416x640 9 cars, 1 truck, 1 traffic light, 21.7ms\n",
      "Speed: 3.0ms preprocess, 21.7ms inference, 6.5ms postprocess per image at shape (1, 3, 416, 640)\n",
      "\n",
      "0: 416x640 8 cars, 1 truck, 1 traffic light, 21.8ms\n",
      "Speed: 4.1ms preprocess, 21.8ms inference, 5.0ms postprocess per image at shape (1, 3, 416, 640)\n",
      "\n",
      "0: 416x640 8 cars, 1 truck, 1 traffic light, 21.2ms\n",
      "Speed: 2.0ms preprocess, 21.2ms inference, 4.1ms postprocess per image at shape (1, 3, 416, 640)\n"
     ]
    },
    {
     "name": "stderr",
     "output_type": "stream",
     "text": [
      "SupervisionWarnings: BoundingBoxAnnotator is deprecated: `BoundingBoxAnnotator` is deprecated and has been renamed to `BoxAnnotator`. `BoundingBoxAnnotator` will be removed in supervision-0.26.0.\n",
      "SupervisionWarnings: BoundingBoxAnnotator is deprecated: `BoundingBoxAnnotator` is deprecated and has been renamed to `BoxAnnotator`. `BoundingBoxAnnotator` will be removed in supervision-0.26.0.\n",
      "SupervisionWarnings: BoundingBoxAnnotator is deprecated: `BoundingBoxAnnotator` is deprecated and has been renamed to `BoxAnnotator`. `BoundingBoxAnnotator` will be removed in supervision-0.26.0.\n"
     ]
    },
    {
     "name": "stdout",
     "output_type": "stream",
     "text": [
      "\n",
      "0: 416x640 (no detections), 23.8ms\n",
      "Speed: 1.0ms preprocess, 23.8ms inference, 2.0ms postprocess per image at shape (1, 3, 416, 640)\n",
      "\n",
      "0: 416x640 8 cars, 1 truck, 1 traffic light, 23.2ms\n",
      "Speed: 2.0ms preprocess, 23.2ms inference, 5.0ms postprocess per image at shape (1, 3, 416, 640)\n",
      "\n",
      "0: 416x640 9 cars, 1 truck, 1 traffic light, 21.0ms\n",
      "Speed: 2.0ms preprocess, 21.0ms inference, 5.0ms postprocess per image at shape (1, 3, 416, 640)\n",
      "\n"
     ]
    },
    {
     "name": "stderr",
     "output_type": "stream",
     "text": [
      "SupervisionWarnings: BoundingBoxAnnotator is deprecated: `BoundingBoxAnnotator` is deprecated and has been renamed to `BoxAnnotator`. `BoundingBoxAnnotator` will be removed in supervision-0.26.0.\n",
      "SupervisionWarnings: BoundingBoxAnnotator is deprecated: `BoundingBoxAnnotator` is deprecated and has been renamed to `BoxAnnotator`. `BoundingBoxAnnotator` will be removed in supervision-0.26.0.\n",
      "SupervisionWarnings: BoundingBoxAnnotator is deprecated: `BoundingBoxAnnotator` is deprecated and has been renamed to `BoxAnnotator`. `BoundingBoxAnnotator` will be removed in supervision-0.26.0.\n"
     ]
    },
    {
     "name": "stdout",
     "output_type": "stream",
     "text": [
      "0: 416x640 9 cars, 1 truck, 1 traffic light, 22.1ms\n",
      "Speed: 2.5ms preprocess, 22.1ms inference, 6.0ms postprocess per image at shape (1, 3, 416, 640)\n",
      "\n",
      "0: 416x640 8 cars, 1 truck, 1 traffic light, 17.0ms\n",
      "Speed: 2.0ms preprocess, 17.0ms inference, 5.0ms postprocess per image at shape (1, 3, 416, 640)\n",
      "\n"
     ]
    },
    {
     "name": "stderr",
     "output_type": "stream",
     "text": [
      "SupervisionWarnings: BoundingBoxAnnotator is deprecated: `BoundingBoxAnnotator` is deprecated and has been renamed to `BoxAnnotator`. `BoundingBoxAnnotator` will be removed in supervision-0.26.0.\n",
      "SupervisionWarnings: BoundingBoxAnnotator is deprecated: `BoundingBoxAnnotator` is deprecated and has been renamed to `BoxAnnotator`. `BoundingBoxAnnotator` will be removed in supervision-0.26.0.\n"
     ]
    },
    {
     "name": "stdout",
     "output_type": "stream",
     "text": [
      "0: 416x640 8 cars, 1 truck, 1 traffic light, 20.0ms\n",
      "Speed: 1.1ms preprocess, 20.0ms inference, 4.0ms postprocess per image at shape (1, 3, 416, 640)\n",
      "\n",
      "0: 416x640 7 cars, 1 truck, 1 traffic light, 22.0ms\n",
      "Speed: 3.3ms preprocess, 22.0ms inference, 4.0ms postprocess per image at shape (1, 3, 416, 640)\n",
      "\n",
      "0: 416x640 10 cars, 1 truck, 1 traffic light, 18.6ms\n",
      "Speed: 2.2ms preprocess, 18.6ms inference, 4.0ms postprocess per image at shape (1, 3, 416, 640)\n",
      "\n",
      "0: 416x640 10 cars, 1 truck, 1 traffic light, 21.6ms\n"
     ]
    },
    {
     "name": "stderr",
     "output_type": "stream",
     "text": [
      "SupervisionWarnings: BoundingBoxAnnotator is deprecated: `BoundingBoxAnnotator` is deprecated and has been renamed to `BoxAnnotator`. `BoundingBoxAnnotator` will be removed in supervision-0.26.0.\n",
      "SupervisionWarnings: BoundingBoxAnnotator is deprecated: `BoundingBoxAnnotator` is deprecated and has been renamed to `BoxAnnotator`. `BoundingBoxAnnotator` will be removed in supervision-0.26.0.\n",
      "SupervisionWarnings: BoundingBoxAnnotator is deprecated: `BoundingBoxAnnotator` is deprecated and has been renamed to `BoxAnnotator`. `BoundingBoxAnnotator` will be removed in supervision-0.26.0.\n"
     ]
    },
    {
     "name": "stdout",
     "output_type": "stream",
     "text": [
      "Speed: 2.0ms preprocess, 21.6ms inference, 5.5ms postprocess per image at shape (1, 3, 416, 640)\n",
      "\n",
      "0: 416x640 10 cars, 1 truck, 1 traffic light, 21.0ms\n",
      "Speed: 2.0ms preprocess, 21.0ms inference, 3.5ms postprocess per image at shape (1, 3, 416, 640)\n",
      "\n",
      "0: 416x640 10 cars, 1 truck, 1 traffic light, 17.4ms\n",
      "Speed: 1.0ms preprocess, 17.4ms inference, 4.0ms postprocess per image at shape (1, 3, 416, 640)\n",
      "\n",
      "0: 416x640 10 cars, 1 truck, 1 traffic light, 21.0ms\n"
     ]
    },
    {
     "name": "stderr",
     "output_type": "stream",
     "text": [
      "SupervisionWarnings: BoundingBoxAnnotator is deprecated: `BoundingBoxAnnotator` is deprecated and has been renamed to `BoxAnnotator`. `BoundingBoxAnnotator` will be removed in supervision-0.26.0.\n",
      "SupervisionWarnings: BoundingBoxAnnotator is deprecated: `BoundingBoxAnnotator` is deprecated and has been renamed to `BoxAnnotator`. `BoundingBoxAnnotator` will be removed in supervision-0.26.0.\n",
      "SupervisionWarnings: BoundingBoxAnnotator is deprecated: `BoundingBoxAnnotator` is deprecated and has been renamed to `BoxAnnotator`. `BoundingBoxAnnotator` will be removed in supervision-0.26.0.\n"
     ]
    },
    {
     "name": "stdout",
     "output_type": "stream",
     "text": [
      "Speed: 1.0ms preprocess, 21.0ms inference, 4.1ms postprocess per image at shape (1, 3, 416, 640)\n",
      "\n",
      "0: 416x640 10 cars, 1 truck, 1 traffic light, 21.8ms\n",
      "Speed: 2.5ms preprocess, 21.8ms inference, 4.0ms postprocess per image at shape (1, 3, 416, 640)\n",
      "\n",
      "0: 416x640 10 cars, 1 truck, 1 traffic light, 15.8ms\n",
      "Speed: 2.0ms preprocess, 15.8ms inference, 5.0ms postprocess per image at shape (1, 3, 416, 640)\n",
      "\n"
     ]
    },
    {
     "name": "stderr",
     "output_type": "stream",
     "text": [
      "SupervisionWarnings: BoundingBoxAnnotator is deprecated: `BoundingBoxAnnotator` is deprecated and has been renamed to `BoxAnnotator`. `BoundingBoxAnnotator` will be removed in supervision-0.26.0.\n",
      "SupervisionWarnings: BoundingBoxAnnotator is deprecated: `BoundingBoxAnnotator` is deprecated and has been renamed to `BoxAnnotator`. `BoundingBoxAnnotator` will be removed in supervision-0.26.0.\n",
      "SupervisionWarnings: BoundingBoxAnnotator is deprecated: `BoundingBoxAnnotator` is deprecated and has been renamed to `BoxAnnotator`. `BoundingBoxAnnotator` will be removed in supervision-0.26.0.\n"
     ]
    },
    {
     "name": "stdout",
     "output_type": "stream",
     "text": [
      "0: 416x640 9 cars, 1 truck, 1 traffic light, 16.3ms\n",
      "Speed: 2.0ms preprocess, 16.3ms inference, 4.0ms postprocess per image at shape (1, 3, 416, 640)\n",
      "\n",
      "0: 416x640 9 cars, 1 truck, 1 traffic light, 20.2ms\n",
      "Speed: 2.0ms preprocess, 20.2ms inference, 4.0ms postprocess per image at shape (1, 3, 416, 640)\n",
      "\n",
      "0: 416x640 8 cars, 1 truck, 1 traffic light, 20.6ms\n",
      "Speed: 2.0ms preprocess, 20.6ms inference, 5.0ms postprocess per image at shape (1, 3, 416, 640)\n",
      "\n"
     ]
    },
    {
     "name": "stderr",
     "output_type": "stream",
     "text": [
      "SupervisionWarnings: BoundingBoxAnnotator is deprecated: `BoundingBoxAnnotator` is deprecated and has been renamed to `BoxAnnotator`. `BoundingBoxAnnotator` will be removed in supervision-0.26.0.\n",
      "SupervisionWarnings: BoundingBoxAnnotator is deprecated: `BoundingBoxAnnotator` is deprecated and has been renamed to `BoxAnnotator`. `BoundingBoxAnnotator` will be removed in supervision-0.26.0.\n",
      "SupervisionWarnings: BoundingBoxAnnotator is deprecated: `BoundingBoxAnnotator` is deprecated and has been renamed to `BoxAnnotator`. `BoundingBoxAnnotator` will be removed in supervision-0.26.0.\n"
     ]
    },
    {
     "name": "stdout",
     "output_type": "stream",
     "text": [
      "0: 416x640 9 cars, 1 truck, 1 traffic light, 20.2ms\n",
      "Speed: 2.0ms preprocess, 20.2ms inference, 4.1ms postprocess per image at shape (1, 3, 416, 640)\n",
      "\n",
      "0: 416x640 9 cars, 1 truck, 1 traffic light, 20.4ms\n",
      "Speed: 1.0ms preprocess, 20.4ms inference, 3.0ms postprocess per image at shape (1, 3, 416, 640)\n",
      "\n",
      "0: 416x640 9 cars, 1 truck, 1 traffic light, 20.0ms\n",
      "Speed: 1.3ms preprocess, 20.0ms inference, 4.0ms postprocess per image at shape (1, 3, 416, 640)\n",
      "\n",
      "0: 416x640 9 cars, 1 truck, 1 traffic light, 19.6ms\n"
     ]
    },
    {
     "name": "stderr",
     "output_type": "stream",
     "text": [
      "SupervisionWarnings: BoundingBoxAnnotator is deprecated: `BoundingBoxAnnotator` is deprecated and has been renamed to `BoxAnnotator`. `BoundingBoxAnnotator` will be removed in supervision-0.26.0.\n",
      "SupervisionWarnings: BoundingBoxAnnotator is deprecated: `BoundingBoxAnnotator` is deprecated and has been renamed to `BoxAnnotator`. `BoundingBoxAnnotator` will be removed in supervision-0.26.0.\n",
      "SupervisionWarnings: BoundingBoxAnnotator is deprecated: `BoundingBoxAnnotator` is deprecated and has been renamed to `BoxAnnotator`. `BoundingBoxAnnotator` will be removed in supervision-0.26.0.\n"
     ]
    },
    {
     "name": "stdout",
     "output_type": "stream",
     "text": [
      "Speed: 2.0ms preprocess, 19.6ms inference, 4.5ms postprocess per image at shape (1, 3, 416, 640)\n",
      "\n",
      "0: 416x640 9 cars, 1 truck, 1 traffic light, 21.3ms\n",
      "Speed: 1.0ms preprocess, 21.3ms inference, 4.1ms postprocess per image at shape (1, 3, 416, 640)\n",
      "\n",
      "0: 416x640 9 cars, 1 truck, 1 traffic light, 18.0ms\n",
      "Speed: 2.0ms preprocess, 18.0ms inference, 4.0ms postprocess per image at shape (1, 3, 416, 640)\n",
      "\n"
     ]
    },
    {
     "name": "stderr",
     "output_type": "stream",
     "text": [
      "SupervisionWarnings: BoundingBoxAnnotator is deprecated: `BoundingBoxAnnotator` is deprecated and has been renamed to `BoxAnnotator`. `BoundingBoxAnnotator` will be removed in supervision-0.26.0.\n",
      "SupervisionWarnings: BoundingBoxAnnotator is deprecated: `BoundingBoxAnnotator` is deprecated and has been renamed to `BoxAnnotator`. `BoundingBoxAnnotator` will be removed in supervision-0.26.0.\n",
      "SupervisionWarnings: BoundingBoxAnnotator is deprecated: `BoundingBoxAnnotator` is deprecated and has been renamed to `BoxAnnotator`. `BoundingBoxAnnotator` will be removed in supervision-0.26.0.\n"
     ]
    },
    {
     "name": "stdout",
     "output_type": "stream",
     "text": [
      "0: 416x640 9 cars, 1 truck, 1 traffic light, 1 cell phone, 21.7ms\n",
      "Speed: 1.5ms preprocess, 21.7ms inference, 6.0ms postprocess per image at shape (1, 3, 416, 640)\n",
      "\n",
      "0: 416x640 9 cars, 1 truck, 1 traffic light, 19.0ms\n",
      "Speed: 2.0ms preprocess, 19.0ms inference, 4.0ms postprocess per image at shape (1, 3, 416, 640)\n",
      "\n",
      "0: 416x640 9 cars, 1 truck, 1 traffic light, 14.2ms\n",
      "Speed: 2.0ms preprocess, 14.2ms inference, 2.6ms postprocess per image at shape (1, 3, 416, 640)\n",
      "\n"
     ]
    },
    {
     "name": "stderr",
     "output_type": "stream",
     "text": [
      "SupervisionWarnings: BoundingBoxAnnotator is deprecated: `BoundingBoxAnnotator` is deprecated and has been renamed to `BoxAnnotator`. `BoundingBoxAnnotator` will be removed in supervision-0.26.0.\n",
      "SupervisionWarnings: BoundingBoxAnnotator is deprecated: `BoundingBoxAnnotator` is deprecated and has been renamed to `BoxAnnotator`. `BoundingBoxAnnotator` will be removed in supervision-0.26.0.\n",
      "SupervisionWarnings: BoundingBoxAnnotator is deprecated: `BoundingBoxAnnotator` is deprecated and has been renamed to `BoxAnnotator`. `BoundingBoxAnnotator` will be removed in supervision-0.26.0.\n"
     ]
    },
    {
     "name": "stdout",
     "output_type": "stream",
     "text": [
      "0: 416x640 9 cars, 1 truck, 1 traffic light, 17.7ms\n",
      "Speed: 1.0ms preprocess, 17.7ms inference, 2.0ms postprocess per image at shape (1, 3, 416, 640)\n",
      "\n",
      "0: 416x640 10 cars, 1 truck, 1 traffic light, 20.1ms\n",
      "Speed: 2.5ms preprocess, 20.1ms inference, 10.2ms postprocess per image at shape (1, 3, 416, 640)\n",
      "\n",
      "0: 416x640 10 cars, 1 truck, 1 traffic light, 20.0ms\n",
      "Speed: 2.5ms preprocess, 20.0ms inference, 7.0ms postprocess per image at shape (1, 3, 416, 640)\n"
     ]
    },
    {
     "name": "stderr",
     "output_type": "stream",
     "text": [
      "SupervisionWarnings: BoundingBoxAnnotator is deprecated: `BoundingBoxAnnotator` is deprecated and has been renamed to `BoxAnnotator`. `BoundingBoxAnnotator` will be removed in supervision-0.26.0.\n",
      "SupervisionWarnings: BoundingBoxAnnotator is deprecated: `BoundingBoxAnnotator` is deprecated and has been renamed to `BoxAnnotator`. `BoundingBoxAnnotator` will be removed in supervision-0.26.0.\n",
      "SupervisionWarnings: BoundingBoxAnnotator is deprecated: `BoundingBoxAnnotator` is deprecated and has been renamed to `BoxAnnotator`. `BoundingBoxAnnotator` will be removed in supervision-0.26.0.\n"
     ]
    },
    {
     "name": "stdout",
     "output_type": "stream",
     "text": [
      "\n",
      "0: 416x640 10 cars, 1 truck, 1 traffic light, 51.3ms\n",
      "Speed: 1.5ms preprocess, 51.3ms inference, 10.0ms postprocess per image at shape (1, 3, 416, 640)\n",
      "\n",
      "0: 416x640 11 cars, 1 truck, 28.3ms\n",
      "Speed: 1.0ms preprocess, 28.3ms inference, 7.6ms postprocess per image at shape (1, 3, 416, 640)\n",
      "\n",
      "0: 416x640 10 cars, 1 truck, 24.0ms\n",
      "Speed: 3.5ms preprocess, 24.0ms inference, 3.0ms postprocess per image at shape (1, 3, 416, 640)\n"
     ]
    },
    {
     "name": "stderr",
     "output_type": "stream",
     "text": [
      "SupervisionWarnings: BoundingBoxAnnotator is deprecated: `BoundingBoxAnnotator` is deprecated and has been renamed to `BoxAnnotator`. `BoundingBoxAnnotator` will be removed in supervision-0.26.0.\n",
      "SupervisionWarnings: BoundingBoxAnnotator is deprecated: `BoundingBoxAnnotator` is deprecated and has been renamed to `BoxAnnotator`. `BoundingBoxAnnotator` will be removed in supervision-0.26.0.\n",
      "SupervisionWarnings: BoundingBoxAnnotator is deprecated: `BoundingBoxAnnotator` is deprecated and has been renamed to `BoxAnnotator`. `BoundingBoxAnnotator` will be removed in supervision-0.26.0.\n"
     ]
    },
    {
     "name": "stdout",
     "output_type": "stream",
     "text": [
      "\n",
      "0: 416x640 5 cars, 1 bus, 22.5ms\n",
      "Speed: 2.0ms preprocess, 22.5ms inference, 10.5ms postprocess per image at shape (1, 3, 416, 640)\n",
      "\n",
      "0: 416x640 3 cars, 1 bus, 24.7ms\n",
      "Speed: 2.0ms preprocess, 24.7ms inference, 4.4ms postprocess per image at shape (1, 3, 416, 640)\n",
      "\n",
      "0: 416x640 2 cars, 8.5ms\n",
      "Speed: 2.0ms preprocess, 8.5ms inference, 2.0ms postprocess per image at shape (1, 3, 416, 640)\n",
      "\n",
      "0: 416x640 1 car, 16.4ms\n"
     ]
    },
    {
     "name": "stderr",
     "output_type": "stream",
     "text": [
      "SupervisionWarnings: BoundingBoxAnnotator is deprecated: `BoundingBoxAnnotator` is deprecated and has been renamed to `BoxAnnotator`. `BoundingBoxAnnotator` will be removed in supervision-0.26.0.\n",
      "SupervisionWarnings: BoundingBoxAnnotator is deprecated: `BoundingBoxAnnotator` is deprecated and has been renamed to `BoxAnnotator`. `BoundingBoxAnnotator` will be removed in supervision-0.26.0.\n",
      "SupervisionWarnings: BoundingBoxAnnotator is deprecated: `BoundingBoxAnnotator` is deprecated and has been renamed to `BoxAnnotator`. `BoundingBoxAnnotator` will be removed in supervision-0.26.0.\n"
     ]
    },
    {
     "name": "stdout",
     "output_type": "stream",
     "text": [
      "Speed: 2.5ms preprocess, 16.4ms inference, 1.0ms postprocess per image at shape (1, 3, 416, 640)\n",
      "\n",
      "0: 416x640 1 car, 17.1ms\n",
      "Speed: 4.0ms preprocess, 17.1ms inference, 1.0ms postprocess per image at shape (1, 3, 416, 640)\n",
      "\n",
      "0: 416x640 3 cars, 1 truck, 23.7ms\n",
      "Speed: 3.0ms preprocess, 23.7ms inference, 26.1ms postprocess per image at shape (1, 3, 416, 640)\n",
      "\n"
     ]
    },
    {
     "name": "stderr",
     "output_type": "stream",
     "text": [
      "SupervisionWarnings: BoundingBoxAnnotator is deprecated: `BoundingBoxAnnotator` is deprecated and has been renamed to `BoxAnnotator`. `BoundingBoxAnnotator` will be removed in supervision-0.26.0.\n",
      "SupervisionWarnings: BoundingBoxAnnotator is deprecated: `BoundingBoxAnnotator` is deprecated and has been renamed to `BoxAnnotator`. `BoundingBoxAnnotator` will be removed in supervision-0.26.0.\n",
      "SupervisionWarnings: BoundingBoxAnnotator is deprecated: `BoundingBoxAnnotator` is deprecated and has been renamed to `BoxAnnotator`. `BoundingBoxAnnotator` will be removed in supervision-0.26.0.\n"
     ]
    },
    {
     "name": "stdout",
     "output_type": "stream",
     "text": [
      "0: 416x640 4 cars, 1 truck, 61.8ms\n",
      "Speed: 2.0ms preprocess, 61.8ms inference, 28.9ms postprocess per image at shape (1, 3, 416, 640)\n",
      "\n",
      "0: 416x640 5 cars, 1 truck, 18.1ms\n",
      "Speed: 5.5ms preprocess, 18.1ms inference, 23.1ms postprocess per image at shape (1, 3, 416, 640)\n",
      "\n",
      "0: 416x640 6 cars, 1 truck, 40.3ms\n"
     ]
    },
    {
     "name": "stderr",
     "output_type": "stream",
     "text": [
      "SupervisionWarnings: BoundingBoxAnnotator is deprecated: `BoundingBoxAnnotator` is deprecated and has been renamed to `BoxAnnotator`. `BoundingBoxAnnotator` will be removed in supervision-0.26.0.\n",
      "SupervisionWarnings: BoundingBoxAnnotator is deprecated: `BoundingBoxAnnotator` is deprecated and has been renamed to `BoxAnnotator`. `BoundingBoxAnnotator` will be removed in supervision-0.26.0.\n"
     ]
    },
    {
     "name": "stdout",
     "output_type": "stream",
     "text": [
      "Speed: 15.8ms preprocess, 40.3ms inference, 3.0ms postprocess per image at shape (1, 3, 416, 640)\n",
      "\n",
      "0: 416x640 3 cars, 1 truck, 18.2ms\n",
      "Speed: 2.1ms preprocess, 18.2ms inference, 2.0ms postprocess per image at shape (1, 3, 416, 640)\n",
      "\n",
      "0: 416x640 3 cars, 1 truck, 22.3ms\n",
      "Speed: 3.0ms preprocess, 22.3ms inference, 10.0ms postprocess per image at shape (1, 3, 416, 640)\n",
      "\n"
     ]
    },
    {
     "name": "stderr",
     "output_type": "stream",
     "text": [
      "SupervisionWarnings: BoundingBoxAnnotator is deprecated: `BoundingBoxAnnotator` is deprecated and has been renamed to `BoxAnnotator`. `BoundingBoxAnnotator` will be removed in supervision-0.26.0.\n",
      "SupervisionWarnings: BoundingBoxAnnotator is deprecated: `BoundingBoxAnnotator` is deprecated and has been renamed to `BoxAnnotator`. `BoundingBoxAnnotator` will be removed in supervision-0.26.0.\n",
      "SupervisionWarnings: BoundingBoxAnnotator is deprecated: `BoundingBoxAnnotator` is deprecated and has been renamed to `BoxAnnotator`. `BoundingBoxAnnotator` will be removed in supervision-0.26.0.\n"
     ]
    },
    {
     "name": "stdout",
     "output_type": "stream",
     "text": [
      "0: 416x640 3 cars, 1 truck, 19.1ms\n",
      "Speed: 12.5ms preprocess, 19.1ms inference, 16.5ms postprocess per image at shape (1, 3, 416, 640)\n",
      "\n",
      "0: 416x640 3 cars, 1 truck, 28.6ms\n",
      "Speed: 5.0ms preprocess, 28.6ms inference, 6.5ms postprocess per image at shape (1, 3, 416, 640)\n",
      "\n",
      "0: 416x640 3 cars, 1 truck, 16.0ms\n",
      "Speed: 5.5ms preprocess, 16.0ms inference, 13.2ms postprocess per image at shape (1, 3, 416, 640)\n"
     ]
    },
    {
     "name": "stderr",
     "output_type": "stream",
     "text": [
      "SupervisionWarnings: BoundingBoxAnnotator is deprecated: `BoundingBoxAnnotator` is deprecated and has been renamed to `BoxAnnotator`. `BoundingBoxAnnotator` will be removed in supervision-0.26.0.\n",
      "SupervisionWarnings: BoundingBoxAnnotator is deprecated: `BoundingBoxAnnotator` is deprecated and has been renamed to `BoxAnnotator`. `BoundingBoxAnnotator` will be removed in supervision-0.26.0.\n",
      "SupervisionWarnings: BoundingBoxAnnotator is deprecated: `BoundingBoxAnnotator` is deprecated and has been renamed to `BoxAnnotator`. `BoundingBoxAnnotator` will be removed in supervision-0.26.0.\n"
     ]
    },
    {
     "name": "stdout",
     "output_type": "stream",
     "text": [
      "\n",
      "0: 416x640 3 cars, 1 truck, 18.0ms\n",
      "Speed: 2.0ms preprocess, 18.0ms inference, 13.5ms postprocess per image at shape (1, 3, 416, 640)\n",
      "\n",
      "0: 416x640 3 cars, 1 truck, 21.6ms\n",
      "Speed: 1.5ms preprocess, 21.6ms inference, 9.5ms postprocess per image at shape (1, 3, 416, 640)\n",
      "\n",
      "0: 416x640 3 cars, 1 truck, 24.6ms\n",
      "Speed: 2.0ms preprocess, 24.6ms inference, 6.5ms postprocess per image at shape (1, 3, 416, 640)\n"
     ]
    },
    {
     "name": "stderr",
     "output_type": "stream",
     "text": [
      "SupervisionWarnings: BoundingBoxAnnotator is deprecated: `BoundingBoxAnnotator` is deprecated and has been renamed to `BoxAnnotator`. `BoundingBoxAnnotator` will be removed in supervision-0.26.0.\n",
      "SupervisionWarnings: BoundingBoxAnnotator is deprecated: `BoundingBoxAnnotator` is deprecated and has been renamed to `BoxAnnotator`. `BoundingBoxAnnotator` will be removed in supervision-0.26.0.\n",
      "SupervisionWarnings: BoundingBoxAnnotator is deprecated: `BoundingBoxAnnotator` is deprecated and has been renamed to `BoxAnnotator`. `BoundingBoxAnnotator` will be removed in supervision-0.26.0.\n"
     ]
    },
    {
     "name": "stdout",
     "output_type": "stream",
     "text": [
      "\n",
      "0: 416x640 3 cars, 1 truck, 21.6ms\n",
      "Speed: 4.1ms preprocess, 21.6ms inference, 13.1ms postprocess per image at shape (1, 3, 416, 640)\n",
      "\n",
      "0: 416x640 3 cars, 1 truck, 27.2ms\n",
      "Speed: 3.0ms preprocess, 27.2ms inference, 2.0ms postprocess per image at shape (1, 3, 416, 640)\n",
      "\n",
      "0: 416x640 3 cars, 1 truck, 19.0ms\n",
      "Speed: 5.2ms preprocess, 19.0ms inference, 10.8ms postprocess per image at shape (1, 3, 416, 640)\n"
     ]
    },
    {
     "name": "stderr",
     "output_type": "stream",
     "text": [
      "SupervisionWarnings: BoundingBoxAnnotator is deprecated: `BoundingBoxAnnotator` is deprecated and has been renamed to `BoxAnnotator`. `BoundingBoxAnnotator` will be removed in supervision-0.26.0.\n",
      "SupervisionWarnings: BoundingBoxAnnotator is deprecated: `BoundingBoxAnnotator` is deprecated and has been renamed to `BoxAnnotator`. `BoundingBoxAnnotator` will be removed in supervision-0.26.0.\n",
      "SupervisionWarnings: BoundingBoxAnnotator is deprecated: `BoundingBoxAnnotator` is deprecated and has been renamed to `BoxAnnotator`. `BoundingBoxAnnotator` will be removed in supervision-0.26.0.\n"
     ]
    },
    {
     "name": "stdout",
     "output_type": "stream",
     "text": [
      "\n",
      "0: 416x640 3 cars, 1 truck, 20.1ms\n",
      "Speed: 3.0ms preprocess, 20.1ms inference, 1.0ms postprocess per image at shape (1, 3, 416, 640)\n",
      "\n",
      "0: 416x640 3 cars, 1 truck, 19.0ms\n",
      "Speed: 4.5ms preprocess, 19.0ms inference, 4.0ms postprocess per image at shape (1, 3, 416, 640)\n",
      "\n",
      "0: 416x640 3 cars, 1 truck, 26.7ms\n",
      "Speed: 3.0ms preprocess, 26.7ms inference, 11.5ms postprocess per image at shape (1, 3, 416, 640)\n"
     ]
    },
    {
     "name": "stderr",
     "output_type": "stream",
     "text": [
      "SupervisionWarnings: BoundingBoxAnnotator is deprecated: `BoundingBoxAnnotator` is deprecated and has been renamed to `BoxAnnotator`. `BoundingBoxAnnotator` will be removed in supervision-0.26.0.\n",
      "SupervisionWarnings: BoundingBoxAnnotator is deprecated: `BoundingBoxAnnotator` is deprecated and has been renamed to `BoxAnnotator`. `BoundingBoxAnnotator` will be removed in supervision-0.26.0.\n",
      "SupervisionWarnings: BoundingBoxAnnotator is deprecated: `BoundingBoxAnnotator` is deprecated and has been renamed to `BoxAnnotator`. `BoundingBoxAnnotator` will be removed in supervision-0.26.0.\n"
     ]
    },
    {
     "name": "stdout",
     "output_type": "stream",
     "text": [
      "\n",
      "0: 416x640 3 cars, 1 truck, 36.1ms\n",
      "Speed: 9.0ms preprocess, 36.1ms inference, 22.1ms postprocess per image at shape (1, 3, 416, 640)\n",
      "\n",
      "0: 416x640 3 cars, 1 truck, 16.0ms\n",
      "Speed: 2.0ms preprocess, 16.0ms inference, 2.0ms postprocess per image at shape (1, 3, 416, 640)\n",
      "\n",
      "0: 416x640 3 cars, 1 truck, 31.6ms\n",
      "Speed: 5.0ms preprocess, 31.6ms inference, 17.6ms postprocess per image at shape (1, 3, 416, 640)\n",
      "\n"
     ]
    },
    {
     "name": "stderr",
     "output_type": "stream",
     "text": [
      "SupervisionWarnings: BoundingBoxAnnotator is deprecated: `BoundingBoxAnnotator` is deprecated and has been renamed to `BoxAnnotator`. `BoundingBoxAnnotator` will be removed in supervision-0.26.0.\n",
      "SupervisionWarnings: BoundingBoxAnnotator is deprecated: `BoundingBoxAnnotator` is deprecated and has been renamed to `BoxAnnotator`. `BoundingBoxAnnotator` will be removed in supervision-0.26.0.\n",
      "SupervisionWarnings: BoundingBoxAnnotator is deprecated: `BoundingBoxAnnotator` is deprecated and has been renamed to `BoxAnnotator`. `BoundingBoxAnnotator` will be removed in supervision-0.26.0.\n"
     ]
    },
    {
     "name": "stdout",
     "output_type": "stream",
     "text": [
      "0: 416x640 3 cars, 1 truck, 22.6ms\n",
      "Speed: 3.5ms preprocess, 22.6ms inference, 12.5ms postprocess per image at shape (1, 3, 416, 640)\n",
      "\n",
      "0: 416x640 3 cars, 1 truck, 22.1ms\n",
      "Speed: 4.5ms preprocess, 22.1ms inference, 10.5ms postprocess per image at shape (1, 3, 416, 640)\n",
      "\n",
      "0: 416x640 3 cars, 1 truck, 25.6ms\n",
      "Speed: 2.5ms preprocess, 25.6ms inference, 2.0ms postprocess per image at shape (1, 3, 416, 640)\n",
      "\n"
     ]
    },
    {
     "name": "stderr",
     "output_type": "stream",
     "text": [
      "SupervisionWarnings: BoundingBoxAnnotator is deprecated: `BoundingBoxAnnotator` is deprecated and has been renamed to `BoxAnnotator`. `BoundingBoxAnnotator` will be removed in supervision-0.26.0.\n",
      "SupervisionWarnings: BoundingBoxAnnotator is deprecated: `BoundingBoxAnnotator` is deprecated and has been renamed to `BoxAnnotator`. `BoundingBoxAnnotator` will be removed in supervision-0.26.0.\n",
      "SupervisionWarnings: BoundingBoxAnnotator is deprecated: `BoundingBoxAnnotator` is deprecated and has been renamed to `BoxAnnotator`. `BoundingBoxAnnotator` will be removed in supervision-0.26.0.\n"
     ]
    },
    {
     "name": "stdout",
     "output_type": "stream",
     "text": [
      "0: 416x640 3 cars, 1 truck, 21.2ms\n",
      "Speed: 2.0ms preprocess, 21.2ms inference, 7.5ms postprocess per image at shape (1, 3, 416, 640)\n",
      "\n",
      "0: 416x640 3 cars, 1 truck, 21.1ms\n",
      "Speed: 3.0ms preprocess, 21.1ms inference, 12.2ms postprocess per image at shape (1, 3, 416, 640)\n",
      "\n",
      "0: 416x640 3 cars, 1 truck, 25.5ms\n"
     ]
    },
    {
     "name": "stderr",
     "output_type": "stream",
     "text": [
      "SupervisionWarnings: BoundingBoxAnnotator is deprecated: `BoundingBoxAnnotator` is deprecated and has been renamed to `BoxAnnotator`. `BoundingBoxAnnotator` will be removed in supervision-0.26.0.\n",
      "SupervisionWarnings: BoundingBoxAnnotator is deprecated: `BoundingBoxAnnotator` is deprecated and has been renamed to `BoxAnnotator`. `BoundingBoxAnnotator` will be removed in supervision-0.26.0.\n"
     ]
    },
    {
     "name": "stdout",
     "output_type": "stream",
     "text": [
      "Speed: 4.5ms preprocess, 25.5ms inference, 24.5ms postprocess per image at shape (1, 3, 416, 640)\n",
      "\n",
      "0: 416x640 3 cars, 1 truck, 25.7ms\n",
      "Speed: 2.0ms preprocess, 25.7ms inference, 6.5ms postprocess per image at shape (1, 3, 416, 640)\n",
      "\n",
      "0: 416x640 3 cars, 1 truck, 30.2ms\n",
      "Speed: 2.0ms preprocess, 30.2ms inference, 12.1ms postprocess per image at shape (1, 3, 416, 640)\n",
      "\n"
     ]
    },
    {
     "name": "stderr",
     "output_type": "stream",
     "text": [
      "SupervisionWarnings: BoundingBoxAnnotator is deprecated: `BoundingBoxAnnotator` is deprecated and has been renamed to `BoxAnnotator`. `BoundingBoxAnnotator` will be removed in supervision-0.26.0.\n",
      "SupervisionWarnings: BoundingBoxAnnotator is deprecated: `BoundingBoxAnnotator` is deprecated and has been renamed to `BoxAnnotator`. `BoundingBoxAnnotator` will be removed in supervision-0.26.0.\n",
      "SupervisionWarnings: BoundingBoxAnnotator is deprecated: `BoundingBoxAnnotator` is deprecated and has been renamed to `BoxAnnotator`. `BoundingBoxAnnotator` will be removed in supervision-0.26.0.\n"
     ]
    },
    {
     "name": "stdout",
     "output_type": "stream",
     "text": [
      "0: 416x640 3 cars, 1 truck, 35.1ms\n",
      "Speed: 5.0ms preprocess, 35.1ms inference, 18.1ms postprocess per image at shape (1, 3, 416, 640)\n",
      "\n",
      "0: 416x640 3 cars, 1 truck, 44.7ms\n",
      "Speed: 4.0ms preprocess, 44.7ms inference, 19.8ms postprocess per image at shape (1, 3, 416, 640)\n",
      "\n"
     ]
    },
    {
     "name": "stderr",
     "output_type": "stream",
     "text": [
      "SupervisionWarnings: BoundingBoxAnnotator is deprecated: `BoundingBoxAnnotator` is deprecated and has been renamed to `BoxAnnotator`. `BoundingBoxAnnotator` will be removed in supervision-0.26.0.\n",
      "SupervisionWarnings: BoundingBoxAnnotator is deprecated: `BoundingBoxAnnotator` is deprecated and has been renamed to `BoxAnnotator`. `BoundingBoxAnnotator` will be removed in supervision-0.26.0.\n"
     ]
    },
    {
     "name": "stdout",
     "output_type": "stream",
     "text": [
      "0: 416x640 3 cars, 1 truck, 23.2ms\n",
      "Speed: 2.5ms preprocess, 23.2ms inference, 7.5ms postprocess per image at shape (1, 3, 416, 640)\n",
      "\n",
      "0: 416x640 3 cars, 1 truck, 33.5ms\n",
      "Speed: 3.0ms preprocess, 33.5ms inference, 7.5ms postprocess per image at shape (1, 3, 416, 640)\n",
      "\n"
     ]
    },
    {
     "name": "stderr",
     "output_type": "stream",
     "text": [
      "SupervisionWarnings: BoundingBoxAnnotator is deprecated: `BoundingBoxAnnotator` is deprecated and has been renamed to `BoxAnnotator`. `BoundingBoxAnnotator` will be removed in supervision-0.26.0.\n",
      "SupervisionWarnings: BoundingBoxAnnotator is deprecated: `BoundingBoxAnnotator` is deprecated and has been renamed to `BoxAnnotator`. `BoundingBoxAnnotator` will be removed in supervision-0.26.0.\n"
     ]
    },
    {
     "name": "stdout",
     "output_type": "stream",
     "text": [
      "0: 416x640 3 cars, 1 truck, 34.7ms\n",
      "Speed: 3.0ms preprocess, 34.7ms inference, 19.1ms postprocess per image at shape (1, 3, 416, 640)\n",
      "\n",
      "0: 416x640 3 cars, 1 truck, 21.3ms\n",
      "Speed: 3.5ms preprocess, 21.3ms inference, 16.5ms postprocess per image at shape (1, 3, 416, 640)\n",
      "\n",
      "0: 416x640 3 cars, 1 truck, 15.2ms\n",
      "Speed: 3.5ms preprocess, 15.2ms inference, 1.0ms postprocess per image at shape (1, 3, 416, 640)\n",
      "\n"
     ]
    },
    {
     "name": "stderr",
     "output_type": "stream",
     "text": [
      "SupervisionWarnings: BoundingBoxAnnotator is deprecated: `BoundingBoxAnnotator` is deprecated and has been renamed to `BoxAnnotator`. `BoundingBoxAnnotator` will be removed in supervision-0.26.0.\n",
      "SupervisionWarnings: BoundingBoxAnnotator is deprecated: `BoundingBoxAnnotator` is deprecated and has been renamed to `BoxAnnotator`. `BoundingBoxAnnotator` will be removed in supervision-0.26.0.\n",
      "SupervisionWarnings: BoundingBoxAnnotator is deprecated: `BoundingBoxAnnotator` is deprecated and has been renamed to `BoxAnnotator`. `BoundingBoxAnnotator` will be removed in supervision-0.26.0.\n"
     ]
    },
    {
     "name": "stdout",
     "output_type": "stream",
     "text": [
      "0: 416x640 3 cars, 1 truck, 26.6ms\n",
      "Speed: 3.5ms preprocess, 26.6ms inference, 7.5ms postprocess per image at shape (1, 3, 416, 640)\n",
      "\n",
      "0: 416x640 3 cars, 1 truck, 16.7ms\n",
      "Speed: 5.0ms preprocess, 16.7ms inference, 10.2ms postprocess per image at shape (1, 3, 416, 640)\n",
      "\n",
      "0: 416x640 3 cars, 1 truck, 18.1ms\n",
      "Speed: 3.0ms preprocess, 18.1ms inference, 1.0ms postprocess per image at shape (1, 3, 416, 640)\n"
     ]
    },
    {
     "name": "stderr",
     "output_type": "stream",
     "text": [
      "SupervisionWarnings: BoundingBoxAnnotator is deprecated: `BoundingBoxAnnotator` is deprecated and has been renamed to `BoxAnnotator`. `BoundingBoxAnnotator` will be removed in supervision-0.26.0.\n",
      "SupervisionWarnings: BoundingBoxAnnotator is deprecated: `BoundingBoxAnnotator` is deprecated and has been renamed to `BoxAnnotator`. `BoundingBoxAnnotator` will be removed in supervision-0.26.0.\n",
      "SupervisionWarnings: BoundingBoxAnnotator is deprecated: `BoundingBoxAnnotator` is deprecated and has been renamed to `BoxAnnotator`. `BoundingBoxAnnotator` will be removed in supervision-0.26.0.\n"
     ]
    },
    {
     "name": "stdout",
     "output_type": "stream",
     "text": [
      "\n",
      "0: 416x640 3 cars, 1 truck, 22.7ms\n",
      "Speed: 3.0ms preprocess, 22.7ms inference, 13.1ms postprocess per image at shape (1, 3, 416, 640)\n",
      "\n",
      "0: 416x640 3 cars, 1 truck, 24.1ms\n",
      "Speed: 2.5ms preprocess, 24.1ms inference, 15.6ms postprocess per image at shape (1, 3, 416, 640)\n",
      "\n",
      "0: 416x640 3 cars, 1 truck, 20.9ms\n"
     ]
    },
    {
     "name": "stderr",
     "output_type": "stream",
     "text": [
      "SupervisionWarnings: BoundingBoxAnnotator is deprecated: `BoundingBoxAnnotator` is deprecated and has been renamed to `BoxAnnotator`. `BoundingBoxAnnotator` will be removed in supervision-0.26.0.\n",
      "SupervisionWarnings: BoundingBoxAnnotator is deprecated: `BoundingBoxAnnotator` is deprecated and has been renamed to `BoxAnnotator`. `BoundingBoxAnnotator` will be removed in supervision-0.26.0.\n"
     ]
    },
    {
     "name": "stdout",
     "output_type": "stream",
     "text": [
      "Speed: 3.0ms preprocess, 20.9ms inference, 18.8ms postprocess per image at shape (1, 3, 416, 640)\n",
      "\n",
      "0: 416x640 3 cars, 1 truck, 27.0ms\n",
      "Speed: 3.1ms preprocess, 27.0ms inference, 11.6ms postprocess per image at shape (1, 3, 416, 640)\n",
      "\n",
      "0: 416x640 3 cars, 1 truck, 31.7ms\n",
      "Speed: 3.5ms preprocess, 31.7ms inference, 14.5ms postprocess per image at shape (1, 3, 416, 640)\n"
     ]
    },
    {
     "name": "stderr",
     "output_type": "stream",
     "text": [
      "SupervisionWarnings: BoundingBoxAnnotator is deprecated: `BoundingBoxAnnotator` is deprecated and has been renamed to `BoxAnnotator`. `BoundingBoxAnnotator` will be removed in supervision-0.26.0.\n",
      "SupervisionWarnings: BoundingBoxAnnotator is deprecated: `BoundingBoxAnnotator` is deprecated and has been renamed to `BoxAnnotator`. `BoundingBoxAnnotator` will be removed in supervision-0.26.0.\n",
      "SupervisionWarnings: BoundingBoxAnnotator is deprecated: `BoundingBoxAnnotator` is deprecated and has been renamed to `BoxAnnotator`. `BoundingBoxAnnotator` will be removed in supervision-0.26.0.\n"
     ]
    },
    {
     "name": "stdout",
     "output_type": "stream",
     "text": [
      "\n",
      "0: 416x640 3 cars, 1 truck, 20.1ms\n",
      "Speed: 2.0ms preprocess, 20.1ms inference, 6.5ms postprocess per image at shape (1, 3, 416, 640)\n",
      "\n",
      "0: 416x640 3 cars, 1 truck, 21.9ms\n",
      "Speed: 1.0ms preprocess, 21.9ms inference, 6.0ms postprocess per image at shape (1, 3, 416, 640)\n",
      "\n",
      "0: 416x640 3 cars, 1 truck, 27.6ms\n",
      "Speed: 2.0ms preprocess, 27.6ms inference, 7.5ms postprocess per image at shape (1, 3, 416, 640)\n"
     ]
    },
    {
     "name": "stderr",
     "output_type": "stream",
     "text": [
      "SupervisionWarnings: BoundingBoxAnnotator is deprecated: `BoundingBoxAnnotator` is deprecated and has been renamed to `BoxAnnotator`. `BoundingBoxAnnotator` will be removed in supervision-0.26.0.\n",
      "SupervisionWarnings: BoundingBoxAnnotator is deprecated: `BoundingBoxAnnotator` is deprecated and has been renamed to `BoxAnnotator`. `BoundingBoxAnnotator` will be removed in supervision-0.26.0.\n",
      "SupervisionWarnings: BoundingBoxAnnotator is deprecated: `BoundingBoxAnnotator` is deprecated and has been renamed to `BoxAnnotator`. `BoundingBoxAnnotator` will be removed in supervision-0.26.0.\n"
     ]
    },
    {
     "name": "stdout",
     "output_type": "stream",
     "text": [
      "\n",
      "0: 416x640 3 cars, 1 truck, 35.0ms\n",
      "Speed: 3.0ms preprocess, 35.0ms inference, 25.9ms postprocess per image at shape (1, 3, 416, 640)\n",
      "\n",
      "0: 416x640 3 cars, 1 truck, 30.2ms\n",
      "Speed: 2.0ms preprocess, 30.2ms inference, 14.5ms postprocess per image at shape (1, 3, 416, 640)\n",
      "\n"
     ]
    },
    {
     "name": "stderr",
     "output_type": "stream",
     "text": [
      "SupervisionWarnings: BoundingBoxAnnotator is deprecated: `BoundingBoxAnnotator` is deprecated and has been renamed to `BoxAnnotator`. `BoundingBoxAnnotator` will be removed in supervision-0.26.0.\n",
      "SupervisionWarnings: BoundingBoxAnnotator is deprecated: `BoundingBoxAnnotator` is deprecated and has been renamed to `BoxAnnotator`. `BoundingBoxAnnotator` will be removed in supervision-0.26.0.\n"
     ]
    },
    {
     "name": "stdout",
     "output_type": "stream",
     "text": [
      "0: 416x640 3 cars, 1 truck, 31.6ms\n",
      "Speed: 2.5ms preprocess, 31.6ms inference, 16.5ms postprocess per image at shape (1, 3, 416, 640)\n",
      "\n",
      "0: 416x640 3 cars, 1 truck, 37.1ms\n",
      "Speed: 4.0ms preprocess, 37.1ms inference, 20.1ms postprocess per image at shape (1, 3, 416, 640)\n",
      "\n"
     ]
    },
    {
     "name": "stderr",
     "output_type": "stream",
     "text": [
      "SupervisionWarnings: BoundingBoxAnnotator is deprecated: `BoundingBoxAnnotator` is deprecated and has been renamed to `BoxAnnotator`. `BoundingBoxAnnotator` will be removed in supervision-0.26.0.\n",
      "SupervisionWarnings: BoundingBoxAnnotator is deprecated: `BoundingBoxAnnotator` is deprecated and has been renamed to `BoxAnnotator`. `BoundingBoxAnnotator` will be removed in supervision-0.26.0.\n"
     ]
    },
    {
     "name": "stdout",
     "output_type": "stream",
     "text": [
      "0: 416x640 3 cars, 1 truck, 27.6ms\n",
      "Speed: 5.0ms preprocess, 27.6ms inference, 19.1ms postprocess per image at shape (1, 3, 416, 640)\n",
      "\n",
      "0: 416x640 3 cars, 1 truck, 20.6ms\n",
      "Speed: 3.5ms preprocess, 20.6ms inference, 16.5ms postprocess per image at shape (1, 3, 416, 640)\n",
      "\n"
     ]
    },
    {
     "name": "stderr",
     "output_type": "stream",
     "text": [
      "SupervisionWarnings: BoundingBoxAnnotator is deprecated: `BoundingBoxAnnotator` is deprecated and has been renamed to `BoxAnnotator`. `BoundingBoxAnnotator` will be removed in supervision-0.26.0.\n",
      "SupervisionWarnings: BoundingBoxAnnotator is deprecated: `BoundingBoxAnnotator` is deprecated and has been renamed to `BoxAnnotator`. `BoundingBoxAnnotator` will be removed in supervision-0.26.0.\n"
     ]
    },
    {
     "name": "stdout",
     "output_type": "stream",
     "text": [
      "0: 416x640 3 cars, 1 truck, 41.4ms\n",
      "Speed: 4.0ms preprocess, 41.4ms inference, 13.1ms postprocess per image at shape (1, 3, 416, 640)\n",
      "\n",
      "0: 416x640 3 cars, 1 truck, 20.2ms\n",
      "Speed: 3.5ms preprocess, 20.2ms inference, 6.0ms postprocess per image at shape (1, 3, 416, 640)\n",
      "\n",
      "0: 416x640 3 cars, 1 truck, 21.1ms\n",
      "Speed: 2.0ms preprocess, 21.1ms inference, 4.5ms postprocess per image at shape (1, 3, 416, 640)\n",
      "\n"
     ]
    },
    {
     "name": "stderr",
     "output_type": "stream",
     "text": [
      "SupervisionWarnings: BoundingBoxAnnotator is deprecated: `BoundingBoxAnnotator` is deprecated and has been renamed to `BoxAnnotator`. `BoundingBoxAnnotator` will be removed in supervision-0.26.0.\n",
      "SupervisionWarnings: BoundingBoxAnnotator is deprecated: `BoundingBoxAnnotator` is deprecated and has been renamed to `BoxAnnotator`. `BoundingBoxAnnotator` will be removed in supervision-0.26.0.\n",
      "SupervisionWarnings: BoundingBoxAnnotator is deprecated: `BoundingBoxAnnotator` is deprecated and has been renamed to `BoxAnnotator`. `BoundingBoxAnnotator` will be removed in supervision-0.26.0.\n"
     ]
    },
    {
     "name": "stdout",
     "output_type": "stream",
     "text": [
      "0: 416x640 3 cars, 1 truck, 38.8ms\n",
      "Speed: 2.0ms preprocess, 38.8ms inference, 17.9ms postprocess per image at shape (1, 3, 416, 640)\n",
      "\n",
      "0: 416x640 3 cars, 1 truck, 25.6ms\n",
      "Speed: 2.0ms preprocess, 25.6ms inference, 20.1ms postprocess per image at shape (1, 3, 416, 640)\n",
      "\n"
     ]
    },
    {
     "name": "stderr",
     "output_type": "stream",
     "text": [
      "SupervisionWarnings: BoundingBoxAnnotator is deprecated: `BoundingBoxAnnotator` is deprecated and has been renamed to `BoxAnnotator`. `BoundingBoxAnnotator` will be removed in supervision-0.26.0.\n",
      "SupervisionWarnings: BoundingBoxAnnotator is deprecated: `BoundingBoxAnnotator` is deprecated and has been renamed to `BoxAnnotator`. `BoundingBoxAnnotator` will be removed in supervision-0.26.0.\n"
     ]
    },
    {
     "name": "stdout",
     "output_type": "stream",
     "text": [
      "0: 416x640 3 cars, 1 truck, 36.2ms\n",
      "Speed: 2.0ms preprocess, 36.2ms inference, 17.0ms postprocess per image at shape (1, 3, 416, 640)\n",
      "\n",
      "0: 416x640 3 cars, 1 truck, 46.6ms\n",
      "Speed: 3.0ms preprocess, 46.6ms inference, 25.7ms postprocess per image at shape (1, 3, 416, 640)\n",
      "\n"
     ]
    },
    {
     "name": "stderr",
     "output_type": "stream",
     "text": [
      "SupervisionWarnings: BoundingBoxAnnotator is deprecated: `BoundingBoxAnnotator` is deprecated and has been renamed to `BoxAnnotator`. `BoundingBoxAnnotator` will be removed in supervision-0.26.0.\n",
      "SupervisionWarnings: BoundingBoxAnnotator is deprecated: `BoundingBoxAnnotator` is deprecated and has been renamed to `BoxAnnotator`. `BoundingBoxAnnotator` will be removed in supervision-0.26.0.\n"
     ]
    },
    {
     "name": "stdout",
     "output_type": "stream",
     "text": [
      "0: 416x640 3 cars, 1 truck, 27.1ms\n",
      "Speed: 2.0ms preprocess, 27.1ms inference, 1.5ms postprocess per image at shape (1, 3, 416, 640)\n",
      "\n",
      "0: 416x640 3 cars, 1 truck, 33.9ms\n",
      "Speed: 4.0ms preprocess, 33.9ms inference, 5.5ms postprocess per image at shape (1, 3, 416, 640)\n",
      "\n",
      "0: 416x640 3 cars, 1 truck, 26.0ms\n",
      "Speed: 2.1ms preprocess, 26.0ms inference, 2.0ms postprocess per image at shape (1, 3, 416, 640)\n"
     ]
    },
    {
     "name": "stderr",
     "output_type": "stream",
     "text": [
      "SupervisionWarnings: BoundingBoxAnnotator is deprecated: `BoundingBoxAnnotator` is deprecated and has been renamed to `BoxAnnotator`. `BoundingBoxAnnotator` will be removed in supervision-0.26.0.\n",
      "SupervisionWarnings: BoundingBoxAnnotator is deprecated: `BoundingBoxAnnotator` is deprecated and has been renamed to `BoxAnnotator`. `BoundingBoxAnnotator` will be removed in supervision-0.26.0.\n",
      "SupervisionWarnings: BoundingBoxAnnotator is deprecated: `BoundingBoxAnnotator` is deprecated and has been renamed to `BoxAnnotator`. `BoundingBoxAnnotator` will be removed in supervision-0.26.0.\n"
     ]
    },
    {
     "name": "stdout",
     "output_type": "stream",
     "text": [
      "\n",
      "0: 416x640 3 cars, 1 truck, 32.7ms\n",
      "Speed: 5.0ms preprocess, 32.7ms inference, 21.0ms postprocess per image at shape (1, 3, 416, 640)\n",
      "\n",
      "0: 416x640 3 cars, 1 truck, 40.1ms\n",
      "Speed: 2.0ms preprocess, 40.1ms inference, 8.5ms postprocess per image at shape (1, 3, 416, 640)\n",
      "\n"
     ]
    },
    {
     "name": "stderr",
     "output_type": "stream",
     "text": [
      "SupervisionWarnings: BoundingBoxAnnotator is deprecated: `BoundingBoxAnnotator` is deprecated and has been renamed to `BoxAnnotator`. `BoundingBoxAnnotator` will be removed in supervision-0.26.0.\n",
      "SupervisionWarnings: BoundingBoxAnnotator is deprecated: `BoundingBoxAnnotator` is deprecated and has been renamed to `BoxAnnotator`. `BoundingBoxAnnotator` will be removed in supervision-0.26.0.\n"
     ]
    },
    {
     "name": "stdout",
     "output_type": "stream",
     "text": [
      "0: 416x640 3 cars, 1 truck, 46.6ms\n",
      "Speed: 4.0ms preprocess, 46.6ms inference, 21.6ms postprocess per image at shape (1, 3, 416, 640)\n",
      "\n",
      "0: 416x640 3 cars, 1 truck, 21.7ms\n",
      "Speed: 4.8ms preprocess, 21.7ms inference, 10.5ms postprocess per image at shape (1, 3, 416, 640)\n",
      "\n",
      "0: 416x640 3 cars, 1 truck, 42.5ms\n",
      "Speed: 2.5ms preprocess, 42.5ms inference, 6.0ms postprocess per image at shape (1, 3, 416, 640)\n"
     ]
    },
    {
     "name": "stderr",
     "output_type": "stream",
     "text": [
      "SupervisionWarnings: BoundingBoxAnnotator is deprecated: `BoundingBoxAnnotator` is deprecated and has been renamed to `BoxAnnotator`. `BoundingBoxAnnotator` will be removed in supervision-0.26.0.\n",
      "SupervisionWarnings: BoundingBoxAnnotator is deprecated: `BoundingBoxAnnotator` is deprecated and has been renamed to `BoxAnnotator`. `BoundingBoxAnnotator` will be removed in supervision-0.26.0.\n",
      "SupervisionWarnings: BoundingBoxAnnotator is deprecated: `BoundingBoxAnnotator` is deprecated and has been renamed to `BoxAnnotator`. `BoundingBoxAnnotator` will be removed in supervision-0.26.0.\n"
     ]
    },
    {
     "name": "stdout",
     "output_type": "stream",
     "text": [
      "\n",
      "0: 416x640 3 cars, 1 truck, 21.0ms\n",
      "Speed: 2.0ms preprocess, 21.0ms inference, 10.5ms postprocess per image at shape (1, 3, 416, 640)\n",
      "\n",
      "0: 416x640 3 cars, 1 truck, 46.7ms\n",
      "Speed: 2.0ms preprocess, 46.7ms inference, 49.4ms postprocess per image at shape (1, 3, 416, 640)\n"
     ]
    },
    {
     "name": "stderr",
     "output_type": "stream",
     "text": [
      "SupervisionWarnings: BoundingBoxAnnotator is deprecated: `BoundingBoxAnnotator` is deprecated and has been renamed to `BoxAnnotator`. `BoundingBoxAnnotator` will be removed in supervision-0.26.0.\n",
      "SupervisionWarnings: BoundingBoxAnnotator is deprecated: `BoundingBoxAnnotator` is deprecated and has been renamed to `BoxAnnotator`. `BoundingBoxAnnotator` will be removed in supervision-0.26.0.\n"
     ]
    },
    {
     "name": "stdout",
     "output_type": "stream",
     "text": [
      "\n",
      "0: 416x640 3 cars, 1 truck, 36.6ms\n",
      "Speed: 4.0ms preprocess, 36.6ms inference, 12.5ms postprocess per image at shape (1, 3, 416, 640)\n",
      "\n",
      "0: 416x640 3 cars, 1 truck, 39.9ms\n",
      "Speed: 5.0ms preprocess, 39.9ms inference, 21.5ms postprocess per image at shape (1, 3, 416, 640)\n",
      "\n"
     ]
    },
    {
     "name": "stderr",
     "output_type": "stream",
     "text": [
      "SupervisionWarnings: BoundingBoxAnnotator is deprecated: `BoundingBoxAnnotator` is deprecated and has been renamed to `BoxAnnotator`. `BoundingBoxAnnotator` will be removed in supervision-0.26.0.\n",
      "SupervisionWarnings: BoundingBoxAnnotator is deprecated: `BoundingBoxAnnotator` is deprecated and has been renamed to `BoxAnnotator`. `BoundingBoxAnnotator` will be removed in supervision-0.26.0.\n"
     ]
    },
    {
     "name": "stdout",
     "output_type": "stream",
     "text": [
      "0: 416x640 3 cars, 1 truck, 41.5ms\n",
      "Speed: 3.0ms preprocess, 41.5ms inference, 11.5ms postprocess per image at shape (1, 3, 416, 640)\n",
      "\n",
      "0: 416x640 3 cars, 1 truck, 34.2ms\n",
      "Speed: 3.0ms preprocess, 34.2ms inference, 21.0ms postprocess per image at shape (1, 3, 416, 640)\n",
      "\n"
     ]
    },
    {
     "name": "stderr",
     "output_type": "stream",
     "text": [
      "SupervisionWarnings: BoundingBoxAnnotator is deprecated: `BoundingBoxAnnotator` is deprecated and has been renamed to `BoxAnnotator`. `BoundingBoxAnnotator` will be removed in supervision-0.26.0.\n",
      "SupervisionWarnings: BoundingBoxAnnotator is deprecated: `BoundingBoxAnnotator` is deprecated and has been renamed to `BoxAnnotator`. `BoundingBoxAnnotator` will be removed in supervision-0.26.0.\n"
     ]
    },
    {
     "name": "stdout",
     "output_type": "stream",
     "text": [
      "0: 416x640 3 cars, 1 truck, 68.1ms\n",
      "Speed: 4.5ms preprocess, 68.1ms inference, 17.1ms postprocess per image at shape (1, 3, 416, 640)\n",
      "\n",
      "0: 416x640 3 cars, 1 truck, 74.9ms\n",
      "Speed: 5.6ms preprocess, 74.9ms inference, 11.0ms postprocess per image at shape (1, 3, 416, 640)\n",
      "\n"
     ]
    },
    {
     "name": "stderr",
     "output_type": "stream",
     "text": [
      "SupervisionWarnings: BoundingBoxAnnotator is deprecated: `BoundingBoxAnnotator` is deprecated and has been renamed to `BoxAnnotator`. `BoundingBoxAnnotator` will be removed in supervision-0.26.0.\n",
      "SupervisionWarnings: BoundingBoxAnnotator is deprecated: `BoundingBoxAnnotator` is deprecated and has been renamed to `BoxAnnotator`. `BoundingBoxAnnotator` will be removed in supervision-0.26.0.\n"
     ]
    },
    {
     "name": "stdout",
     "output_type": "stream",
     "text": [
      "0: 416x640 3 cars, 1 truck, 48.3ms\n",
      "Speed: 7.5ms preprocess, 48.3ms inference, 8.6ms postprocess per image at shape (1, 3, 416, 640)\n",
      "\n",
      "0: 416x640 3 cars, 1 truck, 24.1ms\n",
      "Speed: 4.0ms preprocess, 24.1ms inference, 20.6ms postprocess per image at shape (1, 3, 416, 640)\n",
      "\n"
     ]
    },
    {
     "name": "stderr",
     "output_type": "stream",
     "text": [
      "SupervisionWarnings: BoundingBoxAnnotator is deprecated: `BoundingBoxAnnotator` is deprecated and has been renamed to `BoxAnnotator`. `BoundingBoxAnnotator` will be removed in supervision-0.26.0.\n",
      "SupervisionWarnings: BoundingBoxAnnotator is deprecated: `BoundingBoxAnnotator` is deprecated and has been renamed to `BoxAnnotator`. `BoundingBoxAnnotator` will be removed in supervision-0.26.0.\n"
     ]
    },
    {
     "name": "stdout",
     "output_type": "stream",
     "text": [
      "0: 416x640 3 cars, 1 truck, 34.8ms\n",
      "Speed: 7.0ms preprocess, 34.8ms inference, 21.7ms postprocess per image at shape (1, 3, 416, 640)\n",
      "\n",
      "0: 416x640 3 cars, 1 truck, 34.9ms\n",
      "Speed: 2.0ms preprocess, 34.9ms inference, 7.5ms postprocess per image at shape (1, 3, 416, 640)\n",
      "\n"
     ]
    },
    {
     "name": "stderr",
     "output_type": "stream",
     "text": [
      "SupervisionWarnings: BoundingBoxAnnotator is deprecated: `BoundingBoxAnnotator` is deprecated and has been renamed to `BoxAnnotator`. `BoundingBoxAnnotator` will be removed in supervision-0.26.0.\n",
      "SupervisionWarnings: BoundingBoxAnnotator is deprecated: `BoundingBoxAnnotator` is deprecated and has been renamed to `BoxAnnotator`. `BoundingBoxAnnotator` will be removed in supervision-0.26.0.\n"
     ]
    },
    {
     "name": "stdout",
     "output_type": "stream",
     "text": [
      "0: 416x640 3 cars, 1 truck, 60.8ms\n",
      "Speed: 7.5ms preprocess, 60.8ms inference, 19.7ms postprocess per image at shape (1, 3, 416, 640)\n",
      "\n",
      "0: 416x640 3 cars, 1 truck, 16.1ms\n",
      "Speed: 2.0ms preprocess, 16.1ms inference, 6.5ms postprocess per image at shape (1, 3, 416, 640)\n",
      "\n",
      "0: 416x640 3 cars, 1 truck, 27.0ms\n",
      "Speed: 3.0ms preprocess, 27.0ms inference, 21.0ms postprocess per image at shape (1, 3, 416, 640)\n"
     ]
    },
    {
     "name": "stderr",
     "output_type": "stream",
     "text": [
      "SupervisionWarnings: BoundingBoxAnnotator is deprecated: `BoundingBoxAnnotator` is deprecated and has been renamed to `BoxAnnotator`. `BoundingBoxAnnotator` will be removed in supervision-0.26.0.\n",
      "SupervisionWarnings: BoundingBoxAnnotator is deprecated: `BoundingBoxAnnotator` is deprecated and has been renamed to `BoxAnnotator`. `BoundingBoxAnnotator` will be removed in supervision-0.26.0.\n",
      "SupervisionWarnings: BoundingBoxAnnotator is deprecated: `BoundingBoxAnnotator` is deprecated and has been renamed to `BoxAnnotator`. `BoundingBoxAnnotator` will be removed in supervision-0.26.0.\n"
     ]
    },
    {
     "name": "stdout",
     "output_type": "stream",
     "text": [
      "\n",
      "0: 416x640 3 cars, 1 truck, 22.6ms\n",
      "Speed: 5.0ms preprocess, 22.6ms inference, 20.2ms postprocess per image at shape (1, 3, 416, 640)\n",
      "\n",
      "0: 416x640 3 cars, 1 truck, 17.8ms\n",
      "Speed: 5.4ms preprocess, 17.8ms inference, 2.0ms postprocess per image at shape (1, 3, 416, 640)\n",
      "\n",
      "0: 416x640 3 cars, 1 truck, 29.2ms\n",
      "Speed: 2.6ms preprocess, 29.2ms inference, 6.1ms postprocess per image at shape (1, 3, 416, 640)\n",
      "\n"
     ]
    },
    {
     "name": "stderr",
     "output_type": "stream",
     "text": [
      "SupervisionWarnings: BoundingBoxAnnotator is deprecated: `BoundingBoxAnnotator` is deprecated and has been renamed to `BoxAnnotator`. `BoundingBoxAnnotator` will be removed in supervision-0.26.0.\n",
      "SupervisionWarnings: BoundingBoxAnnotator is deprecated: `BoundingBoxAnnotator` is deprecated and has been renamed to `BoxAnnotator`. `BoundingBoxAnnotator` will be removed in supervision-0.26.0.\n",
      "SupervisionWarnings: BoundingBoxAnnotator is deprecated: `BoundingBoxAnnotator` is deprecated and has been renamed to `BoxAnnotator`. `BoundingBoxAnnotator` will be removed in supervision-0.26.0.\n"
     ]
    },
    {
     "name": "stdout",
     "output_type": "stream",
     "text": [
      "0: 416x640 3 cars, 1 truck, 26.5ms\n",
      "Speed: 3.0ms preprocess, 26.5ms inference, 10.0ms postprocess per image at shape (1, 3, 416, 640)\n",
      "\n",
      "0: 416x640 3 cars, 1 truck, 57.7ms\n",
      "Speed: 7.0ms preprocess, 57.7ms inference, 17.3ms postprocess per image at shape (1, 3, 416, 640)\n",
      "\n"
     ]
    },
    {
     "name": "stderr",
     "output_type": "stream",
     "text": [
      "SupervisionWarnings: BoundingBoxAnnotator is deprecated: `BoundingBoxAnnotator` is deprecated and has been renamed to `BoxAnnotator`. `BoundingBoxAnnotator` will be removed in supervision-0.26.0.\n",
      "SupervisionWarnings: BoundingBoxAnnotator is deprecated: `BoundingBoxAnnotator` is deprecated and has been renamed to `BoxAnnotator`. `BoundingBoxAnnotator` will be removed in supervision-0.26.0.\n"
     ]
    },
    {
     "name": "stdout",
     "output_type": "stream",
     "text": [
      "0: 416x640 3 cars, 1 truck, 22.0ms\n",
      "Speed: 3.0ms preprocess, 22.0ms inference, 7.5ms postprocess per image at shape (1, 3, 416, 640)\n",
      "\n",
      "0: 416x640 3 cars, 1 truck, 35.0ms\n",
      "Speed: 4.5ms preprocess, 35.0ms inference, 7.5ms postprocess per image at shape (1, 3, 416, 640)\n",
      "\n"
     ]
    },
    {
     "name": "stderr",
     "output_type": "stream",
     "text": [
      "SupervisionWarnings: BoundingBoxAnnotator is deprecated: `BoundingBoxAnnotator` is deprecated and has been renamed to `BoxAnnotator`. `BoundingBoxAnnotator` will be removed in supervision-0.26.0.\n",
      "SupervisionWarnings: BoundingBoxAnnotator is deprecated: `BoundingBoxAnnotator` is deprecated and has been renamed to `BoxAnnotator`. `BoundingBoxAnnotator` will be removed in supervision-0.26.0.\n"
     ]
    },
    {
     "name": "stdout",
     "output_type": "stream",
     "text": [
      "0: 416x640 3 cars, 1 truck, 30.7ms\n",
      "Speed: 4.5ms preprocess, 30.7ms inference, 12.4ms postprocess per image at shape (1, 3, 416, 640)\n",
      "\n",
      "0: 416x640 3 cars, 1 truck, 16.2ms\n",
      "Speed: 2.0ms preprocess, 16.2ms inference, 1.0ms postprocess per image at shape (1, 3, 416, 640)\n",
      "\n",
      "0: 416x640 3 cars, 1 truck, 29.2ms\n",
      "Speed: 2.5ms preprocess, 29.2ms inference, 13.8ms postprocess per image at shape (1, 3, 416, 640)\n"
     ]
    },
    {
     "name": "stderr",
     "output_type": "stream",
     "text": [
      "SupervisionWarnings: BoundingBoxAnnotator is deprecated: `BoundingBoxAnnotator` is deprecated and has been renamed to `BoxAnnotator`. `BoundingBoxAnnotator` will be removed in supervision-0.26.0.\n",
      "SupervisionWarnings: BoundingBoxAnnotator is deprecated: `BoundingBoxAnnotator` is deprecated and has been renamed to `BoxAnnotator`. `BoundingBoxAnnotator` will be removed in supervision-0.26.0.\n",
      "SupervisionWarnings: BoundingBoxAnnotator is deprecated: `BoundingBoxAnnotator` is deprecated and has been renamed to `BoxAnnotator`. `BoundingBoxAnnotator` will be removed in supervision-0.26.0.\n"
     ]
    },
    {
     "name": "stdout",
     "output_type": "stream",
     "text": [
      "\n",
      "0: 416x640 3 cars, 1 truck, 15.1ms\n",
      "Speed: 5.0ms preprocess, 15.1ms inference, 2.0ms postprocess per image at shape (1, 3, 416, 640)\n",
      "\n",
      "0: 416x640 3 cars, 1 truck, 23.5ms\n",
      "Speed: 2.0ms preprocess, 23.5ms inference, 20.0ms postprocess per image at shape (1, 3, 416, 640)\n",
      "\n",
      "0: 416x640 3 cars, 1 truck, 18.1ms\n"
     ]
    },
    {
     "name": "stderr",
     "output_type": "stream",
     "text": [
      "SupervisionWarnings: BoundingBoxAnnotator is deprecated: `BoundingBoxAnnotator` is deprecated and has been renamed to `BoxAnnotator`. `BoundingBoxAnnotator` will be removed in supervision-0.26.0.\n",
      "SupervisionWarnings: BoundingBoxAnnotator is deprecated: `BoundingBoxAnnotator` is deprecated and has been renamed to `BoxAnnotator`. `BoundingBoxAnnotator` will be removed in supervision-0.26.0.\n"
     ]
    },
    {
     "name": "stdout",
     "output_type": "stream",
     "text": [
      "Speed: 2.5ms preprocess, 18.1ms inference, 20.0ms postprocess per image at shape (1, 3, 416, 640)\n",
      "\n",
      "0: 416x640 3 cars, 1 truck, 24.7ms\n",
      "Speed: 3.2ms preprocess, 24.7ms inference, 21.0ms postprocess per image at shape (1, 3, 416, 640)\n",
      "\n"
     ]
    },
    {
     "name": "stderr",
     "output_type": "stream",
     "text": [
      "SupervisionWarnings: BoundingBoxAnnotator is deprecated: `BoundingBoxAnnotator` is deprecated and has been renamed to `BoxAnnotator`. `BoundingBoxAnnotator` will be removed in supervision-0.26.0.\n",
      "SupervisionWarnings: BoundingBoxAnnotator is deprecated: `BoundingBoxAnnotator` is deprecated and has been renamed to `BoxAnnotator`. `BoundingBoxAnnotator` will be removed in supervision-0.26.0.\n"
     ]
    },
    {
     "name": "stdout",
     "output_type": "stream",
     "text": [
      "0: 416x640 3 cars, 1 truck, 29.4ms\n",
      "Speed: 8.0ms preprocess, 29.4ms inference, 32.1ms postprocess per image at shape (1, 3, 416, 640)\n",
      "\n",
      "0: 416x640 3 cars, 1 truck, 45.1ms\n",
      "Speed: 3.0ms preprocess, 45.1ms inference, 26.2ms postprocess per image at shape (1, 3, 416, 640)\n",
      "\n"
     ]
    },
    {
     "name": "stderr",
     "output_type": "stream",
     "text": [
      "SupervisionWarnings: BoundingBoxAnnotator is deprecated: `BoundingBoxAnnotator` is deprecated and has been renamed to `BoxAnnotator`. `BoundingBoxAnnotator` will be removed in supervision-0.26.0.\n",
      "SupervisionWarnings: BoundingBoxAnnotator is deprecated: `BoundingBoxAnnotator` is deprecated and has been renamed to `BoxAnnotator`. `BoundingBoxAnnotator` will be removed in supervision-0.26.0.\n"
     ]
    },
    {
     "name": "stdout",
     "output_type": "stream",
     "text": [
      "0: 416x640 3 cars, 1 truck, 28.7ms\n",
      "Speed: 1.5ms preprocess, 28.7ms inference, 17.5ms postprocess per image at shape (1, 3, 416, 640)\n",
      "\n",
      "0: 416x640 3 cars, 1 truck, 26.7ms\n",
      "Speed: 2.0ms preprocess, 26.7ms inference, 17.0ms postprocess per image at shape (1, 3, 416, 640)\n",
      "\n"
     ]
    },
    {
     "name": "stderr",
     "output_type": "stream",
     "text": [
      "SupervisionWarnings: BoundingBoxAnnotator is deprecated: `BoundingBoxAnnotator` is deprecated and has been renamed to `BoxAnnotator`. `BoundingBoxAnnotator` will be removed in supervision-0.26.0.\n",
      "SupervisionWarnings: BoundingBoxAnnotator is deprecated: `BoundingBoxAnnotator` is deprecated and has been renamed to `BoxAnnotator`. `BoundingBoxAnnotator` will be removed in supervision-0.26.0.\n"
     ]
    },
    {
     "name": "stdout",
     "output_type": "stream",
     "text": [
      "0: 416x640 3 cars, 1 truck, 43.7ms\n",
      "Speed: 7.5ms preprocess, 43.7ms inference, 15.6ms postprocess per image at shape (1, 3, 416, 640)\n",
      "\n",
      "0: 416x640 3 cars, 1 truck, 27.6ms\n",
      "Speed: 8.1ms preprocess, 27.6ms inference, 8.0ms postprocess per image at shape (1, 3, 416, 640)\n",
      "\n",
      "0: 416x640 3 cars, 1 truck, 27.1ms\n"
     ]
    },
    {
     "name": "stderr",
     "output_type": "stream",
     "text": [
      "SupervisionWarnings: BoundingBoxAnnotator is deprecated: `BoundingBoxAnnotator` is deprecated and has been renamed to `BoxAnnotator`. `BoundingBoxAnnotator` will be removed in supervision-0.26.0.\n",
      "SupervisionWarnings: BoundingBoxAnnotator is deprecated: `BoundingBoxAnnotator` is deprecated and has been renamed to `BoxAnnotator`. `BoundingBoxAnnotator` will be removed in supervision-0.26.0.\n"
     ]
    },
    {
     "name": "stdout",
     "output_type": "stream",
     "text": [
      "Speed: 4.4ms preprocess, 27.1ms inference, 16.0ms postprocess per image at shape (1, 3, 416, 640)\n",
      "\n",
      "0: 416x640 3 cars, 1 truck, 27.8ms\n",
      "Speed: 2.5ms preprocess, 27.8ms inference, 1.0ms postprocess per image at shape (1, 3, 416, 640)\n",
      "\n"
     ]
    },
    {
     "name": "stderr",
     "output_type": "stream",
     "text": [
      "SupervisionWarnings: BoundingBoxAnnotator is deprecated: `BoundingBoxAnnotator` is deprecated and has been renamed to `BoxAnnotator`. `BoundingBoxAnnotator` will be removed in supervision-0.26.0.\n",
      "SupervisionWarnings: BoundingBoxAnnotator is deprecated: `BoundingBoxAnnotator` is deprecated and has been renamed to `BoxAnnotator`. `BoundingBoxAnnotator` will be removed in supervision-0.26.0.\n"
     ]
    },
    {
     "name": "stdout",
     "output_type": "stream",
     "text": [
      "0: 416x640 3 cars, 1 truck, 35.8ms\n",
      "Speed: 2.5ms preprocess, 35.8ms inference, 10.5ms postprocess per image at shape (1, 3, 416, 640)\n",
      "\n",
      "0: 416x640 3 cars, 1 truck, 35.1ms\n",
      "Speed: 2.0ms preprocess, 35.1ms inference, 10.1ms postprocess per image at shape (1, 3, 416, 640)\n",
      "\n"
     ]
    },
    {
     "name": "stderr",
     "output_type": "stream",
     "text": [
      "SupervisionWarnings: BoundingBoxAnnotator is deprecated: `BoundingBoxAnnotator` is deprecated and has been renamed to `BoxAnnotator`. `BoundingBoxAnnotator` will be removed in supervision-0.26.0.\n",
      "SupervisionWarnings: BoundingBoxAnnotator is deprecated: `BoundingBoxAnnotator` is deprecated and has been renamed to `BoxAnnotator`. `BoundingBoxAnnotator` will be removed in supervision-0.26.0.\n"
     ]
    },
    {
     "name": "stdout",
     "output_type": "stream",
     "text": [
      "0: 416x640 4 cars, 1 truck, 64.2ms\n",
      "Speed: 7.0ms preprocess, 64.2ms inference, 21.0ms postprocess per image at shape (1, 3, 416, 640)\n",
      "\n",
      "0: 416x640 3 cars, 1 truck, 35.8ms\n",
      "Speed: 4.0ms preprocess, 35.8ms inference, 14.1ms postprocess per image at shape (1, 3, 416, 640)\n",
      "\n",
      "0: 416x640 3 cars, 1 truck, 17.6ms\n",
      "Speed: 2.5ms preprocess, 17.6ms inference, 7.1ms postprocess per image at shape (1, 3, 416, 640)\n",
      "\n"
     ]
    },
    {
     "name": "stderr",
     "output_type": "stream",
     "text": [
      "SupervisionWarnings: BoundingBoxAnnotator is deprecated: `BoundingBoxAnnotator` is deprecated and has been renamed to `BoxAnnotator`. `BoundingBoxAnnotator` will be removed in supervision-0.26.0.\n",
      "SupervisionWarnings: BoundingBoxAnnotator is deprecated: `BoundingBoxAnnotator` is deprecated and has been renamed to `BoxAnnotator`. `BoundingBoxAnnotator` will be removed in supervision-0.26.0.\n",
      "SupervisionWarnings: BoundingBoxAnnotator is deprecated: `BoundingBoxAnnotator` is deprecated and has been renamed to `BoxAnnotator`. `BoundingBoxAnnotator` will be removed in supervision-0.26.0.\n"
     ]
    },
    {
     "name": "stdout",
     "output_type": "stream",
     "text": [
      "0: 416x640 3 cars, 1 truck, 23.0ms\n",
      "Speed: 3.0ms preprocess, 23.0ms inference, 11.5ms postprocess per image at shape (1, 3, 416, 640)\n",
      "\n",
      "0: 416x640 3 cars, 1 truck, 20.8ms\n",
      "Speed: 4.5ms preprocess, 20.8ms inference, 10.5ms postprocess per image at shape (1, 3, 416, 640)\n",
      "\n",
      "0: 416x640 3 cars, 1 truck, 24.1ms\n",
      "Speed: 3.3ms preprocess, 24.1ms inference, 8.5ms postprocess per image at shape (1, 3, 416, 640)\n"
     ]
    },
    {
     "name": "stderr",
     "output_type": "stream",
     "text": [
      "SupervisionWarnings: BoundingBoxAnnotator is deprecated: `BoundingBoxAnnotator` is deprecated and has been renamed to `BoxAnnotator`. `BoundingBoxAnnotator` will be removed in supervision-0.26.0.\n",
      "SupervisionWarnings: BoundingBoxAnnotator is deprecated: `BoundingBoxAnnotator` is deprecated and has been renamed to `BoxAnnotator`. `BoundingBoxAnnotator` will be removed in supervision-0.26.0.\n",
      "SupervisionWarnings: BoundingBoxAnnotator is deprecated: `BoundingBoxAnnotator` is deprecated and has been renamed to `BoxAnnotator`. `BoundingBoxAnnotator` will be removed in supervision-0.26.0.\n"
     ]
    },
    {
     "name": "stdout",
     "output_type": "stream",
     "text": [
      "\n",
      "0: 416x640 3 cars, 1 truck, 20.6ms\n",
      "Speed: 3.5ms preprocess, 20.6ms inference, 13.5ms postprocess per image at shape (1, 3, 416, 640)\n",
      "\n",
      "0: 416x640 3 cars, 1 truck, 45.8ms\n",
      "Speed: 1.5ms preprocess, 45.8ms inference, 30.4ms postprocess per image at shape (1, 3, 416, 640)\n",
      "\n"
     ]
    },
    {
     "name": "stderr",
     "output_type": "stream",
     "text": [
      "SupervisionWarnings: BoundingBoxAnnotator is deprecated: `BoundingBoxAnnotator` is deprecated and has been renamed to `BoxAnnotator`. `BoundingBoxAnnotator` will be removed in supervision-0.26.0.\n",
      "SupervisionWarnings: BoundingBoxAnnotator is deprecated: `BoundingBoxAnnotator` is deprecated and has been renamed to `BoxAnnotator`. `BoundingBoxAnnotator` will be removed in supervision-0.26.0.\n"
     ]
    },
    {
     "name": "stdout",
     "output_type": "stream",
     "text": [
      "0: 416x640 3 cars, 1 truck, 21.3ms\n",
      "Speed: 3.0ms preprocess, 21.3ms inference, 2.0ms postprocess per image at shape (1, 3, 416, 640)\n",
      "\n",
      "0: 416x640 3 cars, 1 truck, 31.6ms\n",
      "Speed: 2.0ms preprocess, 31.6ms inference, 24.1ms postprocess per image at shape (1, 3, 416, 640)\n",
      "\n"
     ]
    },
    {
     "name": "stderr",
     "output_type": "stream",
     "text": [
      "SupervisionWarnings: BoundingBoxAnnotator is deprecated: `BoundingBoxAnnotator` is deprecated and has been renamed to `BoxAnnotator`. `BoundingBoxAnnotator` will be removed in supervision-0.26.0.\n",
      "SupervisionWarnings: BoundingBoxAnnotator is deprecated: `BoundingBoxAnnotator` is deprecated and has been renamed to `BoxAnnotator`. `BoundingBoxAnnotator` will be removed in supervision-0.26.0.\n"
     ]
    },
    {
     "name": "stdout",
     "output_type": "stream",
     "text": [
      "0: 416x640 3 cars, 1 truck, 21.8ms\n",
      "Speed: 3.0ms preprocess, 21.8ms inference, 11.1ms postprocess per image at shape (1, 3, 416, 640)\n",
      "\n",
      "0: 416x640 3 cars, 1 truck, 36.7ms\n",
      "Speed: 6.0ms preprocess, 36.7ms inference, 33.1ms postprocess per image at shape (1, 3, 416, 640)\n",
      "\n"
     ]
    },
    {
     "name": "stderr",
     "output_type": "stream",
     "text": [
      "SupervisionWarnings: BoundingBoxAnnotator is deprecated: `BoundingBoxAnnotator` is deprecated and has been renamed to `BoxAnnotator`. `BoundingBoxAnnotator` will be removed in supervision-0.26.0.\n",
      "SupervisionWarnings: BoundingBoxAnnotator is deprecated: `BoundingBoxAnnotator` is deprecated and has been renamed to `BoxAnnotator`. `BoundingBoxAnnotator` will be removed in supervision-0.26.0.\n"
     ]
    },
    {
     "name": "stdout",
     "output_type": "stream",
     "text": [
      "0: 416x640 3 cars, 1 truck, 65.5ms\n",
      "Speed: 3.0ms preprocess, 65.5ms inference, 11.2ms postprocess per image at shape (1, 3, 416, 640)\n",
      "\n",
      "0: 416x640 4 cars, 1 truck, 24.2ms\n",
      "Speed: 3.0ms preprocess, 24.2ms inference, 4.0ms postprocess per image at shape (1, 3, 416, 640)\n",
      "\n",
      "0: 416x640 3 cars, 1 truck, 23.6ms\n"
     ]
    },
    {
     "name": "stderr",
     "output_type": "stream",
     "text": [
      "SupervisionWarnings: BoundingBoxAnnotator is deprecated: `BoundingBoxAnnotator` is deprecated and has been renamed to `BoxAnnotator`. `BoundingBoxAnnotator` will be removed in supervision-0.26.0.\n",
      "SupervisionWarnings: BoundingBoxAnnotator is deprecated: `BoundingBoxAnnotator` is deprecated and has been renamed to `BoxAnnotator`. `BoundingBoxAnnotator` will be removed in supervision-0.26.0.\n"
     ]
    },
    {
     "name": "stdout",
     "output_type": "stream",
     "text": [
      "Speed: 2.0ms preprocess, 23.6ms inference, 18.0ms postprocess per image at shape (1, 3, 416, 640)\n",
      "\n",
      "0: 416x640 3 cars, 1 truck, 45.5ms\n",
      "Speed: 13.3ms preprocess, 45.5ms inference, 20.5ms postprocess per image at shape (1, 3, 416, 640)\n",
      "\n"
     ]
    },
    {
     "name": "stderr",
     "output_type": "stream",
     "text": [
      "SupervisionWarnings: BoundingBoxAnnotator is deprecated: `BoundingBoxAnnotator` is deprecated and has been renamed to `BoxAnnotator`. `BoundingBoxAnnotator` will be removed in supervision-0.26.0.\n",
      "SupervisionWarnings: BoundingBoxAnnotator is deprecated: `BoundingBoxAnnotator` is deprecated and has been renamed to `BoxAnnotator`. `BoundingBoxAnnotator` will be removed in supervision-0.26.0.\n"
     ]
    },
    {
     "name": "stdout",
     "output_type": "stream",
     "text": [
      "0: 416x640 3 cars, 1 truck, 58.5ms\n",
      "Speed: 1.5ms preprocess, 58.5ms inference, 29.3ms postprocess per image at shape (1, 3, 416, 640)\n",
      "\n",
      "0: 416x640 3 cars, 1 truck, 34.9ms\n",
      "Speed: 4.4ms preprocess, 34.9ms inference, 1.0ms postprocess per image at shape (1, 3, 416, 640)\n",
      "\n",
      "0: 416x640 4 cars, 1 truck, 32.5ms\n",
      "Speed: 2.0ms preprocess, 32.5ms inference, 2.0ms postprocess per image at shape (1, 3, 416, 640)\n"
     ]
    },
    {
     "name": "stderr",
     "output_type": "stream",
     "text": [
      "SupervisionWarnings: BoundingBoxAnnotator is deprecated: `BoundingBoxAnnotator` is deprecated and has been renamed to `BoxAnnotator`. `BoundingBoxAnnotator` will be removed in supervision-0.26.0.\n",
      "SupervisionWarnings: BoundingBoxAnnotator is deprecated: `BoundingBoxAnnotator` is deprecated and has been renamed to `BoxAnnotator`. `BoundingBoxAnnotator` will be removed in supervision-0.26.0.\n",
      "SupervisionWarnings: BoundingBoxAnnotator is deprecated: `BoundingBoxAnnotator` is deprecated and has been renamed to `BoxAnnotator`. `BoundingBoxAnnotator` will be removed in supervision-0.26.0.\n"
     ]
    },
    {
     "name": "stdout",
     "output_type": "stream",
     "text": [
      "\n",
      "0: 416x640 4 cars, 1 truck, 31.3ms\n",
      "Speed: 10.6ms preprocess, 31.3ms inference, 19.7ms postprocess per image at shape (1, 3, 416, 640)\n",
      "\n",
      "0: 416x640 4 cars, 1 truck, 20.6ms\n",
      "Speed: 3.5ms preprocess, 20.6ms inference, 1.0ms postprocess per image at shape (1, 3, 416, 640)\n",
      "\n",
      "0: 416x640 4 cars, 1 truck, 31.5ms\n",
      "Speed: 2.5ms preprocess, 31.5ms inference, 20.0ms postprocess per image at shape (1, 3, 416, 640)\n"
     ]
    },
    {
     "name": "stderr",
     "output_type": "stream",
     "text": [
      "SupervisionWarnings: BoundingBoxAnnotator is deprecated: `BoundingBoxAnnotator` is deprecated and has been renamed to `BoxAnnotator`. `BoundingBoxAnnotator` will be removed in supervision-0.26.0.\n",
      "SupervisionWarnings: BoundingBoxAnnotator is deprecated: `BoundingBoxAnnotator` is deprecated and has been renamed to `BoxAnnotator`. `BoundingBoxAnnotator` will be removed in supervision-0.26.0.\n",
      "SupervisionWarnings: BoundingBoxAnnotator is deprecated: `BoundingBoxAnnotator` is deprecated and has been renamed to `BoxAnnotator`. `BoundingBoxAnnotator` will be removed in supervision-0.26.0.\n"
     ]
    },
    {
     "name": "stdout",
     "output_type": "stream",
     "text": [
      "\n",
      "0: 416x640 4 cars, 1 truck, 32.6ms\n",
      "Speed: 3.1ms preprocess, 32.6ms inference, 1.0ms postprocess per image at shape (1, 3, 416, 640)\n",
      "\n",
      "0: 416x640 4 cars, 1 truck, 57.5ms\n",
      "Speed: 5.0ms preprocess, 57.5ms inference, 27.5ms postprocess per image at shape (1, 3, 416, 640)\n",
      "\n"
     ]
    },
    {
     "name": "stderr",
     "output_type": "stream",
     "text": [
      "SupervisionWarnings: BoundingBoxAnnotator is deprecated: `BoundingBoxAnnotator` is deprecated and has been renamed to `BoxAnnotator`. `BoundingBoxAnnotator` will be removed in supervision-0.26.0.\n",
      "SupervisionWarnings: BoundingBoxAnnotator is deprecated: `BoundingBoxAnnotator` is deprecated and has been renamed to `BoxAnnotator`. `BoundingBoxAnnotator` will be removed in supervision-0.26.0.\n"
     ]
    },
    {
     "name": "stdout",
     "output_type": "stream",
     "text": [
      "0: 416x640 4 cars, 1 truck, 54.0ms\n",
      "Speed: 2.1ms preprocess, 54.0ms inference, 2.0ms postprocess per image at shape (1, 3, 416, 640)\n",
      "\n",
      "0: 416x640 4 cars, 1 truck, 48.6ms\n",
      "Speed: 2.5ms preprocess, 48.6ms inference, 22.6ms postprocess per image at shape (1, 3, 416, 640)\n",
      "\n"
     ]
    },
    {
     "name": "stderr",
     "output_type": "stream",
     "text": [
      "SupervisionWarnings: BoundingBoxAnnotator is deprecated: `BoundingBoxAnnotator` is deprecated and has been renamed to `BoxAnnotator`. `BoundingBoxAnnotator` will be removed in supervision-0.26.0.\n",
      "SupervisionWarnings: BoundingBoxAnnotator is deprecated: `BoundingBoxAnnotator` is deprecated and has been renamed to `BoxAnnotator`. `BoundingBoxAnnotator` will be removed in supervision-0.26.0.\n"
     ]
    },
    {
     "name": "stdout",
     "output_type": "stream",
     "text": [
      "0: 416x640 4 cars, 1 truck, 49.0ms\n",
      "Speed: 1.0ms preprocess, 49.0ms inference, 11.5ms postprocess per image at shape (1, 3, 416, 640)\n",
      "\n",
      "0: 416x640 4 cars, 1 truck, 26.0ms\n",
      "Speed: 2.5ms preprocess, 26.0ms inference, 33.6ms postprocess per image at shape (1, 3, 416, 640)\n",
      "\n",
      "0: 416x640 4 cars, 1 truck, 29.7ms\n"
     ]
    },
    {
     "name": "stderr",
     "output_type": "stream",
     "text": [
      "SupervisionWarnings: BoundingBoxAnnotator is deprecated: `BoundingBoxAnnotator` is deprecated and has been renamed to `BoxAnnotator`. `BoundingBoxAnnotator` will be removed in supervision-0.26.0.\n",
      "SupervisionWarnings: BoundingBoxAnnotator is deprecated: `BoundingBoxAnnotator` is deprecated and has been renamed to `BoxAnnotator`. `BoundingBoxAnnotator` will be removed in supervision-0.26.0.\n"
     ]
    },
    {
     "name": "stdout",
     "output_type": "stream",
     "text": [
      "Speed: 2.0ms preprocess, 29.7ms inference, 2.0ms postprocess per image at shape (1, 3, 416, 640)\n",
      "\n",
      "0: 416x640 4 cars, 1 truck, 75.0ms\n",
      "Speed: 3.5ms preprocess, 75.0ms inference, 15.0ms postprocess per image at shape (1, 3, 416, 640)\n",
      "\n"
     ]
    },
    {
     "name": "stderr",
     "output_type": "stream",
     "text": [
      "SupervisionWarnings: BoundingBoxAnnotator is deprecated: `BoundingBoxAnnotator` is deprecated and has been renamed to `BoxAnnotator`. `BoundingBoxAnnotator` will be removed in supervision-0.26.0.\n",
      "SupervisionWarnings: BoundingBoxAnnotator is deprecated: `BoundingBoxAnnotator` is deprecated and has been renamed to `BoxAnnotator`. `BoundingBoxAnnotator` will be removed in supervision-0.26.0.\n"
     ]
    },
    {
     "name": "stdout",
     "output_type": "stream",
     "text": [
      "0: 416x640 3 cars, 1 truck, 39.5ms\n",
      "Speed: 6.5ms preprocess, 39.5ms inference, 18.0ms postprocess per image at shape (1, 3, 416, 640)\n",
      "\n",
      "0: 416x640 3 cars, 1 truck, 20.9ms\n",
      "Speed: 4.0ms preprocess, 20.9ms inference, 35.4ms postprocess per image at shape (1, 3, 416, 640)\n",
      "\n"
     ]
    },
    {
     "name": "stderr",
     "output_type": "stream",
     "text": [
      "SupervisionWarnings: BoundingBoxAnnotator is deprecated: `BoundingBoxAnnotator` is deprecated and has been renamed to `BoxAnnotator`. `BoundingBoxAnnotator` will be removed in supervision-0.26.0.\n",
      "SupervisionWarnings: BoundingBoxAnnotator is deprecated: `BoundingBoxAnnotator` is deprecated and has been renamed to `BoxAnnotator`. `BoundingBoxAnnotator` will be removed in supervision-0.26.0.\n"
     ]
    },
    {
     "name": "stdout",
     "output_type": "stream",
     "text": [
      "0: 416x640 3 cars, 1 truck, 49.9ms\n",
      "Speed: 2.0ms preprocess, 49.9ms inference, 23.0ms postprocess per image at shape (1, 3, 416, 640)\n",
      "\n",
      "0: 416x640 3 cars, 1 truck, 49.5ms\n",
      "Speed: 2.0ms preprocess, 49.5ms inference, 25.6ms postprocess per image at shape (1, 3, 416, 640)\n",
      "\n"
     ]
    },
    {
     "name": "stderr",
     "output_type": "stream",
     "text": [
      "SupervisionWarnings: BoundingBoxAnnotator is deprecated: `BoundingBoxAnnotator` is deprecated and has been renamed to `BoxAnnotator`. `BoundingBoxAnnotator` will be removed in supervision-0.26.0.\n",
      "SupervisionWarnings: BoundingBoxAnnotator is deprecated: `BoundingBoxAnnotator` is deprecated and has been renamed to `BoxAnnotator`. `BoundingBoxAnnotator` will be removed in supervision-0.26.0.\n"
     ]
    },
    {
     "name": "stdout",
     "output_type": "stream",
     "text": [
      "0: 416x640 3 cars, 1 truck, 30.1ms\n",
      "Speed: 2.0ms preprocess, 30.1ms inference, 17.6ms postprocess per image at shape (1, 3, 416, 640)\n",
      "\n",
      "0: 416x640 3 cars, 1 truck, 21.8ms\n",
      "Speed: 5.2ms preprocess, 21.8ms inference, 21.1ms postprocess per image at shape (1, 3, 416, 640)\n",
      "\n"
     ]
    },
    {
     "name": "stderr",
     "output_type": "stream",
     "text": [
      "SupervisionWarnings: BoundingBoxAnnotator is deprecated: `BoundingBoxAnnotator` is deprecated and has been renamed to `BoxAnnotator`. `BoundingBoxAnnotator` will be removed in supervision-0.26.0.\n",
      "SupervisionWarnings: BoundingBoxAnnotator is deprecated: `BoundingBoxAnnotator` is deprecated and has been renamed to `BoxAnnotator`. `BoundingBoxAnnotator` will be removed in supervision-0.26.0.\n"
     ]
    },
    {
     "name": "stdout",
     "output_type": "stream",
     "text": [
      "0: 416x640 3 cars, 1 truck, 42.6ms\n",
      "Speed: 7.5ms preprocess, 42.6ms inference, 18.0ms postprocess per image at shape (1, 3, 416, 640)\n",
      "\n",
      "0: 416x640 3 cars, 1 truck, 35.2ms\n",
      "Speed: 4.0ms preprocess, 35.2ms inference, 21.0ms postprocess per image at shape (1, 3, 416, 640)\n",
      "\n"
     ]
    },
    {
     "name": "stderr",
     "output_type": "stream",
     "text": [
      "SupervisionWarnings: BoundingBoxAnnotator is deprecated: `BoundingBoxAnnotator` is deprecated and has been renamed to `BoxAnnotator`. `BoundingBoxAnnotator` will be removed in supervision-0.26.0.\n",
      "SupervisionWarnings: BoundingBoxAnnotator is deprecated: `BoundingBoxAnnotator` is deprecated and has been renamed to `BoxAnnotator`. `BoundingBoxAnnotator` will be removed in supervision-0.26.0.\n"
     ]
    },
    {
     "name": "stdout",
     "output_type": "stream",
     "text": [
      "0: 416x640 3 cars, 1 truck, 38.3ms\n",
      "Speed: 3.0ms preprocess, 38.3ms inference, 21.0ms postprocess per image at shape (1, 3, 416, 640)\n",
      "\n",
      "0: 416x640 3 cars, 1 truck, 36.7ms\n",
      "Speed: 7.5ms preprocess, 36.7ms inference, 19.0ms postprocess per image at shape (1, 3, 416, 640)\n",
      "\n"
     ]
    },
    {
     "name": "stderr",
     "output_type": "stream",
     "text": [
      "SupervisionWarnings: BoundingBoxAnnotator is deprecated: `BoundingBoxAnnotator` is deprecated and has been renamed to `BoxAnnotator`. `BoundingBoxAnnotator` will be removed in supervision-0.26.0.\n",
      "SupervisionWarnings: BoundingBoxAnnotator is deprecated: `BoundingBoxAnnotator` is deprecated and has been renamed to `BoxAnnotator`. `BoundingBoxAnnotator` will be removed in supervision-0.26.0.\n"
     ]
    },
    {
     "name": "stdout",
     "output_type": "stream",
     "text": [
      "0: 416x640 3 cars, 1 truck, 49.6ms\n",
      "Speed: 3.0ms preprocess, 49.6ms inference, 10.2ms postprocess per image at shape (1, 3, 416, 640)\n",
      "\n",
      "0: 416x640 3 cars, 1 truck, 70.5ms\n",
      "Speed: 5.0ms preprocess, 70.5ms inference, 22.6ms postprocess per image at shape (1, 3, 416, 640)\n",
      "\n"
     ]
    },
    {
     "name": "stderr",
     "output_type": "stream",
     "text": [
      "SupervisionWarnings: BoundingBoxAnnotator is deprecated: `BoundingBoxAnnotator` is deprecated and has been renamed to `BoxAnnotator`. `BoundingBoxAnnotator` will be removed in supervision-0.26.0.\n",
      "SupervisionWarnings: BoundingBoxAnnotator is deprecated: `BoundingBoxAnnotator` is deprecated and has been renamed to `BoxAnnotator`. `BoundingBoxAnnotator` will be removed in supervision-0.26.0.\n"
     ]
    },
    {
     "name": "stdout",
     "output_type": "stream",
     "text": [
      "0: 416x640 3 cars, 1 truck, 27.1ms\n",
      "Speed: 5.5ms preprocess, 27.1ms inference, 2.0ms postprocess per image at shape (1, 3, 416, 640)\n",
      "\n",
      "0: 416x640 3 cars, 1 truck, 41.3ms\n",
      "Speed: 3.0ms preprocess, 41.3ms inference, 37.1ms postprocess per image at shape (1, 3, 416, 640)\n",
      "\n"
     ]
    },
    {
     "name": "stderr",
     "output_type": "stream",
     "text": [
      "SupervisionWarnings: BoundingBoxAnnotator is deprecated: `BoundingBoxAnnotator` is deprecated and has been renamed to `BoxAnnotator`. `BoundingBoxAnnotator` will be removed in supervision-0.26.0.\n",
      "SupervisionWarnings: BoundingBoxAnnotator is deprecated: `BoundingBoxAnnotator` is deprecated and has been renamed to `BoxAnnotator`. `BoundingBoxAnnotator` will be removed in supervision-0.26.0.\n"
     ]
    },
    {
     "name": "stdout",
     "output_type": "stream",
     "text": [
      "0: 416x640 3 cars, 1 truck, 50.8ms\n",
      "Speed: 2.0ms preprocess, 50.8ms inference, 25.1ms postprocess per image at shape (1, 3, 416, 640)\n",
      "\n",
      "0: 416x640 3 cars, 1 truck, 73.5ms\n",
      "Speed: 3.3ms preprocess, 73.5ms inference, 33.2ms postprocess per image at shape (1, 3, 416, 640)\n",
      "\n"
     ]
    },
    {
     "name": "stderr",
     "output_type": "stream",
     "text": [
      "SupervisionWarnings: BoundingBoxAnnotator is deprecated: `BoundingBoxAnnotator` is deprecated and has been renamed to `BoxAnnotator`. `BoundingBoxAnnotator` will be removed in supervision-0.26.0.\n",
      "SupervisionWarnings: BoundingBoxAnnotator is deprecated: `BoundingBoxAnnotator` is deprecated and has been renamed to `BoxAnnotator`. `BoundingBoxAnnotator` will be removed in supervision-0.26.0.\n"
     ]
    },
    {
     "name": "stdout",
     "output_type": "stream",
     "text": [
      "0: 416x640 3 cars, 1 truck, 40.4ms\n",
      "Speed: 3.0ms preprocess, 40.4ms inference, 27.8ms postprocess per image at shape (1, 3, 416, 640)\n",
      "\n",
      "0: 416x640 3 cars, 1 truck, 47.7ms\n",
      "Speed: 3.0ms preprocess, 47.7ms inference, 24.8ms postprocess per image at shape (1, 3, 416, 640)\n",
      "\n"
     ]
    },
    {
     "name": "stderr",
     "output_type": "stream",
     "text": [
      "SupervisionWarnings: BoundingBoxAnnotator is deprecated: `BoundingBoxAnnotator` is deprecated and has been renamed to `BoxAnnotator`. `BoundingBoxAnnotator` will be removed in supervision-0.26.0.\n",
      "SupervisionWarnings: BoundingBoxAnnotator is deprecated: `BoundingBoxAnnotator` is deprecated and has been renamed to `BoxAnnotator`. `BoundingBoxAnnotator` will be removed in supervision-0.26.0.\n"
     ]
    },
    {
     "name": "stdout",
     "output_type": "stream",
     "text": [
      "0: 416x640 3 cars, 1 truck, 54.8ms\n",
      "Speed: 5.5ms preprocess, 54.8ms inference, 36.9ms postprocess per image at shape (1, 3, 416, 640)\n",
      "\n",
      "0: 416x640 3 cars, 1 truck, 84.7ms\n",
      "Speed: 2.5ms preprocess, 84.7ms inference, 17.1ms postprocess per image at shape (1, 3, 416, 640)\n"
     ]
    },
    {
     "name": "stderr",
     "output_type": "stream",
     "text": [
      "SupervisionWarnings: BoundingBoxAnnotator is deprecated: `BoundingBoxAnnotator` is deprecated and has been renamed to `BoxAnnotator`. `BoundingBoxAnnotator` will be removed in supervision-0.26.0.\n",
      "SupervisionWarnings: BoundingBoxAnnotator is deprecated: `BoundingBoxAnnotator` is deprecated and has been renamed to `BoxAnnotator`. `BoundingBoxAnnotator` will be removed in supervision-0.26.0.\n"
     ]
    },
    {
     "name": "stdout",
     "output_type": "stream",
     "text": [
      "\n",
      "0: 416x640 3 cars, 1 truck, 35.5ms\n",
      "Speed: 3.6ms preprocess, 35.5ms inference, 13.0ms postprocess per image at shape (1, 3, 416, 640)\n",
      "\n",
      "0: 416x640 3 cars, 1 truck, 61.4ms\n",
      "Speed: 16.9ms preprocess, 61.4ms inference, 35.7ms postprocess per image at shape (1, 3, 416, 640)\n"
     ]
    },
    {
     "name": "stderr",
     "output_type": "stream",
     "text": [
      "SupervisionWarnings: BoundingBoxAnnotator is deprecated: `BoundingBoxAnnotator` is deprecated and has been renamed to `BoxAnnotator`. `BoundingBoxAnnotator` will be removed in supervision-0.26.0.\n",
      "SupervisionWarnings: BoundingBoxAnnotator is deprecated: `BoundingBoxAnnotator` is deprecated and has been renamed to `BoxAnnotator`. `BoundingBoxAnnotator` will be removed in supervision-0.26.0.\n"
     ]
    },
    {
     "name": "stdout",
     "output_type": "stream",
     "text": [
      "\n",
      "0: 416x640 3 cars, 1 truck, 30.9ms\n",
      "Speed: 4.0ms preprocess, 30.9ms inference, 30.7ms postprocess per image at shape (1, 3, 416, 640)\n",
      "\n",
      "0: 416x640 3 cars, 1 truck, 39.3ms\n",
      "Speed: 3.3ms preprocess, 39.3ms inference, 22.0ms postprocess per image at shape (1, 3, 416, 640)\n",
      "\n"
     ]
    },
    {
     "name": "stderr",
     "output_type": "stream",
     "text": [
      "SupervisionWarnings: BoundingBoxAnnotator is deprecated: `BoundingBoxAnnotator` is deprecated and has been renamed to `BoxAnnotator`. `BoundingBoxAnnotator` will be removed in supervision-0.26.0.\n",
      "SupervisionWarnings: BoundingBoxAnnotator is deprecated: `BoundingBoxAnnotator` is deprecated and has been renamed to `BoxAnnotator`. `BoundingBoxAnnotator` will be removed in supervision-0.26.0.\n"
     ]
    },
    {
     "name": "stdout",
     "output_type": "stream",
     "text": [
      "0: 416x640 3 cars, 1 truck, 43.2ms\n",
      "Speed: 9.5ms preprocess, 43.2ms inference, 22.9ms postprocess per image at shape (1, 3, 416, 640)\n",
      "\n",
      "0: 416x640 3 cars, 1 truck, 21.6ms\n",
      "Speed: 3.1ms preprocess, 21.6ms inference, 11.5ms postprocess per image at shape (1, 3, 416, 640)\n",
      "\n"
     ]
    },
    {
     "name": "stderr",
     "output_type": "stream",
     "text": [
      "SupervisionWarnings: BoundingBoxAnnotator is deprecated: `BoundingBoxAnnotator` is deprecated and has been renamed to `BoxAnnotator`. `BoundingBoxAnnotator` will be removed in supervision-0.26.0.\n",
      "SupervisionWarnings: BoundingBoxAnnotator is deprecated: `BoundingBoxAnnotator` is deprecated and has been renamed to `BoxAnnotator`. `BoundingBoxAnnotator` will be removed in supervision-0.26.0.\n"
     ]
    },
    {
     "name": "stdout",
     "output_type": "stream",
     "text": [
      "0: 416x640 3 cars, 1 truck, 55.4ms\n",
      "Speed: 1.5ms preprocess, 55.4ms inference, 27.1ms postprocess per image at shape (1, 3, 416, 640)\n",
      "\n",
      "0: 416x640 3 cars, 1 truck, 26.1ms\n",
      "Speed: 3.0ms preprocess, 26.1ms inference, 10.0ms postprocess per image at shape (1, 3, 416, 640)\n",
      "\n",
      "0: 416x640 3 cars, 1 truck, 16.0ms\n",
      "Speed: 2.0ms preprocess, 16.0ms inference, 11.0ms postprocess per image at shape (1, 3, 416, 640)\n"
     ]
    },
    {
     "name": "stderr",
     "output_type": "stream",
     "text": [
      "SupervisionWarnings: BoundingBoxAnnotator is deprecated: `BoundingBoxAnnotator` is deprecated and has been renamed to `BoxAnnotator`. `BoundingBoxAnnotator` will be removed in supervision-0.26.0.\n",
      "SupervisionWarnings: BoundingBoxAnnotator is deprecated: `BoundingBoxAnnotator` is deprecated and has been renamed to `BoxAnnotator`. `BoundingBoxAnnotator` will be removed in supervision-0.26.0.\n",
      "SupervisionWarnings: BoundingBoxAnnotator is deprecated: `BoundingBoxAnnotator` is deprecated and has been renamed to `BoxAnnotator`. `BoundingBoxAnnotator` will be removed in supervision-0.26.0.\n"
     ]
    },
    {
     "name": "stdout",
     "output_type": "stream",
     "text": [
      "\n",
      "0: 416x640 3 cars, 1 truck, 19.7ms\n",
      "Speed: 2.0ms preprocess, 19.7ms inference, 11.5ms postprocess per image at shape (1, 3, 416, 640)\n",
      "\n",
      "0: 416x640 3 cars, 1 truck, 19.4ms\n",
      "Speed: 4.0ms preprocess, 19.4ms inference, 2.0ms postprocess per image at shape (1, 3, 416, 640)\n",
      "\n"
     ]
    },
    {
     "name": "stderr",
     "output_type": "stream",
     "text": [
      "SupervisionWarnings: BoundingBoxAnnotator is deprecated: `BoundingBoxAnnotator` is deprecated and has been renamed to `BoxAnnotator`. `BoundingBoxAnnotator` will be removed in supervision-0.26.0.\n",
      "SupervisionWarnings: BoundingBoxAnnotator is deprecated: `BoundingBoxAnnotator` is deprecated and has been renamed to `BoxAnnotator`. `BoundingBoxAnnotator` will be removed in supervision-0.26.0.\n"
     ]
    },
    {
     "name": "stdout",
     "output_type": "stream",
     "text": [
      "0: 416x640 3 cars, 1 truck, 51.1ms\n",
      "Speed: 6.0ms preprocess, 51.1ms inference, 17.5ms postprocess per image at shape (1, 3, 416, 640)\n",
      "\n",
      "0: 416x640 3 cars, 1 truck, 48.8ms\n",
      "Speed: 4.0ms preprocess, 48.8ms inference, 16.8ms postprocess per image at shape (1, 3, 416, 640)\n",
      "\n"
     ]
    },
    {
     "name": "stderr",
     "output_type": "stream",
     "text": [
      "SupervisionWarnings: BoundingBoxAnnotator is deprecated: `BoundingBoxAnnotator` is deprecated and has been renamed to `BoxAnnotator`. `BoundingBoxAnnotator` will be removed in supervision-0.26.0.\n",
      "SupervisionWarnings: BoundingBoxAnnotator is deprecated: `BoundingBoxAnnotator` is deprecated and has been renamed to `BoxAnnotator`. `BoundingBoxAnnotator` will be removed in supervision-0.26.0.\n"
     ]
    },
    {
     "name": "stdout",
     "output_type": "stream",
     "text": [
      "0: 416x640 3 cars, 1 truck, 59.8ms\n",
      "Speed: 6.1ms preprocess, 59.8ms inference, 2.0ms postprocess per image at shape (1, 3, 416, 640)\n",
      "\n",
      "0: 416x640 3 cars, 1 truck, 17.7ms\n",
      "Speed: 2.0ms preprocess, 17.7ms inference, 12.5ms postprocess per image at shape (1, 3, 416, 640)\n",
      "\n",
      "0: 416x640 3 cars, 1 truck, 27.8ms\n",
      "Speed: 2.0ms preprocess, 27.8ms inference, 2.0ms postprocess per image at shape (1, 3, 416, 640)\n"
     ]
    },
    {
     "name": "stderr",
     "output_type": "stream",
     "text": [
      "SupervisionWarnings: BoundingBoxAnnotator is deprecated: `BoundingBoxAnnotator` is deprecated and has been renamed to `BoxAnnotator`. `BoundingBoxAnnotator` will be removed in supervision-0.26.0.\n",
      "SupervisionWarnings: BoundingBoxAnnotator is deprecated: `BoundingBoxAnnotator` is deprecated and has been renamed to `BoxAnnotator`. `BoundingBoxAnnotator` will be removed in supervision-0.26.0.\n",
      "SupervisionWarnings: BoundingBoxAnnotator is deprecated: `BoundingBoxAnnotator` is deprecated and has been renamed to `BoxAnnotator`. `BoundingBoxAnnotator` will be removed in supervision-0.26.0.\n"
     ]
    },
    {
     "name": "stdout",
     "output_type": "stream",
     "text": [
      "\n",
      "0: 416x640 3 cars, 1 truck, 30.6ms\n",
      "Speed: 4.6ms preprocess, 30.6ms inference, 3.0ms postprocess per image at shape (1, 3, 416, 640)\n",
      "\n",
      "0: 416x640 3 cars, 1 truck, 28.2ms\n",
      "Speed: 2.1ms preprocess, 28.2ms inference, 7.5ms postprocess per image at shape (1, 3, 416, 640)\n",
      "\n",
      "0: 416x640 3 cars, 1 truck, 27.5ms\n",
      "Speed: 4.0ms preprocess, 27.5ms inference, 5.0ms postprocess per image at shape (1, 3, 416, 640)\n"
     ]
    },
    {
     "name": "stderr",
     "output_type": "stream",
     "text": [
      "SupervisionWarnings: BoundingBoxAnnotator is deprecated: `BoundingBoxAnnotator` is deprecated and has been renamed to `BoxAnnotator`. `BoundingBoxAnnotator` will be removed in supervision-0.26.0.\n",
      "SupervisionWarnings: BoundingBoxAnnotator is deprecated: `BoundingBoxAnnotator` is deprecated and has been renamed to `BoxAnnotator`. `BoundingBoxAnnotator` will be removed in supervision-0.26.0.\n",
      "SupervisionWarnings: BoundingBoxAnnotator is deprecated: `BoundingBoxAnnotator` is deprecated and has been renamed to `BoxAnnotator`. `BoundingBoxAnnotator` will be removed in supervision-0.26.0.\n"
     ]
    },
    {
     "name": "stdout",
     "output_type": "stream",
     "text": [
      "\n",
      "0: 416x640 3 cars, 1 truck, 28.6ms\n",
      "Speed: 2.0ms preprocess, 28.6ms inference, 4.0ms postprocess per image at shape (1, 3, 416, 640)\n",
      "\n",
      "0: 416x640 3 cars, 1 truck, 20.4ms\n",
      "Speed: 7.0ms preprocess, 20.4ms inference, 10.5ms postprocess per image at shape (1, 3, 416, 640)\n",
      "\n",
      "0: 416x640 3 cars, 1 truck, 30.6ms\n"
     ]
    },
    {
     "name": "stderr",
     "output_type": "stream",
     "text": [
      "SupervisionWarnings: BoundingBoxAnnotator is deprecated: `BoundingBoxAnnotator` is deprecated and has been renamed to `BoxAnnotator`. `BoundingBoxAnnotator` will be removed in supervision-0.26.0.\n",
      "SupervisionWarnings: BoundingBoxAnnotator is deprecated: `BoundingBoxAnnotator` is deprecated and has been renamed to `BoxAnnotator`. `BoundingBoxAnnotator` will be removed in supervision-0.26.0.\n"
     ]
    },
    {
     "name": "stdout",
     "output_type": "stream",
     "text": [
      "Speed: 4.5ms preprocess, 30.6ms inference, 1.0ms postprocess per image at shape (1, 3, 416, 640)\n",
      "\n",
      "0: 416x640 3 cars, 1 truck, 21.7ms\n",
      "Speed: 2.0ms preprocess, 21.7ms inference, 3.0ms postprocess per image at shape (1, 3, 416, 640)\n",
      "\n",
      "0: 416x640 3 cars, 1 truck, 40.2ms\n"
     ]
    },
    {
     "name": "stderr",
     "output_type": "stream",
     "text": [
      "SupervisionWarnings: BoundingBoxAnnotator is deprecated: `BoundingBoxAnnotator` is deprecated and has been renamed to `BoxAnnotator`. `BoundingBoxAnnotator` will be removed in supervision-0.26.0.\n",
      "SupervisionWarnings: BoundingBoxAnnotator is deprecated: `BoundingBoxAnnotator` is deprecated and has been renamed to `BoxAnnotator`. `BoundingBoxAnnotator` will be removed in supervision-0.26.0.\n"
     ]
    },
    {
     "name": "stdout",
     "output_type": "stream",
     "text": [
      "Speed: 5.0ms preprocess, 40.2ms inference, 14.6ms postprocess per image at shape (1, 3, 416, 640)\n",
      "\n",
      "0: 416x640 3 cars, 1 truck, 23.1ms\n",
      "Speed: 2.0ms preprocess, 23.1ms inference, 2.0ms postprocess per image at shape (1, 3, 416, 640)\n",
      "\n",
      "0: 416x640 3 cars, 1 truck, 30.6ms\n"
     ]
    },
    {
     "name": "stderr",
     "output_type": "stream",
     "text": [
      "SupervisionWarnings: BoundingBoxAnnotator is deprecated: `BoundingBoxAnnotator` is deprecated and has been renamed to `BoxAnnotator`. `BoundingBoxAnnotator` will be removed in supervision-0.26.0.\n",
      "SupervisionWarnings: BoundingBoxAnnotator is deprecated: `BoundingBoxAnnotator` is deprecated and has been renamed to `BoxAnnotator`. `BoundingBoxAnnotator` will be removed in supervision-0.26.0.\n"
     ]
    },
    {
     "name": "stdout",
     "output_type": "stream",
     "text": [
      "Speed: 5.1ms preprocess, 30.6ms inference, 16.4ms postprocess per image at shape (1, 3, 416, 640)\n",
      "\n",
      "0: 416x640 3 cars, 1 truck, 21.1ms\n",
      "Speed: 3.0ms preprocess, 21.1ms inference, 11.5ms postprocess per image at shape (1, 3, 416, 640)\n",
      "\n",
      "0: 416x640 3 cars, 1 truck, 25.2ms\n",
      "Speed: 4.0ms preprocess, 25.2ms inference, 7.5ms postprocess per image at shape (1, 3, 416, 640)\n"
     ]
    },
    {
     "name": "stderr",
     "output_type": "stream",
     "text": [
      "SupervisionWarnings: BoundingBoxAnnotator is deprecated: `BoundingBoxAnnotator` is deprecated and has been renamed to `BoxAnnotator`. `BoundingBoxAnnotator` will be removed in supervision-0.26.0.\n",
      "SupervisionWarnings: BoundingBoxAnnotator is deprecated: `BoundingBoxAnnotator` is deprecated and has been renamed to `BoxAnnotator`. `BoundingBoxAnnotator` will be removed in supervision-0.26.0.\n"
     ]
    },
    {
     "name": "stdout",
     "output_type": "stream",
     "text": [
      "\n",
      "0: 416x640 3 cars, 1 truck, 27.1ms\n",
      "Speed: 2.5ms preprocess, 27.1ms inference, 16.0ms postprocess per image at shape (1, 3, 416, 640)\n",
      "\n"
     ]
    },
    {
     "name": "stderr",
     "output_type": "stream",
     "text": [
      "SupervisionWarnings: BoundingBoxAnnotator is deprecated: `BoundingBoxAnnotator` is deprecated and has been renamed to `BoxAnnotator`. `BoundingBoxAnnotator` will be removed in supervision-0.26.0.\n",
      "SupervisionWarnings: BoundingBoxAnnotator is deprecated: `BoundingBoxAnnotator` is deprecated and has been renamed to `BoxAnnotator`. `BoundingBoxAnnotator` will be removed in supervision-0.26.0.\n"
     ]
    },
    {
     "name": "stdout",
     "output_type": "stream",
     "text": [
      "0: 416x640 3 cars, 1 truck, 31.6ms\n",
      "Speed: 13.5ms preprocess, 31.6ms inference, 11.5ms postprocess per image at shape (1, 3, 416, 640)\n",
      "\n",
      "0: 416x640 3 cars, 1 truck, 19.5ms\n",
      "Speed: 4.0ms preprocess, 19.5ms inference, 11.1ms postprocess per image at shape (1, 3, 416, 640)\n",
      "\n",
      "0: 416x640 3 cars, 1 truck, 19.9ms\n",
      "Speed: 3.0ms preprocess, 19.9ms inference, 24.1ms postprocess per image at shape (1, 3, 416, 640)\n"
     ]
    },
    {
     "name": "stderr",
     "output_type": "stream",
     "text": [
      "SupervisionWarnings: BoundingBoxAnnotator is deprecated: `BoundingBoxAnnotator` is deprecated and has been renamed to `BoxAnnotator`. `BoundingBoxAnnotator` will be removed in supervision-0.26.0.\n",
      "SupervisionWarnings: BoundingBoxAnnotator is deprecated: `BoundingBoxAnnotator` is deprecated and has been renamed to `BoxAnnotator`. `BoundingBoxAnnotator` will be removed in supervision-0.26.0.\n",
      "SupervisionWarnings: BoundingBoxAnnotator is deprecated: `BoundingBoxAnnotator` is deprecated and has been renamed to `BoxAnnotator`. `BoundingBoxAnnotator` will be removed in supervision-0.26.0.\n"
     ]
    },
    {
     "name": "stdout",
     "output_type": "stream",
     "text": [
      "\n",
      "0: 416x640 3 cars, 1 truck, 25.2ms\n",
      "Speed: 10.5ms preprocess, 25.2ms inference, 25.0ms postprocess per image at shape (1, 3, 416, 640)\n",
      "\n",
      "0: 416x640 3 cars, 1 truck, 38.9ms\n",
      "Speed: 5.0ms preprocess, 38.9ms inference, 36.6ms postprocess per image at shape (1, 3, 416, 640)\n",
      "\n"
     ]
    },
    {
     "name": "stderr",
     "output_type": "stream",
     "text": [
      "SupervisionWarnings: BoundingBoxAnnotator is deprecated: `BoundingBoxAnnotator` is deprecated and has been renamed to `BoxAnnotator`. `BoundingBoxAnnotator` will be removed in supervision-0.26.0.\n",
      "SupervisionWarnings: BoundingBoxAnnotator is deprecated: `BoundingBoxAnnotator` is deprecated and has been renamed to `BoxAnnotator`. `BoundingBoxAnnotator` will be removed in supervision-0.26.0.\n"
     ]
    },
    {
     "name": "stdout",
     "output_type": "stream",
     "text": [
      "0: 416x640 3 cars, 1 truck, 32.2ms\n",
      "Speed: 6.0ms preprocess, 32.2ms inference, 5.0ms postprocess per image at shape (1, 3, 416, 640)\n",
      "\n",
      "0: 416x640 3 cars, 1 truck, 15.5ms\n",
      "Speed: 1.1ms preprocess, 15.5ms inference, 2.0ms postprocess per image at shape (1, 3, 416, 640)\n",
      "\n",
      "0: 416x640 5 cars, 1 truck, 10.5ms\n",
      "Speed: 2.0ms preprocess, 10.5ms inference, 2.0ms postprocess per image at shape (1, 3, 416, 640)\n",
      "\n",
      "0: 416x640 5 cars, 1 truck, 10.1ms\n",
      "Speed: 2.0ms preprocess, 10.1ms inference, 3.0ms postprocess per image at shape (1, 3, 416, 640)\n",
      "\n"
     ]
    },
    {
     "name": "stderr",
     "output_type": "stream",
     "text": [
      "SupervisionWarnings: BoundingBoxAnnotator is deprecated: `BoundingBoxAnnotator` is deprecated and has been renamed to `BoxAnnotator`. `BoundingBoxAnnotator` will be removed in supervision-0.26.0.\n",
      "SupervisionWarnings: BoundingBoxAnnotator is deprecated: `BoundingBoxAnnotator` is deprecated and has been renamed to `BoxAnnotator`. `BoundingBoxAnnotator` will be removed in supervision-0.26.0.\n",
      "SupervisionWarnings: BoundingBoxAnnotator is deprecated: `BoundingBoxAnnotator` is deprecated and has been renamed to `BoxAnnotator`. `BoundingBoxAnnotator` will be removed in supervision-0.26.0.\n",
      "SupervisionWarnings: BoundingBoxAnnotator is deprecated: `BoundingBoxAnnotator` is deprecated and has been renamed to `BoxAnnotator`. `BoundingBoxAnnotator` will be removed in supervision-0.26.0.\n"
     ]
    },
    {
     "name": "stdout",
     "output_type": "stream",
     "text": [
      "0: 416x640 5 cars, 1 truck, 19.1ms\n"
     ]
    },
    {
     "ename": "KeyboardInterrupt",
     "evalue": "",
     "output_type": "error",
     "traceback": [
      "\u001b[1;31m---------------------------------------------------------------------------\u001b[0m",
      "\u001b[1;31mKeyboardInterrupt\u001b[0m                         Traceback (most recent call last)",
      "Cell \u001b[1;32mIn[4], line 72\u001b[0m\n\u001b[0;32m     68\u001b[0m \u001b[38;5;28;01mif\u001b[39;00m screen_capture\u001b[38;5;241m.\u001b[39mgame_area:\n\u001b[0;32m     69\u001b[0m     \u001b[38;5;66;03m# print(screen_capture.game_area)\u001b[39;00m\n\u001b[0;32m     70\u001b[0m     \u001b[38;5;66;03m# screen = capture_screen(screen_capture.game_area)\u001b[39;00m\n\u001b[0;32m     71\u001b[0m     screen \u001b[38;5;241m=\u001b[39m screen_capture\u001b[38;5;241m.\u001b[39mcapture_frame()\n\u001b[1;32m---> 72\u001b[0m     detected_frame \u001b[38;5;241m=\u001b[39m \u001b[43mdetect_objects\u001b[49m\u001b[43m(\u001b[49m\u001b[43mscreen\u001b[49m\u001b[43m)\u001b[49m\n\u001b[0;32m     74\u001b[0m     \u001b[38;5;66;03m# Display the detection\u001b[39;00m\n\u001b[0;32m     75\u001b[0m     cv2\u001b[38;5;241m.\u001b[39mimshow(\u001b[38;5;124m\"\u001b[39m\u001b[38;5;124mGame Object Detection\u001b[39m\u001b[38;5;124m\"\u001b[39m, detected_frame)\n",
      "Cell \u001b[1;32mIn[4], line 27\u001b[0m, in \u001b[0;36mdetect_objects\u001b[1;34m(frame)\u001b[0m\n\u001b[0;32m     24\u001b[0m frame \u001b[38;5;241m=\u001b[39m cv2\u001b[38;5;241m.\u001b[39mcvtColor(frame, cv2\u001b[38;5;241m.\u001b[39mCOLOR_RGB2BGR)\n\u001b[0;32m     26\u001b[0m \u001b[38;5;66;03m# Perform YOLO prediction\u001b[39;00m\n\u001b[1;32m---> 27\u001b[0m results \u001b[38;5;241m=\u001b[39m \u001b[43mmodel\u001b[49m\u001b[43m(\u001b[49m\u001b[43mframe\u001b[49m\u001b[43m)\u001b[49m\n\u001b[0;32m     29\u001b[0m \u001b[38;5;66;03m# parse detections\u001b[39;00m\n\u001b[0;32m     30\u001b[0m detections \u001b[38;5;241m=\u001b[39m sv\u001b[38;5;241m.\u001b[39mDetections\u001b[38;5;241m.\u001b[39mfrom_ultralytics(results[\u001b[38;5;241m0\u001b[39m])\u001b[38;5;241m.\u001b[39mwith_nms(threshold\u001b[38;5;241m=\u001b[39m\u001b[38;5;241m0.7\u001b[39m)\n",
      "File \u001b[1;32mc:\\Users\\Jeffr\\Documents\\School\\IT\\Deep Learning\\CVC_challenge\\CVC_challenge_env\\Lib\\site-packages\\ultralytics\\engine\\model.py:176\u001b[0m, in \u001b[0;36mModel.__call__\u001b[1;34m(self, source, stream, **kwargs)\u001b[0m\n\u001b[0;32m    147\u001b[0m \u001b[38;5;28;01mdef\u001b[39;00m \u001b[38;5;21m__call__\u001b[39m(\n\u001b[0;32m    148\u001b[0m     \u001b[38;5;28mself\u001b[39m,\n\u001b[0;32m    149\u001b[0m     source: Union[\u001b[38;5;28mstr\u001b[39m, Path, \u001b[38;5;28mint\u001b[39m, Image\u001b[38;5;241m.\u001b[39mImage, \u001b[38;5;28mlist\u001b[39m, \u001b[38;5;28mtuple\u001b[39m, np\u001b[38;5;241m.\u001b[39mndarray, torch\u001b[38;5;241m.\u001b[39mTensor] \u001b[38;5;241m=\u001b[39m \u001b[38;5;28;01mNone\u001b[39;00m,\n\u001b[0;32m    150\u001b[0m     stream: \u001b[38;5;28mbool\u001b[39m \u001b[38;5;241m=\u001b[39m \u001b[38;5;28;01mFalse\u001b[39;00m,\n\u001b[0;32m    151\u001b[0m     \u001b[38;5;241m*\u001b[39m\u001b[38;5;241m*\u001b[39mkwargs,\n\u001b[0;32m    152\u001b[0m ) \u001b[38;5;241m-\u001b[39m\u001b[38;5;241m>\u001b[39m \u001b[38;5;28mlist\u001b[39m:\n\u001b[0;32m    153\u001b[0m \u001b[38;5;250m    \u001b[39m\u001b[38;5;124;03m\"\"\"\u001b[39;00m\n\u001b[0;32m    154\u001b[0m \u001b[38;5;124;03m    Alias for the predict method, enabling the model instance to be callable for predictions.\u001b[39;00m\n\u001b[0;32m    155\u001b[0m \n\u001b[1;32m   (...)\u001b[0m\n\u001b[0;32m    174\u001b[0m \u001b[38;5;124;03m        ...     print(f\"Detected {len(r)} objects in image\")\u001b[39;00m\n\u001b[0;32m    175\u001b[0m \u001b[38;5;124;03m    \"\"\"\u001b[39;00m\n\u001b[1;32m--> 176\u001b[0m     \u001b[38;5;28;01mreturn\u001b[39;00m \u001b[38;5;28;43mself\u001b[39;49m\u001b[38;5;241;43m.\u001b[39;49m\u001b[43mpredict\u001b[49m\u001b[43m(\u001b[49m\u001b[43msource\u001b[49m\u001b[43m,\u001b[49m\u001b[43m \u001b[49m\u001b[43mstream\u001b[49m\u001b[43m,\u001b[49m\u001b[43m \u001b[49m\u001b[38;5;241;43m*\u001b[39;49m\u001b[38;5;241;43m*\u001b[39;49m\u001b[43mkwargs\u001b[49m\u001b[43m)\u001b[49m\n",
      "File \u001b[1;32mc:\\Users\\Jeffr\\Documents\\School\\IT\\Deep Learning\\CVC_challenge\\CVC_challenge_env\\Lib\\site-packages\\ultralytics\\engine\\model.py:554\u001b[0m, in \u001b[0;36mModel.predict\u001b[1;34m(self, source, stream, predictor, **kwargs)\u001b[0m\n\u001b[0;32m    552\u001b[0m \u001b[38;5;28;01mif\u001b[39;00m prompts \u001b[38;5;129;01mand\u001b[39;00m \u001b[38;5;28mhasattr\u001b[39m(\u001b[38;5;28mself\u001b[39m\u001b[38;5;241m.\u001b[39mpredictor, \u001b[38;5;124m\"\u001b[39m\u001b[38;5;124mset_prompts\u001b[39m\u001b[38;5;124m\"\u001b[39m):  \u001b[38;5;66;03m# for SAM-type models\u001b[39;00m\n\u001b[0;32m    553\u001b[0m     \u001b[38;5;28mself\u001b[39m\u001b[38;5;241m.\u001b[39mpredictor\u001b[38;5;241m.\u001b[39mset_prompts(prompts)\n\u001b[1;32m--> 554\u001b[0m \u001b[38;5;28;01mreturn\u001b[39;00m \u001b[38;5;28mself\u001b[39m\u001b[38;5;241m.\u001b[39mpredictor\u001b[38;5;241m.\u001b[39mpredict_cli(source\u001b[38;5;241m=\u001b[39msource) \u001b[38;5;28;01mif\u001b[39;00m is_cli \u001b[38;5;28;01melse\u001b[39;00m \u001b[38;5;28;43mself\u001b[39;49m\u001b[38;5;241;43m.\u001b[39;49m\u001b[43mpredictor\u001b[49m\u001b[43m(\u001b[49m\u001b[43msource\u001b[49m\u001b[38;5;241;43m=\u001b[39;49m\u001b[43msource\u001b[49m\u001b[43m,\u001b[49m\u001b[43m \u001b[49m\u001b[43mstream\u001b[49m\u001b[38;5;241;43m=\u001b[39;49m\u001b[43mstream\u001b[49m\u001b[43m)\u001b[49m\n",
      "File \u001b[1;32mc:\\Users\\Jeffr\\Documents\\School\\IT\\Deep Learning\\CVC_challenge\\CVC_challenge_env\\Lib\\site-packages\\ultralytics\\engine\\predictor.py:168\u001b[0m, in \u001b[0;36mBasePredictor.__call__\u001b[1;34m(self, source, model, stream, *args, **kwargs)\u001b[0m\n\u001b[0;32m    166\u001b[0m     \u001b[38;5;28;01mreturn\u001b[39;00m \u001b[38;5;28mself\u001b[39m\u001b[38;5;241m.\u001b[39mstream_inference(source, model, \u001b[38;5;241m*\u001b[39margs, \u001b[38;5;241m*\u001b[39m\u001b[38;5;241m*\u001b[39mkwargs)\n\u001b[0;32m    167\u001b[0m \u001b[38;5;28;01melse\u001b[39;00m:\n\u001b[1;32m--> 168\u001b[0m     \u001b[38;5;28;01mreturn\u001b[39;00m \u001b[38;5;28mlist\u001b[39m(\u001b[38;5;28mself\u001b[39m\u001b[38;5;241m.\u001b[39mstream_inference(source, model, \u001b[38;5;241m*\u001b[39margs, \u001b[38;5;241m*\u001b[39m\u001b[38;5;241m*\u001b[39mkwargs))\n",
      "File \u001b[1;32mc:\\Users\\Jeffr\\Documents\\School\\IT\\Deep Learning\\CVC_challenge\\CVC_challenge_env\\Lib\\site-packages\\torch\\utils\\_contextlib.py:36\u001b[0m, in \u001b[0;36m_wrap_generator.<locals>.generator_context\u001b[1;34m(*args, **kwargs)\u001b[0m\n\u001b[0;32m     33\u001b[0m \u001b[38;5;28;01mtry\u001b[39;00m:\n\u001b[0;32m     34\u001b[0m     \u001b[38;5;66;03m# Issuing `None` to a generator fires it up\u001b[39;00m\n\u001b[0;32m     35\u001b[0m     \u001b[38;5;28;01mwith\u001b[39;00m ctx_factory():\n\u001b[1;32m---> 36\u001b[0m         response \u001b[38;5;241m=\u001b[39m gen\u001b[38;5;241m.\u001b[39msend(\u001b[38;5;28;01mNone\u001b[39;00m)\n\u001b[0;32m     38\u001b[0m     \u001b[38;5;28;01mwhile\u001b[39;00m \u001b[38;5;28;01mTrue\u001b[39;00m:\n\u001b[0;32m     39\u001b[0m         \u001b[38;5;28;01mtry\u001b[39;00m:\n\u001b[0;32m     40\u001b[0m             \u001b[38;5;66;03m# Forward the response to our caller and get its next request\u001b[39;00m\n",
      "File \u001b[1;32mc:\\Users\\Jeffr\\Documents\\School\\IT\\Deep Learning\\CVC_challenge\\CVC_challenge_env\\Lib\\site-packages\\ultralytics\\engine\\predictor.py:278\u001b[0m, in \u001b[0;36mBasePredictor.stream_inference\u001b[1;34m(self, source, model, *args, **kwargs)\u001b[0m\n\u001b[0;32m    276\u001b[0m \u001b[38;5;66;03m# Print batch results\u001b[39;00m\n\u001b[0;32m    277\u001b[0m \u001b[38;5;28;01mif\u001b[39;00m \u001b[38;5;28mself\u001b[39m\u001b[38;5;241m.\u001b[39margs\u001b[38;5;241m.\u001b[39mverbose:\n\u001b[1;32m--> 278\u001b[0m     \u001b[43mLOGGER\u001b[49m\u001b[38;5;241;43m.\u001b[39;49m\u001b[43minfo\u001b[49m\u001b[43m(\u001b[49m\u001b[38;5;124;43m\"\u001b[39;49m\u001b[38;5;130;43;01m\\n\u001b[39;49;00m\u001b[38;5;124;43m\"\u001b[39;49m\u001b[38;5;241;43m.\u001b[39;49m\u001b[43mjoin\u001b[49m\u001b[43m(\u001b[49m\u001b[43ms\u001b[49m\u001b[43m)\u001b[49m\u001b[43m)\u001b[49m\n\u001b[0;32m    280\u001b[0m \u001b[38;5;28mself\u001b[39m\u001b[38;5;241m.\u001b[39mrun_callbacks(\u001b[38;5;124m\"\u001b[39m\u001b[38;5;124mon_predict_batch_end\u001b[39m\u001b[38;5;124m\"\u001b[39m)\n\u001b[0;32m    281\u001b[0m \u001b[38;5;28;01myield from\u001b[39;00m \u001b[38;5;28mself\u001b[39m\u001b[38;5;241m.\u001b[39mresults\n",
      "File \u001b[1;32mc:\\Users\\Jeffr\\AppData\\Local\\Programs\\Python\\Python311\\Lib\\logging\\__init__.py:1489\u001b[0m, in \u001b[0;36mLogger.info\u001b[1;34m(self, msg, *args, **kwargs)\u001b[0m\n\u001b[0;32m   1480\u001b[0m \u001b[38;5;250m\u001b[39m\u001b[38;5;124;03m\"\"\"\u001b[39;00m\n\u001b[0;32m   1481\u001b[0m \u001b[38;5;124;03mLog 'msg % args' with severity 'INFO'.\u001b[39;00m\n\u001b[0;32m   1482\u001b[0m \n\u001b[1;32m   (...)\u001b[0m\n\u001b[0;32m   1486\u001b[0m \u001b[38;5;124;03mlogger.info(\"Houston, we have a %s\", \"interesting problem\", exc_info=True)\u001b[39;00m\n\u001b[0;32m   1487\u001b[0m \u001b[38;5;124;03m\"\"\"\u001b[39;00m\n\u001b[0;32m   1488\u001b[0m \u001b[38;5;28;01mif\u001b[39;00m \u001b[38;5;28mself\u001b[39m\u001b[38;5;241m.\u001b[39misEnabledFor(INFO):\n\u001b[1;32m-> 1489\u001b[0m     \u001b[38;5;28;43mself\u001b[39;49m\u001b[38;5;241;43m.\u001b[39;49m\u001b[43m_log\u001b[49m\u001b[43m(\u001b[49m\u001b[43mINFO\u001b[49m\u001b[43m,\u001b[49m\u001b[43m \u001b[49m\u001b[43mmsg\u001b[49m\u001b[43m,\u001b[49m\u001b[43m \u001b[49m\u001b[43margs\u001b[49m\u001b[43m,\u001b[49m\u001b[43m \u001b[49m\u001b[38;5;241;43m*\u001b[39;49m\u001b[38;5;241;43m*\u001b[39;49m\u001b[43mkwargs\u001b[49m\u001b[43m)\u001b[49m\n",
      "File \u001b[1;32mc:\\Users\\Jeffr\\AppData\\Local\\Programs\\Python\\Python311\\Lib\\logging\\__init__.py:1634\u001b[0m, in \u001b[0;36mLogger._log\u001b[1;34m(self, level, msg, args, exc_info, extra, stack_info, stacklevel)\u001b[0m\n\u001b[0;32m   1631\u001b[0m         exc_info \u001b[38;5;241m=\u001b[39m sys\u001b[38;5;241m.\u001b[39mexc_info()\n\u001b[0;32m   1632\u001b[0m record \u001b[38;5;241m=\u001b[39m \u001b[38;5;28mself\u001b[39m\u001b[38;5;241m.\u001b[39mmakeRecord(\u001b[38;5;28mself\u001b[39m\u001b[38;5;241m.\u001b[39mname, level, fn, lno, msg, args,\n\u001b[0;32m   1633\u001b[0m                          exc_info, func, extra, sinfo)\n\u001b[1;32m-> 1634\u001b[0m \u001b[38;5;28;43mself\u001b[39;49m\u001b[38;5;241;43m.\u001b[39;49m\u001b[43mhandle\u001b[49m\u001b[43m(\u001b[49m\u001b[43mrecord\u001b[49m\u001b[43m)\u001b[49m\n",
      "File \u001b[1;32mc:\\Users\\Jeffr\\AppData\\Local\\Programs\\Python\\Python311\\Lib\\logging\\__init__.py:1644\u001b[0m, in \u001b[0;36mLogger.handle\u001b[1;34m(self, record)\u001b[0m\n\u001b[0;32m   1637\u001b[0m \u001b[38;5;250m\u001b[39m\u001b[38;5;124;03m\"\"\"\u001b[39;00m\n\u001b[0;32m   1638\u001b[0m \u001b[38;5;124;03mCall the handlers for the specified record.\u001b[39;00m\n\u001b[0;32m   1639\u001b[0m \n\u001b[0;32m   1640\u001b[0m \u001b[38;5;124;03mThis method is used for unpickled records received from a socket, as\u001b[39;00m\n\u001b[0;32m   1641\u001b[0m \u001b[38;5;124;03mwell as those created locally. Logger-level filtering is applied.\u001b[39;00m\n\u001b[0;32m   1642\u001b[0m \u001b[38;5;124;03m\"\"\"\u001b[39;00m\n\u001b[0;32m   1643\u001b[0m \u001b[38;5;28;01mif\u001b[39;00m (\u001b[38;5;129;01mnot\u001b[39;00m \u001b[38;5;28mself\u001b[39m\u001b[38;5;241m.\u001b[39mdisabled) \u001b[38;5;129;01mand\u001b[39;00m \u001b[38;5;28mself\u001b[39m\u001b[38;5;241m.\u001b[39mfilter(record):\n\u001b[1;32m-> 1644\u001b[0m     \u001b[38;5;28;43mself\u001b[39;49m\u001b[38;5;241;43m.\u001b[39;49m\u001b[43mcallHandlers\u001b[49m\u001b[43m(\u001b[49m\u001b[43mrecord\u001b[49m\u001b[43m)\u001b[49m\n",
      "File \u001b[1;32mc:\\Users\\Jeffr\\AppData\\Local\\Programs\\Python\\Python311\\Lib\\logging\\__init__.py:1706\u001b[0m, in \u001b[0;36mLogger.callHandlers\u001b[1;34m(self, record)\u001b[0m\n\u001b[0;32m   1704\u001b[0m     found \u001b[38;5;241m=\u001b[39m found \u001b[38;5;241m+\u001b[39m \u001b[38;5;241m1\u001b[39m\n\u001b[0;32m   1705\u001b[0m     \u001b[38;5;28;01mif\u001b[39;00m record\u001b[38;5;241m.\u001b[39mlevelno \u001b[38;5;241m>\u001b[39m\u001b[38;5;241m=\u001b[39m hdlr\u001b[38;5;241m.\u001b[39mlevel:\n\u001b[1;32m-> 1706\u001b[0m         \u001b[43mhdlr\u001b[49m\u001b[38;5;241;43m.\u001b[39;49m\u001b[43mhandle\u001b[49m\u001b[43m(\u001b[49m\u001b[43mrecord\u001b[49m\u001b[43m)\u001b[49m\n\u001b[0;32m   1707\u001b[0m \u001b[38;5;28;01mif\u001b[39;00m \u001b[38;5;129;01mnot\u001b[39;00m c\u001b[38;5;241m.\u001b[39mpropagate:\n\u001b[0;32m   1708\u001b[0m     c \u001b[38;5;241m=\u001b[39m \u001b[38;5;28;01mNone\u001b[39;00m    \u001b[38;5;66;03m#break out\u001b[39;00m\n",
      "File \u001b[1;32mc:\\Users\\Jeffr\\AppData\\Local\\Programs\\Python\\Python311\\Lib\\logging\\__init__.py:978\u001b[0m, in \u001b[0;36mHandler.handle\u001b[1;34m(self, record)\u001b[0m\n\u001b[0;32m    976\u001b[0m \u001b[38;5;28mself\u001b[39m\u001b[38;5;241m.\u001b[39macquire()\n\u001b[0;32m    977\u001b[0m \u001b[38;5;28;01mtry\u001b[39;00m:\n\u001b[1;32m--> 978\u001b[0m     \u001b[38;5;28;43mself\u001b[39;49m\u001b[38;5;241;43m.\u001b[39;49m\u001b[43memit\u001b[49m\u001b[43m(\u001b[49m\u001b[43mrecord\u001b[49m\u001b[43m)\u001b[49m\n\u001b[0;32m    979\u001b[0m \u001b[38;5;28;01mfinally\u001b[39;00m:\n\u001b[0;32m    980\u001b[0m     \u001b[38;5;28mself\u001b[39m\u001b[38;5;241m.\u001b[39mrelease()\n",
      "File \u001b[1;32mc:\\Users\\Jeffr\\AppData\\Local\\Programs\\Python\\Python311\\Lib\\logging\\__init__.py:1114\u001b[0m, in \u001b[0;36mStreamHandler.emit\u001b[1;34m(self, record)\u001b[0m\n\u001b[0;32m   1112\u001b[0m     \u001b[38;5;66;03m# issue 35046: merged two stream.writes into one.\u001b[39;00m\n\u001b[0;32m   1113\u001b[0m     stream\u001b[38;5;241m.\u001b[39mwrite(msg \u001b[38;5;241m+\u001b[39m \u001b[38;5;28mself\u001b[39m\u001b[38;5;241m.\u001b[39mterminator)\n\u001b[1;32m-> 1114\u001b[0m     \u001b[38;5;28;43mself\u001b[39;49m\u001b[38;5;241;43m.\u001b[39;49m\u001b[43mflush\u001b[49m\u001b[43m(\u001b[49m\u001b[43m)\u001b[49m\n\u001b[0;32m   1115\u001b[0m \u001b[38;5;28;01mexcept\u001b[39;00m \u001b[38;5;167;01mRecursionError\u001b[39;00m:  \u001b[38;5;66;03m# See issue 36272\u001b[39;00m\n\u001b[0;32m   1116\u001b[0m     \u001b[38;5;28;01mraise\u001b[39;00m\n",
      "File \u001b[1;32mc:\\Users\\Jeffr\\AppData\\Local\\Programs\\Python\\Python311\\Lib\\logging\\__init__.py:1094\u001b[0m, in \u001b[0;36mStreamHandler.flush\u001b[1;34m(self)\u001b[0m\n\u001b[0;32m   1092\u001b[0m \u001b[38;5;28;01mtry\u001b[39;00m:\n\u001b[0;32m   1093\u001b[0m     \u001b[38;5;28;01mif\u001b[39;00m \u001b[38;5;28mself\u001b[39m\u001b[38;5;241m.\u001b[39mstream \u001b[38;5;129;01mand\u001b[39;00m \u001b[38;5;28mhasattr\u001b[39m(\u001b[38;5;28mself\u001b[39m\u001b[38;5;241m.\u001b[39mstream, \u001b[38;5;124m\"\u001b[39m\u001b[38;5;124mflush\u001b[39m\u001b[38;5;124m\"\u001b[39m):\n\u001b[1;32m-> 1094\u001b[0m         \u001b[38;5;28;43mself\u001b[39;49m\u001b[38;5;241;43m.\u001b[39;49m\u001b[43mstream\u001b[49m\u001b[38;5;241;43m.\u001b[39;49m\u001b[43mflush\u001b[49m\u001b[43m(\u001b[49m\u001b[43m)\u001b[49m\n\u001b[0;32m   1095\u001b[0m \u001b[38;5;28;01mfinally\u001b[39;00m:\n\u001b[0;32m   1096\u001b[0m     \u001b[38;5;28mself\u001b[39m\u001b[38;5;241m.\u001b[39mrelease()\n",
      "File \u001b[1;32mc:\\Users\\Jeffr\\Documents\\School\\IT\\Deep Learning\\CVC_challenge\\CVC_challenge_env\\Lib\\site-packages\\ipykernel\\iostream.py:609\u001b[0m, in \u001b[0;36mOutStream.flush\u001b[1;34m(self)\u001b[0m\n\u001b[0;32m    607\u001b[0m     \u001b[38;5;28mself\u001b[39m\u001b[38;5;241m.\u001b[39mpub_thread\u001b[38;5;241m.\u001b[39mschedule(evt\u001b[38;5;241m.\u001b[39mset)\n\u001b[0;32m    608\u001b[0m     \u001b[38;5;66;03m# and give a timeout to avoid\u001b[39;00m\n\u001b[1;32m--> 609\u001b[0m     \u001b[38;5;28;01mif\u001b[39;00m \u001b[38;5;129;01mnot\u001b[39;00m \u001b[43mevt\u001b[49m\u001b[38;5;241;43m.\u001b[39;49m\u001b[43mwait\u001b[49m\u001b[43m(\u001b[49m\u001b[38;5;28;43mself\u001b[39;49m\u001b[38;5;241;43m.\u001b[39;49m\u001b[43mflush_timeout\u001b[49m\u001b[43m)\u001b[49m:\n\u001b[0;32m    610\u001b[0m         \u001b[38;5;66;03m# write directly to __stderr__ instead of warning because\u001b[39;00m\n\u001b[0;32m    611\u001b[0m         \u001b[38;5;66;03m# if this is happening sys.stderr may be the problem.\u001b[39;00m\n\u001b[0;32m    612\u001b[0m         \u001b[38;5;28mprint\u001b[39m(\u001b[38;5;124m\"\u001b[39m\u001b[38;5;124mIOStream.flush timed out\u001b[39m\u001b[38;5;124m\"\u001b[39m, file\u001b[38;5;241m=\u001b[39msys\u001b[38;5;241m.\u001b[39m__stderr__)\n\u001b[0;32m    613\u001b[0m \u001b[38;5;28;01melse\u001b[39;00m:\n",
      "File \u001b[1;32mc:\\Users\\Jeffr\\AppData\\Local\\Programs\\Python\\Python311\\Lib\\threading.py:629\u001b[0m, in \u001b[0;36mEvent.wait\u001b[1;34m(self, timeout)\u001b[0m\n\u001b[0;32m    627\u001b[0m signaled \u001b[38;5;241m=\u001b[39m \u001b[38;5;28mself\u001b[39m\u001b[38;5;241m.\u001b[39m_flag\n\u001b[0;32m    628\u001b[0m \u001b[38;5;28;01mif\u001b[39;00m \u001b[38;5;129;01mnot\u001b[39;00m signaled:\n\u001b[1;32m--> 629\u001b[0m     signaled \u001b[38;5;241m=\u001b[39m \u001b[38;5;28;43mself\u001b[39;49m\u001b[38;5;241;43m.\u001b[39;49m\u001b[43m_cond\u001b[49m\u001b[38;5;241;43m.\u001b[39;49m\u001b[43mwait\u001b[49m\u001b[43m(\u001b[49m\u001b[43mtimeout\u001b[49m\u001b[43m)\u001b[49m\n\u001b[0;32m    630\u001b[0m \u001b[38;5;28;01mreturn\u001b[39;00m signaled\n",
      "File \u001b[1;32mc:\\Users\\Jeffr\\AppData\\Local\\Programs\\Python\\Python311\\Lib\\threading.py:331\u001b[0m, in \u001b[0;36mCondition.wait\u001b[1;34m(self, timeout)\u001b[0m\n\u001b[0;32m    329\u001b[0m \u001b[38;5;28;01melse\u001b[39;00m:\n\u001b[0;32m    330\u001b[0m     \u001b[38;5;28;01mif\u001b[39;00m timeout \u001b[38;5;241m>\u001b[39m \u001b[38;5;241m0\u001b[39m:\n\u001b[1;32m--> 331\u001b[0m         gotit \u001b[38;5;241m=\u001b[39m \u001b[43mwaiter\u001b[49m\u001b[38;5;241;43m.\u001b[39;49m\u001b[43macquire\u001b[49m\u001b[43m(\u001b[49m\u001b[38;5;28;43;01mTrue\u001b[39;49;00m\u001b[43m,\u001b[49m\u001b[43m \u001b[49m\u001b[43mtimeout\u001b[49m\u001b[43m)\u001b[49m\n\u001b[0;32m    332\u001b[0m     \u001b[38;5;28;01melse\u001b[39;00m:\n\u001b[0;32m    333\u001b[0m         gotit \u001b[38;5;241m=\u001b[39m waiter\u001b[38;5;241m.\u001b[39macquire(\u001b[38;5;28;01mFalse\u001b[39;00m)\n",
      "\u001b[1;31mKeyboardInterrupt\u001b[0m: "
     ]
    }
   ],
   "source": [
    "from ultralytics import YOLO\n",
    "import cv2\n",
    "import numpy as np\n",
    "import pygetwindow as gw\n",
    "from screen_grab import ScreenCapture\n",
    "import supervision as sv\n",
    "\n",
    "# Load your YOLO model\n",
    "model = YOLO('yolo11s.pt')  # or any other YOLO model you use\n",
    "# model.classes = [2,5,7]\n",
    "model.conf = 0.5\n",
    "model.iou = 0.5\n",
    "\n",
    "def get_game_window_coords(title=\"Forza Horizon 4\"):\n",
    "    game_window = gw.getWindowsWithTitle(title)\n",
    "    if game_window:\n",
    "        game_window = game_window[0]\n",
    "        return game_window.left, game_window.top, game_window.width, game_window.height\n",
    "    return None\n",
    "\n",
    "def detect_objects(frame):\n",
    "    # Convert PIL image to OpenCV format\n",
    "    frame = np.array(frame)\n",
    "    frame = cv2.cvtColor(frame, cv2.COLOR_RGB2BGR)\n",
    "\n",
    "    # Perform YOLO prediction\n",
    "    results = model(frame)\n",
    "\n",
    "    # parse detections\n",
    "    detections = sv.Detections.from_ultralytics(results[0]).with_nms(threshold=0.7)\n",
    "\n",
    "    selected_classes = [2, 5, 7]\n",
    "    detections = detections[np.isin(detections.class_id, selected_classes)]\n",
    "    detections = detections[detections.confidence > 0.5]\n",
    "\n",
    "\n",
    "    bounding_box_annotator = sv.BoundingBoxAnnotator()\n",
    "    label_annotator = sv.LabelAnnotator()\n",
    "\n",
    "    labels = [\n",
    "        f\"{class_name} {confidence:.2f}\"\n",
    "        for class_name, confidence\n",
    "        in zip(detections['class_name'], detections.confidence)\n",
    "    ]\n",
    "\n",
    "    annotated_image = bounding_box_annotator.annotate(\n",
    "        scene=frame, detections=detections)\n",
    "    annotated_image = label_annotator.annotate(\n",
    "        scene=annotated_image, detections=detections, labels=labels)\n",
    "    \n",
    "    return annotated_image\n",
    "\n",
    "# Capture a screen region (game window)\n",
    "# region = (0, 0, 800, 600)  # Adjust to your game window size\n",
    "# while True:\n",
    "#     screen = capture_screen(region)\n",
    "#     detected_frame = detect_objects(screen)\n",
    "\n",
    "#     # Display the detection\n",
    "#     cv2.imshow(\"Game Object Detection\", detected_frame)\n",
    "\n",
    "\n",
    "# Main Loop: Capture screen from the game window and run YOLO detection\n",
    "game_title = \"Forza Horizon 4\"  # Change this to the title of your game window\n",
    "while True:\n",
    "    screen_capture = ScreenCapture()\n",
    "\n",
    "    if screen_capture.game_area:\n",
    "        # print(screen_capture.game_area)\n",
    "        # screen = capture_screen(screen_capture.game_area)\n",
    "        screen = screen_capture.capture_frame()\n",
    "        detected_frame = detect_objects(screen)\n",
    "\n",
    "        # Display the detection\n",
    "        cv2.imshow(\"Game Object Detection\", detected_frame)\n",
    "\n",
    "\n",
    "    # Exit on 'q' key\n",
    "    if cv2.waitKey(1) & 0xFF == ord('q'):\n",
    "        break\n",
    "\n",
    "cv2.destroyAllWindows()\n"
   ]
  },
  {
   "cell_type": "code",
   "execution_count": 16,
   "metadata": {},
   "outputs": [],
   "source": [
    "def detect_objects(frame):\n",
    "    # Resize frame before detection for faster inference\n",
    "    frame_resized = cv2.resize(frame, (640, 640))\n",
    "\n",
    "    # Perform YOLO prediction\n",
    "    results = model(frame_resized)\n",
    "\n",
    "    # Return results (annotated frame)\n",
    "    return results[0].plot()\n"
   ]
  }
 ],
 "metadata": {
  "kernelspec": {
   "display_name": "CVC_challenge_env",
   "language": "python",
   "name": "python3"
  },
  "language_info": {
   "codemirror_mode": {
    "name": "ipython",
    "version": 3
   },
   "file_extension": ".py",
   "mimetype": "text/x-python",
   "name": "python",
   "nbconvert_exporter": "python",
   "pygments_lexer": "ipython3",
   "version": "3.12.0"
  }
 },
 "nbformat": 4,
 "nbformat_minor": 2
}
