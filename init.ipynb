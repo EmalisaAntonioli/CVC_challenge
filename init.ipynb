{
 "cells": [
  {
   "cell_type": "markdown",
   "metadata": {},
   "source": [
    "Run this cell to create the virtual environment."
   ]
  },
  {
   "cell_type": "code",
   "execution_count": 2,
   "metadata": {},
   "outputs": [
    {
     "name": "stdout",
     "output_type": "stream",
     "text": [
      "Virtual environment already exists.\n"
     ]
    }
   ],
   "source": [
    "import os\n",
    "import subprocess\n",
    "\n",
    "# Define the environment name and path\n",
    "env_name = 'CVC_challenge_env'\n",
    "env_path = os.path.join(os.getcwd(), env_name)\n",
    "\n",
    "# Check if the virtual environment already exists\n",
    "if not os.path.exists(env_path):\n",
    "    print(\"Creating virtual environment...\")\n",
    "    subprocess.run(['python', '-m', 'venv', env_name], check=True)\n",
    "else:\n",
    "    print(\"Virtual environment already exists.\")\n"
   ]
  },
  {
   "cell_type": "markdown",
   "metadata": {},
   "source": [
    "Run this cell to install all requirements. Make sure to run this in the virtual environment in this notebook. You can activate the environment by running this command in your terminal.\n",
    "\n",
    "```bash\n",
    " CVC_challenge_env\\\\Scripts\\\\activate\n",
    " ``` \n"
   ]
  },
  {
   "cell_type": "code",
   "execution_count": 3,
   "metadata": {},
   "outputs": [
    {
     "name": "stdout",
     "output_type": "stream",
     "text": [
      "Installing requirements...\n",
      "b\"Defaulting to user installation because normal site-packages is not writeable\\r\\nRequirement already satisfied: numpy in c:\\\\users\\\\gebruiker\\\\appdata\\\\roaming\\\\python\\\\python312\\\\site-packages (from -r requirements.txt (line 1)) (1.26.1)\\r\\nCollecting mss (from -r requirements.txt (line 2))\\r\\n  Downloading mss-9.0.2-py3-none-any.whl.metadata (6.1 kB)\\r\\nRequirement already satisfied: opencv-python in c:\\\\users\\\\gebruiker\\\\appdata\\\\roaming\\\\python\\\\python312\\\\site-packages (from -r requirements.txt (line 3)) (4.9.0.80)\\r\\nCollecting pyvjoystick (from -r requirements.txt (line 4))\\r\\n  Downloading pyvjoystick-1.1.2.1-py3-none-any.whl.metadata (6.9 kB)\\r\\nCollecting pygetwindow (from -r requirements.txt (line 5))\\r\\n  Downloading PyGetWindow-0.0.9.tar.gz (9.7 kB)\\r\\n  Preparing metadata (setup.py): started\\r\\n  Preparing metadata (setup.py): finished with status 'done'\\r\\nCollecting inputs (from -r requirements.txt (line 6))\\r\\n  Downloading inputs-0.5-py2.py3-none-any.whl.metadata (1.9 kB)\\r\\nCollecting pygame (from -r requirements.txt (line 7))\\r\\n  Downloading pygame-2.6.1-cp312-cp312-win_amd64.whl.metadata (13 kB)\\r\\nCollecting pyrect (from pygetwindow->-r requirements.txt (line 5))\\r\\n  Downloading PyRect-0.2.0.tar.gz (17 kB)\\r\\n  Preparing metadata (setup.py): started\\r\\n  Preparing metadata (setup.py): finished with status 'done'\\r\\nDownloading mss-9.0.2-py3-none-any.whl (23 kB)\\r\\nDownloading pyvjoystick-1.1.2.1-py3-none-any.whl (139 kB)\\r\\nDownloading inputs-0.5-py2.py3-none-any.whl (33 kB)\\r\\nDownloading pygame-2.6.1-cp312-cp312-win_amd64.whl (10.6 MB)\\r\\n   ---------------------------------------- 0.0/10.6 MB ? eta -:--:--\\r   - -------------------------------------- 0.5/10.6 MB 2.4 MB/s eta 0:00:05\\r   --- ------------------------------------ 1.0/10.6 MB 3.0 MB/s eta 0:00:04\\r   ------- -------------------------------- 2.1/10.6 MB 3.5 MB/s eta 0:00:03\\r   ---------- ----------------------------- 2.9/10.6 MB 3.7 MB/s eta 0:00:03\\r   ------------- -------------------------- 3.7/10.6 MB 3.7 MB/s eta 0:00:02\\r   ---------------- ----------------------- 4.5/10.6 MB 3.7 MB/s eta 0:00:02\\r   -------------------- ------------------- 5.5/10.6 MB 3.8 MB/s eta 0:00:02\\r   ----------------------- ---------------- 6.3/10.6 MB 3.9 MB/s eta 0:00:02\\r   -------------------------- ------------- 7.1/10.6 MB 3.9 MB/s eta 0:00:01\\r   ------------------------------ --------- 8.1/10.6 MB 3.9 MB/s eta 0:00:01\\r   ---------------------------------- ----- 9.2/10.6 MB 4.0 MB/s eta 0:00:01\\r   ------------------------------------- -- 10.0/10.6 MB 4.0 MB/s eta 0:00:01\\r   ---------------------------------------- 10.6/10.6 MB 4.0 MB/s eta 0:00:00\\r\\nBuilding wheels for collected packages: pygetwindow, pyrect\\r\\n  Building wheel for pygetwindow (setup.py): started\\r\\n  Building wheel for pygetwindow (setup.py): finished with status 'done'\\r\\n  Created wheel for pygetwindow: filename=PyGetWindow-0.0.9-py3-none-any.whl size=11081 sha256=40ad8829cbe6c857c036d6253ec9222b0b8fda57eb5f48970c3b6462e4468399\\r\\n  Stored in directory: c:\\\\users\\\\gebruiker\\\\appdata\\\\local\\\\pip\\\\cache\\\\wheels\\\\b3\\\\39\\\\81\\\\34dd7a2eca5f885f1f6e2796761970daf66a2d98ac1904f5f4\\r\\n  Building wheel for pyrect (setup.py): started\\r\\n  Building wheel for pyrect (setup.py): finished with status 'done'\\r\\n  Created wheel for pyrect: filename=PyRect-0.2.0-py2.py3-none-any.whl size=11207 sha256=9db0aaa5a4d4ad92220adabf14f1fe16bd159f71666fc76ed6f43bec42212486\\r\\n  Stored in directory: c:\\\\users\\\\gebruiker\\\\appdata\\\\local\\\\pip\\\\cache\\\\wheels\\\\0b\\\\1e\\\\d7\\\\0c74bd8f60b39c14d84e307398786002aa7ddc905927cc03c5\\r\\nSuccessfully built pygetwindow pyrect\\r\\nInstalling collected packages: pyrect, inputs, pyvjoystick, pygetwindow, pygame, mss\\r\\nSuccessfully installed inputs-0.5 mss-9.0.2 pygame-2.6.1 pygetwindow-0.0.9 pyrect-0.2.0 pyvjoystick-1.1.2.1\\r\\n\"\n"
     ]
    }
   ],
   "source": [
    "import subprocess\n",
    "\n",
    "# Define the path to requirements.txt\n",
    "requirements_file = 'requirements.txt'\n",
    "\n",
    "# Activate the virtual environment and install requirements\n",
    "if os.path.exists(requirements_file):\n",
    "    print(\"Installing requirements...\")\n",
    "    result = subprocess.run(f'pip install -r {requirements_file}', shell=True, check=True, capture_output=True)\n",
    "    print(result.stdout)\n",
    "\n",
    "\n",
    "else:\n",
    "    print(\"requirements.txt not found. Please make sure the file is in the same directory.\")\n"
   ]
  }
 ],
 "metadata": {
  "kernelspec": {
   "display_name": "Python 3",
   "language": "python",
   "name": "python3"
  },
  "language_info": {
   "codemirror_mode": {
    "name": "ipython",
    "version": 3
   },
   "file_extension": ".py",
   "mimetype": "text/x-python",
   "name": "python",
   "nbconvert_exporter": "python",
   "pygments_lexer": "ipython3",
   "version": "3.11.9"
  }
 },
 "nbformat": 4,
 "nbformat_minor": 2
}
