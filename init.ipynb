{
 "cells": [
  {
   "cell_type": "markdown",
   "metadata": {},
   "source": [
    "Run this cell to create the virtual environment."
   ]
  },
  {
   "cell_type": "code",
   "execution_count": 4,
   "metadata": {},
   "outputs": [
    {
     "name": "stdout",
     "output_type": "stream",
     "text": [
      "Creating virtual environment...\n"
     ]
    }
   ],
   "source": [
    "import os\n",
    "import subprocess\n",
    "\n",
    "# Define the environment name and path\n",
    "env_name = 'CVC_challenge_env'\n",
    "env_path = os.path.join(os.getcwd(), env_name)\n",
    "\n",
    "# Check if the virtual environment already exists\n",
    "if not os.path.exists(env_path):\n",
    "    print(\"Creating virtual environment...\")\n",
    "    subprocess.run(['python', '-m', 'venv', env_name], check=True)\n",
    "else:\n",
    "    print(\"Virtual environment already exists.\")\n"
   ]
  },
  {
   "cell_type": "markdown",
   "metadata": {},
   "source": [
    "Run this cell to install all requirements. Make sure to run this in the virtual environment in this notebook. You can activate the environment by running this command in your terminal.\n",
    "\n",
    "```bash\n",
    " CVC_challenge_env\\\\Scripts\\\\activate\n",
    " ``` \n"
   ]
  },
  {
   "cell_type": "code",
   "execution_count": 5,
   "metadata": {},
   "outputs": [
    {
     "name": "stdout",
     "output_type": "stream",
     "text": [
      "Installing requirements...\n",
      "b'Collecting numpy (from -r requirements.txt (line 1))\\r\\n  Downloading numpy-2.1.1-cp311-cp311-win_amd64.whl.metadata (59 kB)\\r\\n     ---------------------------------------- 0.0/59.7 kB ? eta -:--:--\\r     ------------- ------------------------ 20.5/59.7 kB 320.0 kB/s eta 0:00:01\\r     -------------------------------------- 59.7/59.7 kB 634.7 kB/s eta 0:00:00\\r\\nDownloading numpy-2.1.1-cp311-cp311-win_amd64.whl (12.9 MB)\\r\\n   ---------------------------------------- 0.0/12.9 MB ? eta -:--:--\\r   - -------------------------------------- 0.4/12.9 MB 7.4 MB/s eta 0:00:02\\r   ---- ----------------------------------- 1.4/12.9 MB 14.7 MB/s eta 0:00:01\\r   ------- -------------------------------- 2.5/12.9 MB 17.7 MB/s eta 0:00:01\\r   ---------- ----------------------------- 3.4/12.9 MB 19.7 MB/s eta 0:00:01\\r   ------------- -------------------------- 4.4/12.9 MB 18.9 MB/s eta 0:00:01\\r   --------------- ------------------------ 4.9/12.9 MB 17.2 MB/s eta 0:00:01\\r   ----------------- ---------------------- 5.5/12.9 MB 17.5 MB/s eta 0:00:01\\r   ------------------- -------------------- 6.2/12.9 MB 17.1 MB/s eta 0:00:01\\r   --------------------- ------------------ 6.9/12.9 MB 16.9 MB/s eta 0:00:01\\r   ---------------------- ----------------- 7.2/12.9 MB 15.8 MB/s eta 0:00:01\\r   ----------------------- ---------------- 7.5/12.9 MB 15.0 MB/s eta 0:00:01\\r   ------------------------ --------------- 7.9/12.9 MB 14.5 MB/s eta 0:00:01\\r   -------------------------- ------------- 8.4/12.9 MB 14.1 MB/s eta 0:00:01\\r   --------------------------- ------------ 8.8/12.9 MB 13.8 MB/s eta 0:00:01\\r   ---------------------------- ----------- 9.2/12.9 MB 13.7 MB/s eta 0:00:01\\r   ------------------------------ --------- 9.7/12.9 MB 13.2 MB/s eta 0:00:01\\r   ------------------------------- -------- 10.2/12.9 MB 13.0 MB/s eta 0:00:01\\r   --------------------------------- ------ 10.6/12.9 MB 13.1 MB/s eta 0:00:01\\r   ---------------------------------- ----- 11.1/12.9 MB 12.8 MB/s eta 0:00:01\\r   ------------------------------------ --- 11.7/12.9 MB 12.4 MB/s eta 0:00:01\\r   ------------------------------------- -- 12.2/12.9 MB 11.9 MB/s eta 0:00:01\\r   ---------------------------------------  12.7/12.9 MB 11.5 MB/s eta 0:00:01\\r   ---------------------------------------  12.9/12.9 MB 11.5 MB/s eta 0:00:01\\r   ---------------------------------------- 12.9/12.9 MB 11.1 MB/s eta 0:00:00\\r\\nInstalling collected packages: numpy\\r\\nSuccessfully installed numpy-2.1.1\\r\\n'\n"
     ]
    }
   ],
   "source": [
    "import subprocess\n",
    "\n",
    "# Define the path to requirements.txt\n",
    "requirements_file = 'requirements.txt'\n",
    "\n",
    "# Activate the virtual environment and install requirements\n",
    "if os.path.exists(requirements_file):\n",
    "    print(\"Installing requirements...\")\n",
    "    result = subprocess.run(f'pip install -r {requirements_file}', shell=True, check=True, capture_output=True)\n",
    "    print(result.stdout)\n",
    "\n",
    "\n",
    "else:\n",
    "    print(\"requirements.txt not found. Please make sure the file is in the same directory.\")\n"
   ]
  }
 ],
 "metadata": {
  "kernelspec": {
   "display_name": "Python 3",
   "language": "python",
   "name": "python3"
  },
  "language_info": {
   "codemirror_mode": {
    "name": "ipython",
    "version": 3
   },
   "file_extension": ".py",
   "mimetype": "text/x-python",
   "name": "python",
   "nbconvert_exporter": "python",
   "pygments_lexer": "ipython3",
   "version": "3.11.9"
  }
 },
 "nbformat": 4,
 "nbformat_minor": 2
}
